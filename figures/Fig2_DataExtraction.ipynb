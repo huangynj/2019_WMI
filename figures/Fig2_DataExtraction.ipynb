{
 "cells": [
  {
   "cell_type": "code",
   "execution_count": 1,
   "metadata": {},
   "outputs": [],
   "source": [
    "import sys\n",
    "sys.path.insert(0, \"/users/jwindmil/2019_WMI/util\")\n",
    "\n",
    "# Initial imports\n",
    "import Landau_Potential_Diffusion as Landau\n",
    "import curvature as curve\n",
    "\n",
    "import xarray as xr\n",
    "import numpy as np\n",
    "import numpy.fft as fft\n",
    "import matplotlib.pyplot as plt\n",
    "import datetime\n",
    "from skimage import measure\n",
    "from scipy import ndimage, stats\n",
    "import scipy.integrate as sin\n",
    "from scipy.optimize import curve_fit\n",
    "from scipy.signal import argrelextrema\n",
    "from scipy.ndimage.filters import gaussian_filter1d\n",
    "import random\n",
    "import pandas as pd\n",
    "import dask.array as da\n",
    "import matplotlib as mpl\n",
    "\n",
    "import pickle"
   ]
  },
  {
   "cell_type": "code",
   "execution_count": 2,
   "metadata": {},
   "outputs": [],
   "source": [
    "def edgTObin(edges):\n",
    "    return 0.5*(edges[1:]+edges[:-1])"
   ]
  },
  {
   "cell_type": "code",
   "execution_count": 3,
   "metadata": {},
   "outputs": [],
   "source": [
    "def cm_to_inch(m_cm):\n",
    "    return m_cm/2.54"
   ]
  },
  {
   "cell_type": "code",
   "execution_count": 4,
   "metadata": {},
   "outputs": [],
   "source": [
    "def find_index(time_A, time_cond):\n",
    "    ind = np.where(time_A == time_cond)[0][0]\n",
    "    return ind "
   ]
  },
  {
   "cell_type": "code",
   "execution_count": 5,
   "metadata": {},
   "outputs": [],
   "source": [
    "def get_all_values(dic_values):\n",
    "    values = []\n",
    "    for i_k, key in enumerate(dic_values.keys()):\n",
    "        values.extend(dic_values[key])\n",
    "    return values"
   ]
  },
  {
   "cell_type": "markdown",
   "metadata": {},
   "source": [
    "# Potential and LFE \n",
    "\n",
    "i) RCE\n",
    "\n",
    "ii) ERA 5"
   ]
  },
  {
   "cell_type": "code",
   "execution_count": 7,
   "metadata": {},
   "outputs": [],
   "source": [
    "dic_Fig2 = {'V':{}, 'H':{}, 'CL':{}, 'PDF':{}}"
   ]
  },
  {
   "cell_type": "markdown",
   "metadata": {},
   "source": [
    "### RCE"
   ]
  },
  {
   "cell_type": "markdown",
   "metadata": {},
   "source": [
    "Load RCE data"
   ]
  },
  {
   "cell_type": "code",
   "execution_count": 8,
   "metadata": {},
   "outputs": [],
   "source": [
    "path_RCE = '/project/s916/davidle/RCE-MIP/simulations/RCE_300_3km_506x506/output/'"
   ]
  },
  {
   "cell_type": "code",
   "execution_count": 9,
   "metadata": {},
   "outputs": [],
   "source": [
    "RCE300 = xr.open_mfdataset(path_RCE+'lfff????????.nc', chunks={'time':100}, combine='by_coords')"
   ]
  },
  {
   "cell_type": "markdown",
   "metadata": {},
   "source": [
    "Calculate CWV tendencies"
   ]
  },
  {
   "cell_type": "code",
   "execution_count": 10,
   "metadata": {},
   "outputs": [],
   "source": [
    "dt = 3600; # Timestep in seconds\n",
    "tcoor = dt*np.arange(0,RCE300.time.shape[0])\n",
    "\n",
    "t_range = np.arange(0,np.size(RCE300.time)-2)\n",
    "dPW_dt = (RCE300.TQV.values[t_range+2,:,:]-RCE300.TQV.values[t_range,:,:])/(2*dt)\n",
    "dPW_dt = np.concatenate((dPW_dt[0:1,:,:],dPW_dt,np.tile(dPW_dt[-1,:,:],(1,1,1))),axis=0)"
   ]
  },
  {
   "cell_type": "markdown",
   "metadata": {},
   "source": [
    "Calculate Potential from CWV tendencies"
   ]
  },
  {
   "cell_type": "code",
   "execution_count": 11,
   "metadata": {},
   "outputs": [
    {
     "name": "stdout",
     "output_type": "stream",
     "text": [
      "ibin= 30 / 30  & edge= 86.321466\r"
     ]
    }
   ],
   "source": [
    "bin0=np.percentile(a=RCE300.TQV[-24*7:,:,:],q=50,axis=(0,1,2))\n",
    "tmp,binm,V = Landau.Landau_energy(RCE300.TQV,dPW_dt,bin0,N_bins=30)"
   ]
  },
  {
   "cell_type": "code",
   "execution_count": 12,
   "metadata": {},
   "outputs": [],
   "source": [
    "dbin = (binm[1:]-binm[:-1])[0]\n",
    "binc = binm-0.5*dbin\n",
    "binc = np.append(binc, binc[-1]+dbin)"
   ]
  },
  {
   "cell_type": "code",
   "execution_count": 13,
   "metadata": {},
   "outputs": [],
   "source": [
    "dic_Fig2['V']['RCE']={'V':V, 'bin_edge':binm}"
   ]
  },
  {
   "cell_type": "markdown",
   "metadata": {},
   "source": [
    "Calculate Hamiltonian from CWV field and fixed potential"
   ]
  },
  {
   "cell_type": "code",
   "execution_count": 14,
   "metadata": {},
   "outputs": [],
   "source": [
    "Ffinal_RCE,binm_Ffinal_RCE,tmp = Landau.Landau_energy(RCE300.TQV.values,N_bins=30,V_fixed=V,bin_fixed=binm)"
   ]
  },
  {
   "cell_type": "code",
   "execution_count": 15,
   "metadata": {},
   "outputs": [],
   "source": [
    "dic_Fig2['H']['RCE']={'H':Ffinal_RCE, 'time':tcoor}"
   ]
  },
  {
   "cell_type": "markdown",
   "metadata": {},
   "source": [
    "Calculate Histogram"
   ]
  },
  {
   "cell_type": "code",
   "execution_count": 16,
   "metadata": {},
   "outputs": [],
   "source": [
    "SPINstart = 4 #day\n",
    "SPINend   = 6 #day\n",
    "\n",
    "COALstart = 9 #day\n",
    "COALend   = 11#day\n",
    "\n",
    "COARstart =79 #day\n",
    "ENDstart  =81 #day"
   ]
  },
  {
   "cell_type": "code",
   "execution_count": 17,
   "metadata": {},
   "outputs": [],
   "source": [
    "CWV_PDF_SPIN,SPINedges = np.histogram(RCE300.TQV[(24*SPINstart):(24*SPINend),:,:],bins=binc,density=True)\n",
    "CWV_PDF_COAL,COALedges = np.histogram(RCE300.TQV[(24*COALstart):(24*COALend),:,:],bins=binc,density=True)\n",
    "CWV_PDF_COAR,COARedges = np.histogram(RCE300.TQV[(24*COARstart):(24*ENDstart),:,:],bins=binc,density=True)"
   ]
  },
  {
   "cell_type": "code",
   "execution_count": 18,
   "metadata": {},
   "outputs": [],
   "source": [
    "dic_Fig2['PDF']['RCE']={'1':[CWV_PDF_SPIN,SPINedges], '2':[CWV_PDF_COAL,COALedges], '3':[CWV_PDF_COAR,COARedges], 'time':[5,10,80]}"
   ]
  },
  {
   "cell_type": "markdown",
   "metadata": {},
   "source": [
    "Calculate Contour"
   ]
  },
  {
   "cell_type": "code",
   "execution_count": 19,
   "metadata": {},
   "outputs": [
    {
     "name": "stdout",
     "output_type": "stream",
     "text": [
      "it= 2399                                                                                               \r"
     ]
    }
   ],
   "source": [
    "dx = 3.3e3\n",
    "CL = np.zeros((np.size(tcoor),))\n",
    "\n",
    "perc_thresh_RCE = 88\n",
    "\n",
    "for it,t in enumerate(tcoor):\n",
    "    print('it=',it,'           ',end='\\r')\n",
    "    CWV_tmp = RCE300.TQV[it,:,:]\n",
    "    \n",
    "    CWV_binary = np.zeros(np.shape(CWV_tmp))\n",
    "    CWV_binary[CWV_tmp>np.percentile(RCE300.TQV[it,:,:], perc_thresh_RCE)] = 1\n",
    "\n",
    "    binary_boundary=np.copy(CWV_binary)\n",
    "    binary_boundary[:,1:-1]=0\n",
    "\n",
    "    L = dx*(measure.perimeter(CWV_binary,8)- np.sum(binary_boundary))\n",
    "        \n",
    "    CL[it] = L"
   ]
  },
  {
   "cell_type": "code",
   "execution_count": 20,
   "metadata": {},
   "outputs": [],
   "source": [
    "dic_Fig2['CL']['RCE']={'CL':CL, 'time':tcoor}"
   ]
  },
  {
   "cell_type": "markdown",
   "metadata": {},
   "source": [
    "### ERA 5"
   ]
  },
  {
   "cell_type": "code",
   "execution_count": 22,
   "metadata": {},
   "outputs": [],
   "source": [
    "path_ERA = '/project/s916/ERA5_Tom/'"
   ]
  },
  {
   "cell_type": "code",
   "execution_count": 23,
   "metadata": {},
   "outputs": [],
   "source": [
    "thresh_era5 = 83"
   ]
  },
  {
   "cell_type": "markdown",
   "metadata": {},
   "source": [
    "Restrict our analysis to a band of the tropical Atlantic"
   ]
  },
  {
   "cell_type": "code",
   "execution_count": 24,
   "metadata": {},
   "outputs": [],
   "source": [
    "latmin = -23\n",
    "latmax = 23\n",
    "lonmin = 360-34\n",
    "lonmax = 360-18"
   ]
  },
  {
   "cell_type": "code",
   "execution_count": 25,
   "metadata": {},
   "outputs": [],
   "source": [
    "date1, date2 = np.datetime64('2000-01-01T00:00'), np.datetime64('2017-12-31T23:00')\n",
    "dt = 3600"
   ]
  },
  {
   "cell_type": "code",
   "execution_count": 26,
   "metadata": {},
   "outputs": [],
   "source": [
    "PW = xr.open_mfdataset(path_ERA+'????/??PW.nc',combine='by_coords', chunks={'time':100})"
   ]
  },
  {
   "cell_type": "code",
   "execution_count": 27,
   "metadata": {},
   "outputs": [],
   "source": [
    "PWAtl = PW['tcwv'].sel({'time':slice(date1, date2), 'longitude':slice(lonmin,lonmax),'latitude':slice(latmax,latmin)})\n",
    "lonAtl = PW.longitude.sel({'longitude':slice(lonmin,lonmax)})\n",
    "latAtl = PW.latitude.sel({'latitude':slice(latmax,latmin)})"
   ]
  },
  {
   "cell_type": "code",
   "execution_count": 28,
   "metadata": {},
   "outputs": [],
   "source": [
    "time_A = PWAtl.time.values"
   ]
  },
  {
   "cell_type": "code",
   "execution_count": 29,
   "metadata": {},
   "outputs": [
    {
     "name": "stdout",
     "output_type": "stream",
     "text": [
      "i= 17  & year= 2017  \r"
     ]
    }
   ],
   "source": [
    "CONJUL_data = {}\n",
    "\n",
    "path_PKL = '/users/jwindmil/2019_WMI/dev/jwindmiller/PKL_DATA/'\n",
    "\n",
    "for i,year in enumerate(range(2000,2018)):\n",
    "    print('i=',i,' & year=',year,' ',end='\\r')\n",
    "    hf = open(path_PKL+'CONTOURL_PW_%i_%i_%i_%i_%i_'%(latmin, latmax, lonmin, lonmax, thresh_era5)+str(year)+'.pkl','rb') # open('../jwindmiller/PKL_DATA/10_17_CONTOURL'+str(year)+'.pkl','rb')\n",
    "    tmp = pickle.load(hf)\n",
    "    CONJUL_data[year] = tmp['Tot_Contour_km'][str(year)]\n",
    "    \n",
    "cont_t = np.array(get_all_values(CONJUL_data))"
   ]
  },
  {
   "cell_type": "code",
   "execution_count": 32,
   "metadata": {},
   "outputs": [
    {
     "data": {
      "text/plain": [
       "[numpy.datetime64('2005-11-23T14:00:00.000000000'),\n",
       " numpy.datetime64('2005-12-04T14:00:00.000000000'),\n",
       " numpy.datetime64('2005-12-07T14:00:00.000000000')]"
      ]
     },
     "execution_count": 32,
     "metadata": {},
     "output_type": "execute_result"
    }
   ],
   "source": [
    "with open('../jwindmiller/PKL_DATA/pik_times.dat', 'rb') as f:\n",
    "    times_A = pickle.load(f)"
   ]
  },
  {
   "cell_type": "code",
   "execution_count": 48,
   "metadata": {},
   "outputs": [],
   "source": [
    "time_period = time_A[np.where((time_A>times_A[0]-np.timedelta64(6,'h'))&(time_A<times_A[-1]+np.timedelta64(6,'h')))]\n",
    "cont_period = cont_t[np.where((time_A>times_A[0]-np.timedelta64(6,'h'))&(time_A<times_A[-1]+np.timedelta64(6,'h')))]"
   ]
  },
  {
   "cell_type": "code",
   "execution_count": 49,
   "metadata": {},
   "outputs": [],
   "source": [
    "dic_Fig2['CL']['ERA5']={'CL':cont_period, 'time':time_period}"
   ]
  },
  {
   "cell_type": "markdown",
   "metadata": {},
   "source": [
    "#### Calculate Potential and LFE"
   ]
  },
  {
   "cell_type": "code",
   "execution_count": 33,
   "metadata": {},
   "outputs": [],
   "source": [
    "times_Vstart = times_A[0] \n",
    "times_Vend   = times_A[1] \n",
    "\n",
    "ileftV = find_index(time_A, np.datetime64(times_Vstart))\n",
    "irightV = find_index(time_A, np.datetime64(times_Vend))"
   ]
  },
  {
   "cell_type": "code",
   "execution_count": 34,
   "metadata": {},
   "outputs": [],
   "source": [
    "PWAtl_res = PWAtl[ileftV-1:irightV+2,:,:].values # If can't fit in the memory, can't calculate potential"
   ]
  },
  {
   "cell_type": "code",
   "execution_count": 35,
   "metadata": {},
   "outputs": [],
   "source": [
    "dPW_dt = (PWAtl_res[2:,:,:]-PWAtl_res[:-2,:,:])/(2*dt)"
   ]
  },
  {
   "cell_type": "markdown",
   "metadata": {},
   "source": [
    "Calculate Potential"
   ]
  },
  {
   "cell_type": "code",
   "execution_count": 36,
   "metadata": {},
   "outputs": [
    {
     "name": "stdout",
     "output_type": "stream",
     "text": [
      "ibin= 50 / 50  & edge= 70.330814\r"
     ]
    }
   ],
   "source": [
    "tmp,binm_Vfinal,Vfinal = Landau.Landau_energy(PWAtl_res[1:-1,:,:],dPW_dt,N_bins=50)"
   ]
  },
  {
   "cell_type": "markdown",
   "metadata": {},
   "source": [
    "Calculate Potential (dis-aggregation phase)"
   ]
  },
  {
   "cell_type": "code",
   "execution_count": 37,
   "metadata": {},
   "outputs": [
    {
     "name": "stdout",
     "output_type": "stream",
     "text": [
      "ibin= 50 / 50  & edge= 66.424482\r"
     ]
    }
   ],
   "source": [
    "times_Vstart_DA = times_A[1] \n",
    "times_Vend_DA   = times_A[2] \n",
    "\n",
    "ileftV_DA = find_index(time_A, np.datetime64(times_Vstart_DA))\n",
    "irightV_DA = find_index(time_A, np.datetime64(times_Vend_DA))\n",
    "\n",
    "PWAtl_res_DA = PWAtl[ileftV_DA-1:irightV_DA+2,:,:].values # If can't fit in the memory, can't calculate potential\n",
    "\n",
    "dPW_dt_DA = (PWAtl_res_DA[2:,:,:]-PWAtl_res_DA[:-2,:,:])/(2*dt)\n",
    "\n",
    "tmp_DA,binm_Vfinal_DA,Vfinal_DA = Landau.Landau_energy(PWAtl_res_DA[1:-1,:,:],dPW_dt_DA,N_bins=50)"
   ]
  },
  {
   "cell_type": "code",
   "execution_count": 51,
   "metadata": {},
   "outputs": [],
   "source": [
    "dic_Fig2['V']['ERA5']={'Agg':{'V':Vfinal, 'bin_edge':binm_Vfinal}, 'Dis':{'V':Vfinal_DA, 'bin_edge':binm_Vfinal_DA}}"
   ]
  },
  {
   "cell_type": "markdown",
   "metadata": {},
   "source": [
    "Calculate LFE"
   ]
  },
  {
   "cell_type": "code",
   "execution_count": 39,
   "metadata": {},
   "outputs": [],
   "source": [
    "date_startF = times_A[0] \n",
    "date_endF   = times_A[-1]\n",
    "\n",
    "ileftF = find_index(time_A, np.datetime64(date_startF))\n",
    "irightF = find_index(time_A, np.datetime64(date_endF))\n",
    "PWAtl_F = PWAtl[ileftF:irightF,:,:]\n",
    "Ffinal,binm_Ffinal,tmp = Landau.Landau_energy(PWAtl_F.values,N_bins=30,V_fixed=Vfinal,bin_fixed=binm_Vfinal)"
   ]
  },
  {
   "cell_type": "code",
   "execution_count": 56,
   "metadata": {},
   "outputs": [],
   "source": [
    "dic_Fig2['H']['ERA5']={'H':Ffinal, 'time':time_A[ileftF:irightF]}"
   ]
  },
  {
   "cell_type": "markdown",
   "metadata": {},
   "source": [
    "Calculate histograms of CWV using bins of Potential"
   ]
  },
  {
   "cell_type": "code",
   "execution_count": 41,
   "metadata": {},
   "outputs": [],
   "source": [
    "dbin_Vfinal = (binm_Vfinal[1:]-binm_Vfinal[:-1])[0]\n",
    "binc_Vfinal = binm_Vfinal-0.5*dbin_Vfinal\n",
    "binc_Vfinal = np.append(binc_Vfinal, binc_Vfinal[-1]+dbin_Vfinal)"
   ]
  },
  {
   "cell_type": "code",
   "execution_count": 42,
   "metadata": {},
   "outputs": [
    {
     "data": {
      "text/plain": [
       "dict_keys(['23-Nov', '04-Dec', '07-Dec'])"
      ]
     },
     "execution_count": 42,
     "metadata": {},
     "output_type": "execute_result"
    }
   ],
   "source": [
    "dic_hist = {}\n",
    "times_labels = pd.to_datetime(times_A).strftime(\"%d-%b\")\n",
    "times_year   = int(pd.to_datetime(times_A[0]).strftime(\"%Y\"))\n",
    "\n",
    "for i, time in enumerate(times_A):\n",
    "    tmp = np.squeeze(PWAtl.sel({'time':slice(time-np.timedelta64(6,'h'), time+np.timedelta64(6,'h'))}).values)\n",
    "    hist, edges = np.histogram(np.ndarray.flatten(tmp), density = True, bins = binc_Vfinal)\n",
    "    \n",
    "    dic_hist[times_labels[i]]=hist\n",
    "    \n",
    "dic_hist.keys()"
   ]
  },
  {
   "cell_type": "code",
   "execution_count": 43,
   "metadata": {},
   "outputs": [],
   "source": [
    "dic_Fig2['PDF']['ERA5']={'1':[dic_hist['23-Nov'], edges], '2':[dic_hist['04-Dec'], edges], '3':[dic_hist['07-Dec'], edges],\n",
    "                        'time':['23-Nov', '04-Dec', '07-Dec']}"
   ]
  },
  {
   "cell_type": "code",
   "execution_count": 57,
   "metadata": {},
   "outputs": [],
   "source": [
    "with open('./PKL_DATA/dic_Fig2.pickle', 'wb') as handle:\n",
    "    pickle.dump(dic_Fig2, handle, protocol=pickle.HIGHEST_PROTOCOL)\n",
    "\n",
    "#with open('./PKL_DATA/dic_Fig2.pickle', 'rb') as handle:\n",
    "#    b = pickle.load(handle)"
   ]
  }
 ],
 "metadata": {
  "kernelspec": {
   "display_name": "Python 3",
   "language": "python",
   "name": "python3"
  },
  "language_info": {
   "codemirror_mode": {
    "name": "ipython",
    "version": 3
   },
   "file_extension": ".py",
   "mimetype": "text/x-python",
   "name": "python",
   "nbconvert_exporter": "python",
   "pygments_lexer": "ipython3",
   "version": "3.6.5"
  }
 },
 "nbformat": 4,
 "nbformat_minor": 4
}
