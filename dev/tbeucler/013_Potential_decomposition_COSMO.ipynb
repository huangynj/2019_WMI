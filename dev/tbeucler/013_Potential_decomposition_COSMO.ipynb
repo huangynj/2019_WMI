{
 "cells": [
  {
   "cell_type": "markdown",
   "metadata": {},
   "source": [
    "tgb - 10/16/2019 - Automatizing the calculation of the potential decomposition for COSMO because it takes too long and the connection resets before it's done"
   ]
  },
  {
   "cell_type": "code",
   "execution_count": 1,
   "metadata": {},
   "outputs": [
    {
     "name": "stderr",
     "output_type": "stream",
     "text": [
      "/users/tbeucler/miniconda3/lib/python3.7/site-packages/xarray/backends/api.py:783: FutureWarning: In xarray version 0.13 `auto_combine` will be deprecated.\n",
      "  coords=coords)\n",
      "/users/tbeucler/miniconda3/lib/python3.7/site-packages/xarray/backends/api.py:783: FutureWarning: The datasets supplied have global dimension coordinates. You may want\n",
      "to use the new `combine_by_coords` function (or the\n",
      "`combine='by_coords'` option to `open_mfdataset` to order the datasets\n",
      "before concatenation. Alternatively, to continue concatenating based\n",
      "on the order the datasets are supplied in in future, please use the\n",
      "new `combine_nested` function (or the `combine='nested'` option to\n",
      "open_mfdataset).\n",
      "  coords=coords)\n"
     ]
    },
    {
     "name": "stdout",
     "output_type": "stream",
     "text": [
      "ibin= 4 / 30  & edge= 3389098200.0\r"
     ]
    },
    {
     "name": "stderr",
     "output_type": "stream",
     "text": [
      "ERROR:root:Internal Python error in the inspect module.\n",
      "Below is the traceback from this internal error.\n",
      "\n"
     ]
    },
    {
     "name": "stdout",
     "output_type": "stream",
     "text": [
      "Traceback (most recent call last):\n",
      "  File \"/users/tbeucler/miniconda3/lib/python3.7/site-packages/IPython/core/interactiveshell.py\", line 3326, in run_code\n",
      "    exec(code_obj, self.user_global_ns, self.user_ns)\n",
      "  File \"<ipython-input-1-94ba0d88ac01>\", line 39, in <module>\n",
      "    tmp,binm,Vtot = Landau.Landau_energy(RCE300.FMSE,dMSE_dt,bin0,N_bins=30)\n",
      "  File \"/users/tbeucler/2019_WMI/dev/tbeucler/util/Landau_Potential_Diffusion.py\", line 145, in Landau_energy\n",
      "    else: binmid,V,tmp,tmp = potential(order_p,order_p_tendency,N_bins)\n",
      "  File \"/users/tbeucler/2019_WMI/dev/tbeucler/util/Landau_Potential_Diffusion.py\", line 51, in potential\n",
      "    forcing)\n",
      "  File \"/users/tbeucler/2019_WMI/dev/tbeucler/util/Landau_Potential_Diffusion.py\", line 37, in conditional_avg_and_std\n",
      "    Ym[ibin-1],Ystd[ibin-1] = weighted_avg_and_std(field_y,w)\n",
      "  File \"/users/tbeucler/2019_WMI/dev/tbeucler/util/Landau_Potential_Diffusion.py\", line 22, in weighted_avg_and_std\n",
      "    variance = np.average((values-average)**2, weights=weights)\n",
      "  File \"<__array_function__ internals>\", line 6, in average\n",
      "  File \"/users/tbeucler/miniconda3/lib/python3.7/site-packages/numpy/lib/function_base.py\", line 393, in average\n",
      "    wgt = np.asanyarray(weights)\n",
      "  File \"/users/tbeucler/miniconda3/lib/python3.7/site-packages/numpy/core/_asarray.py\", line 138, in asanyarray\n",
      "    return array(a, dtype, copy=False, order=order, subok=True)\n",
      "  File \"/users/tbeucler/miniconda3/lib/python3.7/site-packages/xarray/core/common.py\", line 105, in __array__\n",
      "    return np.asarray(self.values, dtype=dtype)\n",
      "  File \"/users/tbeucler/miniconda3/lib/python3.7/site-packages/xarray/core/dataarray.py\", line 490, in values\n",
      "    return self.variable.values\n",
      "  File \"/users/tbeucler/miniconda3/lib/python3.7/site-packages/xarray/core/variable.py\", line 389, in values\n",
      "    return _as_array_or_item(self._data)\n",
      "  File \"/users/tbeucler/miniconda3/lib/python3.7/site-packages/xarray/core/variable.py\", line 210, in _as_array_or_item\n",
      "    data = np.asarray(data)\n",
      "  File \"/users/tbeucler/miniconda3/lib/python3.7/site-packages/numpy/core/_asarray.py\", line 85, in asarray\n",
      "    return array(a, dtype, copy=False, order=order)\n",
      "  File \"/users/tbeucler/miniconda3/lib/python3.7/site-packages/dask/array/core.py\", line 1244, in __array__\n",
      "    x = self.compute()\n",
      "  File \"/users/tbeucler/miniconda3/lib/python3.7/site-packages/dask/base.py\", line 175, in compute\n",
      "    (result,) = compute(self, traverse=False, **kwargs)\n",
      "  File \"/users/tbeucler/miniconda3/lib/python3.7/site-packages/dask/base.py\", line 446, in compute\n",
      "    results = schedule(dsk, keys, **kwargs)\n",
      "  File \"/users/tbeucler/miniconda3/lib/python3.7/site-packages/dask/threaded.py\", line 82, in get\n",
      "    **kwargs\n",
      "  File \"/users/tbeucler/miniconda3/lib/python3.7/site-packages/dask/local.py\", line 480, in get_async\n",
      "    key, res_info, failed = queue_get(queue)\n",
      "  File \"/users/tbeucler/miniconda3/lib/python3.7/site-packages/dask/local.py\", line 144, in queue_get\n",
      "    return q.get()\n",
      "  File \"/users/tbeucler/miniconda3/lib/python3.7/queue.py\", line 170, in get\n",
      "    self.not_empty.wait()\n",
      "  File \"/users/tbeucler/miniconda3/lib/python3.7/threading.py\", line 296, in wait\n",
      "    waiter.acquire()\n",
      "KeyboardInterrupt\n",
      "\n",
      "During handling of the above exception, another exception occurred:\n",
      "\n",
      "Traceback (most recent call last):\n",
      "  File \"/users/tbeucler/miniconda3/lib/python3.7/site-packages/IPython/core/interactiveshell.py\", line 2040, in showtraceback\n",
      "    stb = value._render_traceback_()\n",
      "AttributeError: 'KeyboardInterrupt' object has no attribute '_render_traceback_'\n",
      "\n",
      "During handling of the above exception, another exception occurred:\n",
      "\n",
      "Traceback (most recent call last):\n",
      "  File \"/users/tbeucler/miniconda3/lib/python3.7/site-packages/IPython/core/ultratb.py\", line 1101, in get_records\n",
      "    return _fixed_getinnerframes(etb, number_of_lines_of_context, tb_offset)\n",
      "  File \"/users/tbeucler/miniconda3/lib/python3.7/site-packages/IPython/core/ultratb.py\", line 319, in wrapped\n",
      "    return f(*args, **kwargs)\n",
      "  File \"/users/tbeucler/miniconda3/lib/python3.7/site-packages/IPython/core/ultratb.py\", line 353, in _fixed_getinnerframes\n",
      "    records = fix_frame_records_filenames(inspect.getinnerframes(etb, context))\n",
      "  File \"/users/tbeucler/miniconda3/lib/python3.7/inspect.py\", line 1502, in getinnerframes\n",
      "    frameinfo = (tb.tb_frame,) + getframeinfo(tb, context)\n",
      "  File \"/users/tbeucler/miniconda3/lib/python3.7/inspect.py\", line 1464, in getframeinfo\n",
      "    lines, lnum = findsource(frame)\n",
      "  File \"/users/tbeucler/miniconda3/lib/python3.7/site-packages/IPython/core/ultratb.py\", line 185, in findsource\n",
      "    lines = linecache.getlines(file, globals_dict)\n",
      "  File \"/users/tbeucler/miniconda3/lib/python3.7/linecache.py\", line 47, in getlines\n",
      "    return updatecache(filename, module_globals)\n",
      "  File \"/users/tbeucler/miniconda3/lib/python3.7/linecache.py\", line 136, in updatecache\n",
      "    with tokenize.open(fullname) as fp:\n",
      "  File \"/users/tbeucler/miniconda3/lib/python3.7/tokenize.py\", line 449, in open\n",
      "    encoding, lines = detect_encoding(buffer.readline)\n",
      "  File \"/users/tbeucler/miniconda3/lib/python3.7/tokenize.py\", line 418, in detect_encoding\n",
      "    first = read_or_stop()\n",
      "  File \"/users/tbeucler/miniconda3/lib/python3.7/tokenize.py\", line 376, in read_or_stop\n",
      "    return readline()\n",
      "KeyboardInterrupt\n"
     ]
    },
    {
     "ename": "KeyboardInterrupt",
     "evalue": "",
     "output_type": "error",
     "traceback": [
      "\u001b[0;31m---------------------------------------------------------------------------\u001b[0m"
     ]
    }
   ],
   "source": [
    "import util.Landau_Potential_Diffusion as Landau\n",
    "import util.curvature as curve\n",
    "import util.pdf as PDF\n",
    "\n",
    "import xarray as xr\n",
    "import numpy as np\n",
    "import numpy.fft as fft\n",
    "import matplotlib.pyplot as plt\n",
    "import datetime\n",
    "from skimage import measure\n",
    "from scipy import ndimage\n",
    "import scipy.integrate as sin\n",
    "from scipy.optimize import curve_fit\n",
    "import matplotlib as mpl\n",
    "\n",
    "def bin_mid_to_edge(binm):\n",
    "    bine = 0.5*(binm[:-1]+binm[1:]) # bin_edges[1:-1]\n",
    "    return np.concatenate(([bine[0]-(bine[2]-bine[1])],bine,[bine[-1]+(bine[2]-bine[1])]))\n",
    "\n",
    "path = '/project/s916/davidle/RCE-MIP/simulations/RCE_300_3km_506x506/output/'\n",
    "\n",
    "RCE300 = xr.open_mfdataset(path+'lfff????????.nc')\n",
    "\n",
    "dt = 3600; # Timestep in seconds\n",
    "tcoor = dt*np.arange(0,RCE300.time.shape[0])\n",
    "\n",
    "t_range = np.arange(0,np.size(RCE300.time)-2)\n",
    "dMSE_dt = (RCE300.FMSE.values[t_range+2,:,:]-RCE300.FMSE.values[t_range,:,:])/(2*dt)\n",
    "dMSE_dt = np.concatenate((dMSE_dt[0:1,:,:],dMSE_dt,np.tile(dMSE_dt[-1,:,:],(1,1,1))),axis=0)\n",
    "\n",
    "SEF = -RCE300.SHFL_S - RCE300.LHFL_S\n",
    "SW = RCE300.ASOB_T-RCE300.ASOB_S\n",
    "LW = RCE300.ATHB_T-RCE300.ATHB_S\n",
    "DIAB = LW+SW+SEF\n",
    "ADV_MSE = dMSE_dt-DIAB\n",
    "\n",
    "bin0=np.percentile(a=RCE300.FMSE[-24*7:,:,:],q=50,axis=(0,1,2))\n",
    "\n",
    "tmp,binm,Vtot = Landau.Landau_energy(RCE300.FMSE,dMSE_dt,bin0,N_bins=30)\n",
    "tmp,tmp,Vsef = Landau.Landau_energy(RCE300.FMSE,SEF,bin0,N_bins=bin_mid_to_edge(binm))\n",
    "tmp,tmp,Vsw = Landau.Landau_energy(RCE300.FMSE,SW,bin0,N_bins=bin_mid_to_edge(binm))\n",
    "tmp,tmp,Vlw = Landau.Landau_energy(RCE300.FMSE,LW,bin0,N_bins=bin_mid_to_edge(binm))\n",
    "tmp,tmp,Vadv = Landau.Landau_energy(RCE300.FMSE,ADV_MSE,bin0,N_bins=bin_mid_to_edge(binm))\n",
    "\n",
    "X_pot = (binm-bin0)/2.5e6\n",
    "# Save potentials in .pkl file since they take a long time to calculate\n",
    "hf = open('PKL_DATA/10_15_VCOSMO.pkl','wb')\n",
    "V_data = {\"X_pot\":X_pot,\"Vtot\":Vtot,\"Vsef\":Vsef,\"Vsw\":Vsw,\"Vlw\":Vlw,\"Vadv\":Vadv,\"binm\":binm,\"bin0\":bin0}\n",
    "pickle.dump(V_data,hf)\n",
    "hf.close()"
   ]
  },
  {
   "cell_type": "code",
   "execution_count": null,
   "metadata": {},
   "outputs": [],
   "source": []
  }
 ],
 "metadata": {
  "kernelspec": {
   "display_name": "Python 3",
   "language": "python",
   "name": "python3"
  },
  "language_info": {
   "codemirror_mode": {
    "name": "ipython",
    "version": 3
   },
   "file_extension": ".py",
   "mimetype": "text/x-python",
   "name": "python",
   "nbconvert_exporter": "python",
   "pygments_lexer": "ipython3",
   "version": "3.7.3"
  }
 },
 "nbformat": 4,
 "nbformat_minor": 2
}
