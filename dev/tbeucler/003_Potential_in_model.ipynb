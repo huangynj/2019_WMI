{
 "cells": [
  {
   "cell_type": "markdown",
   "metadata": {},
   "source": [
    "tgb - 7/10/2019 - Ultimate goal is to make movies with WMI/Potential/Self-aggregation  \n",
    "Three steps:  \n",
    "1) Load data and make movies of PW in dam  \n",
    "2) Study MSE budget and construct potential  \n",
    "3) Make movie of potential and how it evolves in time"
   ]
  },
  {
   "cell_type": "code",
   "execution_count": 4,
   "metadata": {},
   "outputs": [],
   "source": [
    "import xarray as xr\n",
    "import numpy as np\n",
    "import matplotlib.pyplot as plt\n",
    "import datetime\n",
    "from ccam import *\n",
    "from skimage import measure"
   ]
  },
  {
   "cell_type": "markdown",
   "metadata": {},
   "source": [
    "# 1) Plot PW field and construct potential"
   ]
  },
  {
   "cell_type": "code",
   "execution_count": 2,
   "metadata": {},
   "outputs": [],
   "source": [
    "# DAM\n",
    "beg = '/scratch/b/b380882/'\n",
    "model = 'dam/'\n",
    "small = 'RCE_small'\n",
    "large = 'RCE_large'\n",
    "dim = '2D/'"
   ]
  },
  {
   "cell_type": "code",
   "execution_count": 26,
   "metadata": {},
   "outputs": [],
   "source": [
    "# ICON_LEM\n",
    "# beg = '/scratch/b/b380882/'\n",
    "# model = 'ICON_LEM_CRM/'\n",
    "# small = 'RCE_small_'\n",
    "# large = 'RCE_large_'\n",
    "# dim = '2D/'"
   ]
  },
  {
   "cell_type": "code",
   "execution_count": 19,
   "metadata": {},
   "outputs": [],
   "source": [
    "# SAM\n",
    "# beg = '/scratch/b/b380882/'\n",
    "# model = 'SAM_CRM/'\n",
    "# small = 'RCE_small'\n",
    "# large = 'RCE_large'\n",
    "# dim = '2D/'"
   ]
  },
  {
   "cell_type": "code",
   "execution_count": 3,
   "metadata": {},
   "outputs": [
    {
     "name": "stderr",
     "output_type": "stream",
     "text": [
      "/pf/b/b380882/miniconda3/lib/python3.7/site-packages/xarray/backends/api.py:783: FutureWarning: In xarray version 0.13 `auto_combine` will be deprecated.\n",
      "  coords=coords)\n",
      "/pf/b/b380882/miniconda3/lib/python3.7/site-packages/xarray/backends/api.py:783: FutureWarning: The datasets supplied have global dimension coordinates. You may want\n",
      "to use the new `combine_by_coords` function (or the\n",
      "`combine='by_coords'` option to `open_mfdataset` to order the datasets\n",
      "before concatenation. Alternatively, to continue concatenating based\n",
      "on the order the datasets are supplied in in future, please use the\n",
      "new `combine_nested` function (or the `combine='nested'` option to\n",
      "open_mfdataset).The datasets supplied require both concatenation and merging. From\n",
      "xarray version 0.14 this will operation will require either using the\n",
      "new `combine_nested` function (or the `combine='nested'` option to\n",
      "open_mfdataset), with a nested list structure such that you can combine\n",
      "along the dimensions None. Alternatively if your datasets have global\n",
      "dimension coordinates then you can use the new `combine_by_coords`\n",
      "function.\n",
      "  coords=coords)\n"
     ]
    }
   ],
   "source": [
    "# DAM\n",
    "PW300 = xr.open_mfdataset(beg+model+large+'300/'+dim+'*prw.nc')\n",
    "PW295 = xr.open_mfdataset(beg+model+large+'295/'+dim+'*prw.nc')\n",
    "PW305 = xr.open_mfdataset(beg+model+large+'305/'+dim+'*prw.nc')\n",
    "\n",
    "PWs300 = xr.open_mfdataset(beg+model+small+'300/'+dim+'*prw.nc')\n",
    "PWs295 = xr.open_mfdataset(beg+model+small+'295/'+dim+'*prw.nc')\n",
    "PWs305 = xr.open_mfdataset(beg+model+small+'305/'+dim+'*prw.nc')"
   ]
  },
  {
   "cell_type": "code",
   "execution_count": 4,
   "metadata": {},
   "outputs": [],
   "source": [
    "# ICON_LEM\n",
    "# PW300 = xr.open_mfdataset(beg+model+large+'300/'+dim+'ICON_LEM_CRM-'+large+'300'+'-'+dim[:-1]+'.nc')\n",
    "# PW295 = xr.open_mfdataset(beg+model+large+'295/'+dim+'ICON_LEM_CRM-'+large+'295'+'-'+dim[:-1]+'.nc')\n",
    "# PW305 = xr.open_mfdataset(beg+model+large+'305/'+dim+'ICON_LEM_CRM-'+large+'305'+'-'+dim[:-1]+'.nc')\n",
    "\n",
    "# PWs300 = xr.open_mfdataset(beg+model+small+'300/'+dim+'ICON_LEM_CRM-'+small+'300'+'-'+dim[:-1]+'.nc')\n",
    "# PWs295 = xr.open_mfdataset(beg+model+small+'295/'+dim+'ICON_LEM_CRM-'+small+'295'+'-'+dim[:-1]+'.nc')\n",
    "# PWs305 = xr.open_mfdataset(beg+model+small+'305/'+dim+'ICON_LEM_CRM-'+small+'305'+'-'+dim[:-1]+'.nc')"
   ]
  },
  {
   "cell_type": "code",
   "execution_count": 21,
   "metadata": {},
   "outputs": [],
   "source": [
    "# SAM\n",
    "# PW300 = xr.open_mfdataset(beg+model+large+'300/'+dim+'SAM_CRM_'+large+'300'+'_'+dim[:-1]+'_*prw.nc')\n",
    "# PW295 = xr.open_mfdataset(beg+model+large+'295/'+dim+'SAM_CRM_'+large+'295'+'_'+dim[:-1]+'_*prw.nc')\n",
    "# PW305 = xr.open_mfdataset(beg+model+large+'305/'+dim+'SAM_CRM_'+large+'305'+'_'+dim[:-1]+'_*prw.nc')\n",
    "\n",
    "# PWs300 = xr.open_mfdataset(beg+model+small+'300/'+dim+'SAM_CRM_'+small+'300'+'_'+dim[:-1]+'_*prw.nc')\n",
    "# PWs295 = xr.open_mfdataset(beg+model+small+'295/'+dim+'SAM_CRM_'+small+'295'+'_'+dim[:-1]+'_*prw.nc')\n",
    "# PWs305 = xr.open_mfdataset(beg+model+small+'305/'+dim+'SAM_CRM_'+small+'305'+'_'+dim[:-1]+'_*prw.nc')"
   ]
  },
  {
   "cell_type": "markdown",
   "metadata": {},
   "source": [
    "# 2) Time-evolution of PW and WMI"
   ]
  },
  {
   "cell_type": "code",
   "execution_count": 29,
   "metadata": {},
   "outputs": [],
   "source": [
    "PW300=PW295"
   ]
  },
  {
   "cell_type": "code",
   "execution_count": 30,
   "metadata": {},
   "outputs": [
    {
     "data": {
      "text/plain": [
       "(2400, 2592)"
      ]
     },
     "execution_count": 30,
     "metadata": {},
     "output_type": "execute_result"
    }
   ],
   "source": [
    "PW300.prw.mean(dim='y').shape"
   ]
  },
  {
   "cell_type": "code",
   "execution_count": 31,
   "metadata": {},
   "outputs": [
    {
     "data": {
      "image/png": "[encoded data removed]",
      "text/plain": [
       "<Figure size 1080x360 with 2 Axes>"
      ]
     },
     "metadata": {
      "needs_background": "light"
     },
     "output_type": "display_data"
    }
   ],
   "source": [
    "fz = 15\n",
    "\n",
    "plt.figure(figsize=(15,5))\n",
    "\n",
    "plt.contourf(PW300.time/(1e9*24*3600),PW300.x/1e6,PW300.prw.mean(dim='y').values.T,cmap='Purples')\n",
    "plt.xlabel('Time [day]',fontsize=fz)\n",
    "plt.ylabel('x [1000 km]',fontsize=fz)\n",
    "plt.title('Precipitable water [kg/m2]',fontsize=fz)\n",
    "cb = plt.colorbar()\n",
    "cb.ax.tick_params(labelsize=fz)"
   ]
  },
  {
   "cell_type": "code",
   "execution_count": 32,
   "metadata": {},
   "outputs": [],
   "source": [
    "def find_separation_bin(field,vmin=45,vmax=55,bins=100):\n",
    "# Inputs\n",
    "# field = field from which to take the pdf\n",
    "# vmin = minimal value of the interval over which min(PDF) will be searched\n",
    "# vmax = maximal value //\n",
    "# bins = Number of bins of the PDF\n",
    "\n",
    "    field_hist,bin_edges = np.histogram(field.flatten(),bins=bins)\n",
    "    bin_mid = 0.5*(bin_edges[:-1]+bin_edges[1:])\n",
    "\n",
    "    binary = (bin_mid<vmax)*(bin_mid>vmin)\n",
    "    imin =  np.argmin(field_hist[binary])+np.argmax(binary)\n",
    "\n",
    "    return bin_mid[imin],bin_mid"
   ]
  },
  {
   "cell_type": "code",
   "execution_count": 41,
   "metadata": {},
   "outputs": [],
   "source": [
    "a,bin_m = find_separation_bin(PW300.prw[2000:2400,:,:].values,vmin=10,vmax=28,bins=100)"
   ]
  },
  {
   "cell_type": "code",
   "execution_count": 42,
   "metadata": {},
   "outputs": [
    {
     "data": {
      "text/plain": [
       "15.742111283308514"
      ]
     },
     "execution_count": 42,
     "metadata": {},
     "output_type": "execute_result"
    }
   ],
   "source": [
    "a"
   ]
  },
  {
   "cell_type": "code",
   "execution_count": 43,
   "metadata": {},
   "outputs": [],
   "source": [
    "field_hist,bin_edges = np.histogram(PW300.prw[2000:2400,:,:].values.flatten(),bins=100)\n",
    "bin_mid = 0.5*(bin_edges[:-1]+bin_edges[1:])"
   ]
  },
  {
   "cell_type": "code",
   "execution_count": 55,
   "metadata": {},
   "outputs": [
    {
     "data": {
      "image/png": "[encoded data removed]",
      "text/plain": [
       "<Figure size 360x360 with 1 Axes>"
      ]
     },
     "metadata": {
      "needs_background": "light"
     },
     "output_type": "display_data"
    }
   ],
   "source": [
    "plt.figure(figsize=(5,5))\n",
    "\n",
    "ax = plt.subplot(111)\n",
    "ax.plot(bin_mid,field_hist/np.sum(field_hist))\n",
    "ax.axvline(x=a,color='k',linestyle='--')\n",
    "plt.xlabel('Precipitable Water [kg/m2]',fontsize=fz)\n",
    "plt.ylabel('Number of samples',fontsize=fz)\n",
    "\n",
    "for tick in ax.xaxis.get_major_ticks():\n",
    "    tick.label.set_fontsize(fz) "
   ]
  },
  {
   "cell_type": "code",
   "execution_count": 62,
   "metadata": {},
   "outputs": [
    {
     "name": "stdout",
     "output_type": "stream",
     "text": [
      "<xarray.DataArray 'x' ()>\n",
      "array(2500.)\n"
     ]
    }
   ],
   "source": [
    "dx = PW300.x[1]-PW300.x[0]\n",
    "print(dx)"
   ]
  },
  {
   "cell_type": "code",
   "execution_count": 75,
   "metadata": {},
   "outputs": [
    {
     "data": {
      "text/plain": [
       "(50, 144, 2592)"
      ]
     },
     "execution_count": 75,
     "metadata": {},
     "output_type": "execute_result"
    }
   ],
   "source": [
    "PW300.prw[:50,:,:].shape"
   ]
  },
  {
   "cell_type": "code",
   "execution_count": 77,
   "metadata": {},
   "outputs": [
    {
     "ename": "ValueError",
     "evalue": "applied function returned data with unexpected number of dimensions: 2 vs 0, for dimensions ()",
     "output_type": "error",
     "traceback": [
      "\u001b[0;31m---------------------------------------------------------------------------\u001b[0m",
      "\u001b[0;31mValueError\u001b[0m                                Traceback (most recent call last)",
      "\u001b[0;32m<ipython-input-77-14a32df347aa>\u001b[0m in \u001b[0;36m<module>\u001b[0;34m\u001b[0m\n\u001b[0;32m----> 1\u001b[0;31m \u001b[0mWMI_LC\u001b[0m \u001b[0;34m=\u001b[0m \u001b[0mcalc_WMI\u001b[0m\u001b[0;34m(\u001b[0m\u001b[0mPW300\u001b[0m\u001b[0;34m.\u001b[0m\u001b[0mprw\u001b[0m\u001b[0;34m[\u001b[0m\u001b[0;34m:\u001b[0m\u001b[0;36m50\u001b[0m\u001b[0;34m,\u001b[0m\u001b[0;34m:\u001b[0m\u001b[0;34m,\u001b[0m\u001b[0;34m:\u001b[0m\u001b[0;34m]\u001b[0m\u001b[0;34m,\u001b[0m\u001b[0mdx\u001b[0m\u001b[0;34m,\u001b[0m\u001b[0mCRH_sep\u001b[0m\u001b[0;34m=\u001b[0m\u001b[0;32mNone\u001b[0m\u001b[0;34m,\u001b[0m\u001b[0mslices\u001b[0m\u001b[0;34m=\u001b[0m\u001b[0;36m1\u001b[0m\u001b[0;34m,\u001b[0m\u001b[0mcircle\u001b[0m\u001b[0;34m=\u001b[0m\u001b[0;32mFalse\u001b[0m\u001b[0;34m)\u001b[0m\u001b[0;34m\u001b[0m\u001b[0;34m\u001b[0m\u001b[0m\n\u001b[0m",
      "\u001b[0;32m<ipython-input-76-a31528b5fd78>\u001b[0m in \u001b[0;36mcalc_WMI\u001b[0;34m(CRH, dx, CRH_sep, slices, circle)\u001b[0m\n\u001b[1;32m     24\u001b[0m     \u001b[0mbinary\u001b[0m\u001b[0;34m=\u001b[0m\u001b[0mnp\u001b[0m\u001b[0;34m.\u001b[0m\u001b[0masarray\u001b[0m\u001b[0;34m(\u001b[0m\u001b[0mbinary\u001b[0m\u001b[0;34m)\u001b[0m\u001b[0;34m\u001b[0m\u001b[0;34m\u001b[0m\u001b[0m\n\u001b[1;32m     25\u001b[0m \u001b[0;34m\u001b[0m\u001b[0m\n\u001b[0;32m---> 26\u001b[0;31m     \u001b[0mA_tot\u001b[0m \u001b[0;34m=\u001b[0m \u001b[0mnp\u001b[0m\u001b[0;34m.\u001b[0m\u001b[0msum\u001b[0m\u001b[0;34m(\u001b[0m\u001b[0mbinary\u001b[0m\u001b[0;34m,\u001b[0m\u001b[0maxis\u001b[0m\u001b[0;34m=\u001b[0m\u001b[0;34m(\u001b[0m\u001b[0;36m1\u001b[0m\u001b[0;34m,\u001b[0m\u001b[0;36m2\u001b[0m\u001b[0;34m)\u001b[0m\u001b[0;34m)\u001b[0m\u001b[0;34m*\u001b[0m\u001b[0;34m(\u001b[0m\u001b[0mdx\u001b[0m\u001b[0;34m**\u001b[0m\u001b[0;36m2\u001b[0m\u001b[0;34m)\u001b[0m\u001b[0;34m/\u001b[0m\u001b[0;36m1e12\u001b[0m\u001b[0;34m\u001b[0m\u001b[0;34m\u001b[0m\u001b[0m\n\u001b[0m\u001b[1;32m     27\u001b[0m     \u001b[0mperimeter_tot\u001b[0m \u001b[0;34m=\u001b[0m \u001b[0mnp\u001b[0m\u001b[0;34m.\u001b[0m\u001b[0mzeros\u001b[0m\u001b[0;34m(\u001b[0m\u001b[0mCRH\u001b[0m\u001b[0;34m.\u001b[0m\u001b[0mshape\u001b[0m\u001b[0;34m[\u001b[0m\u001b[0;36m0\u001b[0m\u001b[0;34m]\u001b[0m\u001b[0;34m)\u001b[0m\u001b[0;34m\u001b[0m\u001b[0;34m\u001b[0m\u001b[0m\n\u001b[1;32m     28\u001b[0m \u001b[0;34m\u001b[0m\u001b[0m\n",
      "\u001b[0;32m~/miniconda3/lib/python3.7/site-packages/xarray/core/arithmetic.py\u001b[0m in \u001b[0;36m__array_ufunc__\u001b[0;34m(self, ufunc, method, *inputs, **kwargs)\u001b[0m\n\u001b[1;32m     67\u001b[0m                            \u001b[0mdataset_fill_value\u001b[0m\u001b[0;34m=\u001b[0m\u001b[0mnp\u001b[0m\u001b[0;34m.\u001b[0m\u001b[0mnan\u001b[0m\u001b[0;34m,\u001b[0m\u001b[0;34m\u001b[0m\u001b[0;34m\u001b[0m\u001b[0m\n\u001b[1;32m     68\u001b[0m                            \u001b[0mkwargs\u001b[0m\u001b[0;34m=\u001b[0m\u001b[0mkwargs\u001b[0m\u001b[0;34m,\u001b[0m\u001b[0;34m\u001b[0m\u001b[0;34m\u001b[0m\u001b[0m\n\u001b[0;32m---> 69\u001b[0;31m                            dask='allowed')\n\u001b[0m\u001b[1;32m     70\u001b[0m \u001b[0;34m\u001b[0m\u001b[0m\n\u001b[1;32m     71\u001b[0m     \u001b[0;31m# this has no runtime function - these are listed so IDEs know these\u001b[0m\u001b[0;34m\u001b[0m\u001b[0;34m\u001b[0m\u001b[0;34m\u001b[0m\u001b[0m\n",
      "\u001b[0;32m~/miniconda3/lib/python3.7/site-packages/xarray/core/computation.py\u001b[0m in \u001b[0;36mapply_ufunc\u001b[0;34m(func, input_core_dims, output_core_dims, exclude_dims, vectorize, join, dataset_join, dataset_fill_value, keep_attrs, kwargs, dask, output_dtypes, output_sizes, *args)\u001b[0m\n\u001b[1;32m    966\u001b[0m                                      \u001b[0mjoin\u001b[0m\u001b[0;34m=\u001b[0m\u001b[0mjoin\u001b[0m\u001b[0;34m,\u001b[0m\u001b[0;34m\u001b[0m\u001b[0;34m\u001b[0m\u001b[0m\n\u001b[1;32m    967\u001b[0m                                      \u001b[0mexclude_dims\u001b[0m\u001b[0;34m=\u001b[0m\u001b[0mexclude_dims\u001b[0m\u001b[0;34m,\u001b[0m\u001b[0;34m\u001b[0m\u001b[0;34m\u001b[0m\u001b[0m\n\u001b[0;32m--> 968\u001b[0;31m                                      keep_attrs=keep_attrs)\n\u001b[0m\u001b[1;32m    969\u001b[0m     \u001b[0;32melif\u001b[0m \u001b[0many\u001b[0m\u001b[0;34m(\u001b[0m\u001b[0misinstance\u001b[0m\u001b[0;34m(\u001b[0m\u001b[0ma\u001b[0m\u001b[0;34m,\u001b[0m \u001b[0mVariable\u001b[0m\u001b[0;34m)\u001b[0m \u001b[0;32mfor\u001b[0m \u001b[0ma\u001b[0m \u001b[0;32min\u001b[0m \u001b[0margs\u001b[0m\u001b[0;34m)\u001b[0m\u001b[0;34m:\u001b[0m\u001b[0;34m\u001b[0m\u001b[0;34m\u001b[0m\u001b[0m\n\u001b[1;32m    970\u001b[0m         \u001b[0;32mreturn\u001b[0m \u001b[0mvariables_vfunc\u001b[0m\u001b[0;34m(\u001b[0m\u001b[0;34m*\u001b[0m\u001b[0margs\u001b[0m\u001b[0;34m)\u001b[0m\u001b[0;34m\u001b[0m\u001b[0;34m\u001b[0m\u001b[0m\n",
      "\u001b[0;32m~/miniconda3/lib/python3.7/site-packages/xarray/core/computation.py\u001b[0m in \u001b[0;36mapply_dataarray_vfunc\u001b[0;34m(func, signature, join, exclude_dims, keep_attrs, *args)\u001b[0m\n\u001b[1;32m    215\u001b[0m \u001b[0;34m\u001b[0m\u001b[0m\n\u001b[1;32m    216\u001b[0m     \u001b[0mdata_vars\u001b[0m \u001b[0;34m=\u001b[0m \u001b[0;34m[\u001b[0m\u001b[0mgetattr\u001b[0m\u001b[0;34m(\u001b[0m\u001b[0ma\u001b[0m\u001b[0;34m,\u001b[0m \u001b[0;34m'variable'\u001b[0m\u001b[0;34m,\u001b[0m \u001b[0ma\u001b[0m\u001b[0;34m)\u001b[0m \u001b[0;32mfor\u001b[0m \u001b[0ma\u001b[0m \u001b[0;32min\u001b[0m \u001b[0margs\u001b[0m\u001b[0;34m]\u001b[0m\u001b[0;34m\u001b[0m\u001b[0;34m\u001b[0m\u001b[0m\n\u001b[0;32m--> 217\u001b[0;31m     \u001b[0mresult_var\u001b[0m \u001b[0;34m=\u001b[0m \u001b[0mfunc\u001b[0m\u001b[0;34m(\u001b[0m\u001b[0;34m*\u001b[0m\u001b[0mdata_vars\u001b[0m\u001b[0;34m)\u001b[0m\u001b[0;34m\u001b[0m\u001b[0;34m\u001b[0m\u001b[0m\n\u001b[0m\u001b[1;32m    218\u001b[0m \u001b[0;34m\u001b[0m\u001b[0m\n\u001b[1;32m    219\u001b[0m     \u001b[0;32mif\u001b[0m \u001b[0msignature\u001b[0m\u001b[0;34m.\u001b[0m\u001b[0mnum_outputs\u001b[0m \u001b[0;34m>\u001b[0m \u001b[0;36m1\u001b[0m\u001b[0;34m:\u001b[0m\u001b[0;34m\u001b[0m\u001b[0;34m\u001b[0m\u001b[0m\n",
      "\u001b[0;32m~/miniconda3/lib/python3.7/site-packages/xarray/core/computation.py\u001b[0m in \u001b[0;36mapply_variable_ufunc\u001b[0;34m(func, signature, exclude_dims, dask, output_dtypes, output_sizes, keep_attrs, *args)\u001b[0m\n\u001b[1;32m    580\u001b[0m                 \u001b[0;34m'applied function returned data with unexpected '\u001b[0m\u001b[0;34m\u001b[0m\u001b[0;34m\u001b[0m\u001b[0m\n\u001b[1;32m    581\u001b[0m                 \u001b[0;34m'number of dimensions: {} vs {}, for dimensions {}'\u001b[0m\u001b[0;34m\u001b[0m\u001b[0;34m\u001b[0m\u001b[0m\n\u001b[0;32m--> 582\u001b[0;31m                 .format(data.ndim, len(dims), dims))\n\u001b[0m\u001b[1;32m    583\u001b[0m \u001b[0;34m\u001b[0m\u001b[0m\n\u001b[1;32m    584\u001b[0m         \u001b[0mvar\u001b[0m \u001b[0;34m=\u001b[0m \u001b[0mVariable\u001b[0m\u001b[0;34m(\u001b[0m\u001b[0mdims\u001b[0m\u001b[0;34m,\u001b[0m \u001b[0mdata\u001b[0m\u001b[0;34m,\u001b[0m \u001b[0mfastpath\u001b[0m\u001b[0;34m=\u001b[0m\u001b[0;32mTrue\u001b[0m\u001b[0;34m)\u001b[0m\u001b[0;34m\u001b[0m\u001b[0;34m\u001b[0m\u001b[0m\n",
      "\u001b[0;31mValueError\u001b[0m: applied function returned data with unexpected number of dimensions: 2 vs 0, for dimensions ()"
     ]
    }
   ],
   "source": [
    "WMI_LC = calc_WMI(PW300.prw[:50,:,:],dx,CRH_sep=None,slices=1,circle=False)"
   ]
  },
  {
   "cell_type": "code",
   "execution_count": null,
   "metadata": {},
   "outputs": [],
   "source": [
    "plt.figure(figsize=(15,5))\n",
    "\n",
    "plt.contourf(PW300.time/(1e9*24*3600),PW300.x/1e6,binary.mean(dim='y').values.T,cmap='Purples')\n",
    "plt.xlabel('Time [day]',fontsize=fz)\n",
    "plt.ylabel('x [1000 km]',fontsize=fz)\n",
    "plt.title('Precipitable water [kg/m2]',fontsize=fz)\n",
    "cb = plt.colorbar()\n",
    "cb.ax.tick_params(labelsize=fz)"
   ]
  },
  {
   "cell_type": "code",
   "execution_count": 76,
   "metadata": {},
   "outputs": [],
   "source": [
    "def calc_WMI(CRH,dx,CRH_sep=None, slices=1, circle=False):\n",
    "    ### Input: precipitable water field (time, x, y)\n",
    "    ### dx = Average grid spacing\n",
    "    ### CRH_sep = Value separating moist and dry regions\n",
    "    ### Returns: aggregation index calculated as 4*area*pi/(perimeter length)**2\n",
    "    ###          which compares the length of the boundary between the moist and \n",
    "    ###          the dry region with the circumference of the moist region\n",
    "    ###\n",
    "    ### Option: slices, slice longitude into s slices and compute averge WMI over subregions\n",
    "    \n",
    "    assert slices > 0, 'slices needs to be at least 1'\n",
    "    \n",
    "    if CRH_sep==None: CRH_sep = np.median(CRH, axis=(1,2))\n",
    "    else: CRH_sep = np.expand_dims(CRH_sep,axis=0)\n",
    "    tmp = np.repeat(CRH_sep[:, np.newaxis], CRH.shape[1], axis=1)\n",
    "    CRH_median_rep = np.repeat(tmp[:,:,np.newaxis],CRH.shape[2],axis=2)\n",
    "    \n",
    "    binary = CRH>CRH_median_rep\n",
    "    binary = binary.values #Convert to numpy array\n",
    "\n",
    "    #split region into n slices, assume that longitude is last dimension\n",
    "    #Todo, change axis to whatever longitude is\n",
    "    binary=np.array_split(binary, slices, axis=2)\n",
    "    binary=np.asarray(binary)\n",
    "    \n",
    "    A_tot = np.sum(binary,axis=(2,3))*(dx**2)/1e12\n",
    "    perimeter_tot = np.zeros(CRH.shape[0])\n",
    "    \n",
    "\n",
    "#    for it in range(len(np.median(CRH,axis=(1,2)))):\n",
    "    for it in range(len(np.median(CRH,axis=(1,2)))):\n",
    "      for s in range(slices): \n",
    "        #print(\"calculating time step %i\"%it)\n",
    "  \n",
    "        label_im, nb_labels = ndimage.label(binary[s,it,:,:])      \n",
    "        sizes = ndimage.sum(binary, label_im, range(nb_labels + 1)) #Sizes of connected area\n",
    "        mask = sizes == max(sizes) #Only take the largest connected region\n",
    "        binary_large = mask[label_im]\n",
    "           \n",
    "        #perimeter_tot[it] = dx*(measure.perimeter(binary[s,it,:,:],8) - measure.perimeter(binary[s,it,:,1:-2])/2)/1e6\n",
    "        perimeter_tot[it] = dx*(measure.perimeter(binary[s,it,:,:],8) - measure.perimeter(binary[s,it,:,1:-2])/2)/1e6\n",
    "        if it == 1:\n",
    "            plt.imshow(binary_large)           \n",
    "    print(np.shape(CRH)[2])\n",
    "    if circle == True:\n",
    "      WMI = np.mean(4*np.pi*A_tot/perimeter_tot**2, axis=0)\n",
    "    else:\n",
    "      #Compare contour to the width of the domain\n",
    "      WMI = 2*np.shape(CRH)[2]*dx/1e6/perimeter_tot #Compare to the width of the domain\n",
    "\n",
    "    return WMI"
   ]
  },
  {
   "cell_type": "code",
   "execution_count": 5,
   "metadata": {},
   "outputs": [],
   "source": [
    "# fz = 25\n",
    "# it = 1500\n",
    "# vmin = 0\n",
    "# vmax = 1\n",
    "\n",
    "# (f,sub) = plt.subplots(3,2,gridspec_kw={'width_ratios':[1,15],'wspace':0.05,'hspace':0.05})\n",
    "# f.set_size_inches((20,3))\n",
    "\n",
    "# for i in range(3):\n",
    "#     for j in range(2):\n",
    "    \n",
    "#         if i==0 and j==0: CRH = PWs295.prw/PWs295.sprw;\n",
    "#         elif i==0 and j==1: CRH = PW295.prw/PW295.sprw;\n",
    "#         elif i==1 and j==0: CRH = PWs300.prw/PWs300.sprw;\n",
    "#         elif i==1 and j==1: CRH = PW300.prw/PW300.sprw;\n",
    "#         elif i==2 and j==0: CRH = PWs305.prw/PWs305.sprw;\n",
    "#         elif i==2 and j==1: CRH = PW305.prw/PW305.sprw;\n",
    "\n",
    "#         sub[i][j].imshow(CRH.values[it,:,:],\\\n",
    "#                          vmin=vmin,vmax=vmax,cmap='Purples')\n",
    "#         sub[i][j].get_xaxis().set_ticks([])\n",
    "#         sub[i][j].get_yaxis().set_ticks([])\n",
    "        \n",
    "#         plt.subplots_adjust(wspace=0.05, hspace=0.05)\n",
    "        \n",
    "#         if j==1: \n",
    "#             if i==0: STR = '295K'\n",
    "#             elif i==1: STR = '300K'\n",
    "#             elif i==2: STR = '305K'\n",
    "#             plt.text(-0.041, 0.5,STR,horizontalalignment='center',\n",
    "#                      verticalalignment='center',\n",
    "#                      transform=sub[i][j].transAxes,\n",
    "#                      fontsize = fz)\n",
    "#             if i==0:\n",
    "#                 plt.text(0.5,1.2,\\\n",
    "#                          'Time = '+str(PW300.time[it].values/(1e9*24*3600))[:-11]+'days',\\\n",
    "#                          horizontalalignment='center',\n",
    "#                          verticalalignment='center',\n",
    "#                          transform=sub[i][j].transAxes,\n",
    "#                          fontsize = fz)\n",
    "\n",
    "# plt.savefig('JPG_DATA/it'+str(PW300.time[it].values/(1e9*24*3600))[:-11])\n",
    "# # # Now adding the colorbar\n",
    "# # cbar=plt.colorbar(extend=\"max\",location='bottom')"
   ]
  },
  {
   "cell_type": "code",
   "execution_count": 56,
   "metadata": {},
   "outputs": [
    {
     "data": {
      "text/plain": [
       "<Figure size 432x288 with 0 Axes>"
      ]
     },
     "metadata": {},
     "output_type": "display_data"
    }
   ],
   "source": [
    "plt.savefig('JPG_DATA/it'+str(PW300.time[it].values/(1e9*24*3600))[:-11])"
   ]
  },
  {
   "cell_type": "code",
   "execution_count": 18,
   "metadata": {},
   "outputs": [
    {
     "data": {
      "text/plain": [
       "['T',\n",
       " '__abs__',\n",
       " '__add__',\n",
       " '__and__',\n",
       " '__array__',\n",
       " '__array_finalize__',\n",
       " '__array_function__',\n",
       " '__array_interface__',\n",
       " '__array_prepare__',\n",
       " '__array_priority__',\n",
       " '__array_struct__',\n",
       " '__array_ufunc__',\n",
       " '__array_wrap__',\n",
       " '__bool__',\n",
       " '__class__',\n",
       " '__complex__',\n",
       " '__contains__',\n",
       " '__copy__',\n",
       " '__deepcopy__',\n",
       " '__delattr__',\n",
       " '__delitem__',\n",
       " '__dir__',\n",
       " '__divmod__',\n",
       " '__doc__',\n",
       " '__eq__',\n",
       " '__float__',\n",
       " '__floordiv__',\n",
       " '__format__',\n",
       " '__ge__',\n",
       " '__getattribute__',\n",
       " '__getitem__',\n",
       " '__gt__',\n",
       " '__hash__',\n",
       " '__iadd__',\n",
       " '__iand__',\n",
       " '__ifloordiv__',\n",
       " '__ilshift__',\n",
       " '__imatmul__',\n",
       " '__imod__',\n",
       " '__imul__',\n",
       " '__index__',\n",
       " '__init__',\n",
       " '__init_subclass__',\n",
       " '__int__',\n",
       " '__invert__',\n",
       " '__ior__',\n",
       " '__ipow__',\n",
       " '__irshift__',\n",
       " '__isub__',\n",
       " '__iter__',\n",
       " '__itruediv__',\n",
       " '__ixor__',\n",
       " '__le__',\n",
       " '__len__',\n",
       " '__lshift__',\n",
       " '__lt__',\n",
       " '__matmul__',\n",
       " '__mod__',\n",
       " '__mul__',\n",
       " '__ne__',\n",
       " '__neg__',\n",
       " '__new__',\n",
       " '__or__',\n",
       " '__pos__',\n",
       " '__pow__',\n",
       " '__radd__',\n",
       " '__rand__',\n",
       " '__rdivmod__',\n",
       " '__reduce__',\n",
       " '__reduce_ex__',\n",
       " '__repr__',\n",
       " '__rfloordiv__',\n",
       " '__rlshift__',\n",
       " '__rmatmul__',\n",
       " '__rmod__',\n",
       " '__rmul__',\n",
       " '__ror__',\n",
       " '__rpow__',\n",
       " '__rrshift__',\n",
       " '__rshift__',\n",
       " '__rsub__',\n",
       " '__rtruediv__',\n",
       " '__rxor__',\n",
       " '__setattr__',\n",
       " '__setitem__',\n",
       " '__setstate__',\n",
       " '__sizeof__',\n",
       " '__str__',\n",
       " '__sub__',\n",
       " '__subclasshook__',\n",
       " '__truediv__',\n",
       " '__xor__',\n",
       " 'all',\n",
       " 'any',\n",
       " 'argmax',\n",
       " 'argmin',\n",
       " 'argpartition',\n",
       " 'argsort',\n",
       " 'astype',\n",
       " 'base',\n",
       " 'byteswap',\n",
       " 'choose',\n",
       " 'clip',\n",
       " 'compress',\n",
       " 'conj',\n",
       " 'conjugate',\n",
       " 'copy',\n",
       " 'ctypes',\n",
       " 'cumprod',\n",
       " 'cumsum',\n",
       " 'data',\n",
       " 'diagonal',\n",
       " 'dot',\n",
       " 'dtype',\n",
       " 'dump',\n",
       " 'dumps',\n",
       " 'fill',\n",
       " 'flags',\n",
       " 'flat',\n",
       " 'flatten',\n",
       " 'getfield',\n",
       " 'imag',\n",
       " 'item',\n",
       " 'itemset',\n",
       " 'itemsize',\n",
       " 'max',\n",
       " 'mean',\n",
       " 'min',\n",
       " 'nbytes',\n",
       " 'ndim',\n",
       " 'newbyteorder',\n",
       " 'nonzero',\n",
       " 'partition',\n",
       " 'prod',\n",
       " 'ptp',\n",
       " 'put',\n",
       " 'ravel',\n",
       " 'real',\n",
       " 'repeat',\n",
       " 'reshape',\n",
       " 'resize',\n",
       " 'round',\n",
       " 'searchsorted',\n",
       " 'setfield',\n",
       " 'setflags',\n",
       " 'shape',\n",
       " 'size',\n",
       " 'sort',\n",
       " 'squeeze',\n",
       " 'std',\n",
       " 'strides',\n",
       " 'sum',\n",
       " 'swapaxes',\n",
       " 'take',\n",
       " 'tobytes',\n",
       " 'tofile',\n",
       " 'tolist',\n",
       " 'tostring',\n",
       " 'trace',\n",
       " 'transpose',\n",
       " 'var',\n",
       " 'view']"
      ]
     },
     "execution_count": 18,
     "metadata": {},
     "output_type": "execute_result"
    }
   ],
   "source": [
    "dir(sub)"
   ]
  },
  {
   "cell_type": "code",
   "execution_count": null,
   "metadata": {},
   "outputs": [],
   "source": []
  }
 ],
 "metadata": {
  "kernelspec": {
   "display_name": "Python 3",
   "language": "python",
   "name": "python3"
  },
  "language_info": {
   "codemirror_mode": {
    "name": "ipython",
    "version": 3
   },
   "file_extension": ".py",
   "mimetype": "text/x-python",
   "name": "python",
   "nbconvert_exporter": "python",
   "pygments_lexer": "ipython3",
   "version": "3.7.3"
  }
 },
 "nbformat": 4,
 "nbformat_minor": 2
}
