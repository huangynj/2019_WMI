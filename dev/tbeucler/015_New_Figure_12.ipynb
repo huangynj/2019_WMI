{
 "cells": [
  {
   "cell_type": "markdown",
   "metadata": {},
   "source": [
    "tgb - 1/8/2020 - Figures 1 and 2 for my birthday to prepare our MPI project for submission. Heavily based on Julia's notebooks:    \n",
    "Figure 1 = [https://github.com/tbeucler/2019_WMI/blob/master/dev/jwindmiller/Bistability_Fig1.ipynb]  \n",
    "Figure 1 long-time average for ERA = [https://github.com/tbeucler/2019_WMI/blob/master/dev/jwindmiller/Seasonal_cycle.ipynb]  \n",
    "Figure 1 PDF for COSMO = [https://github.com/tbeucler/2019_WMI/blob/master/dev/tbeucler/014_Unified_Figures_1_and_2.ipynb]\n",
    "Figure 2 = [https://github.com/tbeucler/2019_WMI/blob/master/dev/jwindmiller/Potential_LFE_Fig2.ipynb]"
   ]
  },
  {
   "cell_type": "markdown",
   "metadata": {},
   "source": [
    "# 0) Initialization"
   ]
  },
  {
   "cell_type": "markdown",
   "metadata": {},
   "source": [
    "## 0.1) Imports"
   ]
  },
  {
   "cell_type": "code",
   "execution_count": 1,
   "metadata": {},
   "outputs": [],
   "source": [
    "# Initial imports\n",
    "import util.Landau_Potential_Diffusion as Landau\n",
    "import util.curvature as curve\n",
    "import util.pdf as PDF\n",
    "\n",
    "import xarray as xr\n",
    "import numpy as np\n",
    "import numpy.fft as fft\n",
    "import matplotlib.pyplot as plt\n",
    "import matplotlib.dates as mdates\n",
    "import matplotlib.image as mpimg\n",
    "from matplotlib.gridspec import GridSpec\n",
    "import matplotlib as mpl\n",
    "import datetime\n",
    "from skimage import measure\n",
    "from scipy import ndimage, stats\n",
    "import scipy.integrate as sin\n",
    "from scipy.optimize import curve_fit\n",
    "from scipy.ndimage.filters import gaussian_filter1d\n",
    "import random\n",
    "import pandas as pd\n",
    "\n",
    "import pickle"
   ]
  },
  {
   "cell_type": "code",
   "execution_count": 2,
   "metadata": {},
   "outputs": [],
   "source": [
    "# Figure characteristics common to all Figures\n",
    "fz = 15\n",
    "lw = 3\n",
    "siz = 10\n",
    "\n",
    "plt.rc('text', usetex=False)\n",
    "plt.rc('font', family='serif', size=fz)\n",
    "mpl.rcParams['lines.linewidth'] = lw\n",
    "mpl.rcParams['lines.markersize'] = siz\n",
    "plt.close('all')\n",
    "\n",
    "# Physical constants\n",
    "stday = 24*3600"
   ]
  },
  {
   "cell_type": "markdown",
   "metadata": {},
   "source": [
    "## 0.2) Utilities"
   ]
  },
  {
   "cell_type": "code",
   "execution_count": 3,
   "metadata": {},
   "outputs": [],
   "source": [
    "class Bunch(object):\n",
    "  \n",
    "    def __init__(self, adict):\n",
    "        self.__dict__.update(adict)"
   ]
  },
  {
   "cell_type": "code",
   "execution_count": 4,
   "metadata": {},
   "outputs": [],
   "source": [
    "def edgTObin(edges):\n",
    "    return 0.5*(edges[1:]+edges[:-1])"
   ]
  },
  {
   "cell_type": "code",
   "execution_count": 5,
   "metadata": {},
   "outputs": [],
   "source": [
    "def get_all_values(dic_values):\n",
    "    values = []\n",
    "    for i_k, key in enumerate(dic_values.keys()):\n",
    "        values.extend(dic_values[key])\n",
    "    return values"
   ]
  },
  {
   "cell_type": "markdown",
   "metadata": {},
   "source": [
    "# 1) Figure 1"
   ]
  },
  {
   "cell_type": "markdown",
   "metadata": {},
   "source": [
    "## 1.1) COSMO simulations (Fig 1a and 1c)"
   ]
  },
  {
   "cell_type": "markdown",
   "metadata": {},
   "source": [
    "### 1.1.1) Figure 1a = Final (aggregated) state of column water vapor"
   ]
  },
  {
   "cell_type": "markdown",
   "metadata": {},
   "source": [
    "#### Make Figure"
   ]
  },
  {
   "cell_type": "code",
   "execution_count": 6,
   "metadata": {},
   "outputs": [],
   "source": [
    "path_RCE = '/project/s916/davidle/RCE-MIP/simulations/RCE_300_3km_506x506/output/'"
   ]
  },
  {
   "cell_type": "code",
   "execution_count": null,
   "metadata": {},
   "outputs": [],
   "source": [
    "RCE300 = xr.open_mfdataset(path_RCE+'lfff????????.nc')"
   ]
  },
  {
   "cell_type": "code",
   "execution_count": null,
   "metadata": {},
   "outputs": [],
   "source": [
    "RCE300"
   ]
  },
  {
   "cell_type": "code",
   "execution_count": null,
   "metadata": {},
   "outputs": [],
   "source": [
    "SPINstart = 0 #days\n",
    "COALstart = 11 #days\n",
    "COARstart = 25 #days\n",
    "ENDstart = 85 # days"
   ]
  },
  {
   "cell_type": "code",
   "execution_count": null,
   "metadata": {},
   "outputs": [],
   "source": [
    "CWV_agg = RCE300.TQV[(24*ENDstart):].mean(dim='time')"
   ]
  },
  {
   "cell_type": "code",
   "execution_count": null,
   "metadata": {},
   "outputs": [],
   "source": [
    "CWV_agg"
   ]
  },
  {
   "cell_type": "code",
   "execution_count": null,
   "metadata": {},
   "outputs": [],
   "source": [
    "toplot = CWV_agg.values"
   ]
  },
  {
   "cell_type": "code",
   "execution_count": null,
   "metadata": {},
   "outputs": [],
   "source": [
    "dx = 3.3\n",
    "x = dx*CWV_agg.rlon\n",
    "y = dx*CWV_agg.rlat"
   ]
  },
  {
   "cell_type": "code",
   "execution_count": null,
   "metadata": {},
   "outputs": [],
   "source": [
    "fig,ax = plt.subplots(figsize=(7.5,7.5))\n",
    "\n",
    "\n",
    "ax.contour(x,y, toplot,[48.00],colors='k')\n",
    "cont_levels = np.linspace(20,75,25)\n",
    "im = ax.contourf(x, y, toplot, cont_levels, vmin = 20, vmax = 75, extend='both')\n",
    "ax.set_xlabel('x [km]')\n",
    "ax.set_ylabel('y [km]')\n",
    "ax.set_title('(a) Time-mean CWV (day 85-100) in RCE')\n",
    "cbar = plt.colorbar(im)"
   ]
  },
  {
   "cell_type": "markdown",
   "metadata": {},
   "source": [
    "#### Save reduced data"
   ]
  },
  {
   "cell_type": "markdown",
   "metadata": {},
   "source": [
    "#### Make Figure from reduced data"
   ]
  },
  {
   "cell_type": "markdown",
   "metadata": {},
   "source": [
    "### 1.1.2) Figure 1c = PDF of column water vapor"
   ]
  },
  {
   "cell_type": "code",
   "execution_count": null,
   "metadata": {},
   "outputs": [],
   "source": [
    "# Load reduced data into dictionary S\n",
    "pathPKL = '/users/tbeucler/2019_WMI/dev/tbeucler/PKL_DATA/'\n",
    "path = pathPKL+'2019_11_19_Fig1a.pkl'\n",
    "hf = open(path,'rb')\n",
    "S = pickle.load(hf)"
   ]
  },
  {
   "cell_type": "code",
   "execution_count": null,
   "metadata": {},
   "outputs": [],
   "source": [
    "F1c = Bunch(S)"
   ]
  },
  {
   "cell_type": "code",
   "execution_count": null,
   "metadata": {},
   "outputs": [],
   "source": [
    "fig,ax = plt.subplots(figsize=(7.5,7.5))\n",
    "\n",
    "# Figure 1a\n",
    "ax2 = ax.twinx()\n",
    "\n",
    "# Shading goes in the back\n",
    "ax2.fill_between(edgTObin(F1c.SPINedges),F1c.SPIN_min,F1c.SPIN_max,color=1-(1-F1c.SPINrgb)/2)\n",
    "ax.fill_between(edgTObin(F1c.COALedges),F1c.COAL_min,F1c.COAL_max,color=1-(1-F1c.COALrgb)/2)\n",
    "ax.fill_between(edgTObin(F1c.COARedges),F1c.COAR_min,F1c.COAR_max,color=1-(1-F1c.COARrgb)/2)\n",
    "\n",
    "# Right axis = Day 11-100\n",
    "SPINline = ax2.plot(edgTObin(F1c.SPINedges),F1c.CWV_PDF_SPIN,color=F1c.SPINrgb,label='Day0 - Day11')\n",
    "# Add dots to indicate mean value of percentile chosen for MMLi\n",
    "ax2.scatter(x=F1c.SPIN_P48_mean,y=np.interp(x=F1c.SPIN_P48_mean,xp=edgTObin(F1c.SPINedges),fp=F1c.CWV_PDF_SPIN),color=F1c.SPINrgb)\n",
    "\n",
    "ax2.set_ylabel(r'$\\mathrm{PDF\\ }\\left[\\mathrm{kg^{-1}\\ m^{2}}\\right]$',color=F1c.SPINrgb)\n",
    "ax2.spines['right'].set_color(F1c.SPINrgb)\n",
    "ax2.tick_params(axis='y', colors=F1c.SPINrgb)\n",
    "ax2.set_ylim((0,ax2.get_ylim()[1]))\n",
    "leg2 = ax2.legend(frameon=False,bbox_to_anchor=(0,0,0.95,1))\n",
    "\n",
    "# Left axis = Day0-Day11\n",
    "COALline = ax.plot(edgTObin(F1c.COALedges),F1c.CWV_PDF_COAL,color=F1c.COALrgb,label='Day11 - Day25')\n",
    "COARline = ax.plot(edgTObin(F1c.COARedges),F1c.CWV_PDF_COAR,color=F1c.COARrgb,label='Day85 - Day100')\n",
    "# Add dots to indicate mean value of percentile chosen for MMLi\n",
    "ax.scatter(x=F1c.COAL_P48_mean,y=np.interp(x=F1c.COAL_P48_mean,xp=edgTObin(F1c.COALedges),fp=F1c.CWV_PDF_COAL),color=F1c.COALrgb)\n",
    "ax.scatter(x=F1c.COAR_P48_mean,y=np.interp(x=F1c.COAR_P48_mean,xp=edgTObin(F1c.COARedges),fp=F1c.CWV_PDF_COAR),color=F1c.COARrgb)\n",
    "\n",
    "leg = ax.legend(frameon=False,bbox_to_anchor=(0,0,1,0.95))\n",
    "ax.set_xlabel(r'$\\mathrm{Column\\ Water\\ Vapor\\ }\\left[\\mathrm{kg\\ m^{-2}}\\right]$')\n",
    "ax.set_ylabel(r'$\\mathrm{PDF\\ }\\left[\\mathrm{kg^{-1}\\ m^{2}}\\right]$')\n",
    "ax.set_ylim((0,ax.get_ylim()[1]))\n",
    "ax.set_title('(c) PDF of CWV in RCE')\n",
    "\n",
    "plt.draw()\n",
    "\n",
    "# Save figure\n",
    "path_home = '/users/tbeucler/'\n",
    "plt.savefig(path_home+'Fig1.pdf',format='pdf')"
   ]
  },
  {
   "cell_type": "markdown",
   "metadata": {},
   "source": [
    "## 1.2) ERA5 Reanalysis"
   ]
  },
  {
   "cell_type": "markdown",
   "metadata": {},
   "source": [
    "### 1.2.1) Figure 1b = Time-mean column water vapor field"
   ]
  },
  {
   "cell_type": "markdown",
   "metadata": {},
   "source": [
    "#### Make Figure"
   ]
  },
  {
   "cell_type": "code",
   "execution_count": null,
   "metadata": {},
   "outputs": [],
   "source": [
    "path_ERA = '/project/s916/ERA5_Tom/'"
   ]
  },
  {
   "cell_type": "code",
   "execution_count": null,
   "metadata": {},
   "outputs": [],
   "source": [
    "latmin = -23\n",
    "latmax = 23\n",
    "lonmin = 360-34\n",
    "lonmax = 360-18"
   ]
  },
  {
   "cell_type": "code",
   "execution_count": null,
   "metadata": {},
   "outputs": [],
   "source": [
    "date1, date2 = np.datetime64('2000-01-01T00:00'), np.datetime64('2017-12-31T23:00')"
   ]
  },
  {
   "cell_type": "code",
   "execution_count": null,
   "metadata": {},
   "outputs": [],
   "source": [
    "thresh = 83 #48mm in percentile"
   ]
  },
  {
   "cell_type": "code",
   "execution_count": null,
   "metadata": {},
   "outputs": [],
   "source": [
    "PW = xr.open_mfdataset(path+'????/??PW.nc',combine='by_coords')\n",
    "PWAtl = PW['tcwv'].sel({'time':slice(date1, date2), 'longitude':slice(lonmin,lonmax),'latitude':slice(latmax,latmin)})\n",
    "lonAtl = PW.longitude.sel({'longitude':slice(lonmin,lonmax)})\n",
    "latAtl = PW.latitude.sel({'latitude':slice(latmax,latmin)})"
   ]
  },
  {
   "cell_type": "code",
   "execution_count": 22,
   "metadata": {},
   "outputs": [],
   "source": [
    "PWAtl_mean = PWAtl.mean('time').values"
   ]
  },
  {
   "cell_type": "code",
   "execution_count": null,
   "metadata": {},
   "outputs": [],
   "source": [
    "time_A = PWAtl.time.values"
   ]
  },
  {
   "cell_type": "code",
   "execution_count": null,
   "metadata": {},
   "outputs": [],
   "source": [
    "LSM = xr.open_mfdataset(path+'ERA_LANDSEAMASK.nc')\n",
    "LSMAtl = LSM['lsm'].sel({'longitude':slice(lonmin,lonmax),'latitude':slice(latmax,latmin)})"
   ]
  },
  {
   "cell_type": "code",
   "execution_count": null,
   "metadata": {},
   "outputs": [],
   "source": [
    "# Calculate Area of domain assuming a rectangle (since we assumed constant dx for the contour)\n",
    "dx = 110/4 #km\n",
    "A_domain = PWAtl.shape[1]*PWAtl.shape[2]*(dx**2) #km**2\n",
    "L_band = 2.0*PWAtl.shape[2]*dx\n",
    "circle_sw = False"
   ]
  },
  {
   "cell_type": "code",
   "execution_count": null,
   "metadata": {},
   "outputs": [],
   "source": [
    "year = 2009\n",
    "YEAR = np.arange(2000,2018)# np.append(np.arange(2000,2014), np.arange(2015,2018)) #2014 is missing!"
   ]
  },
  {
   "cell_type": "code",
   "execution_count": 48,
   "metadata": {},
   "outputs": [
    {
     "name": "stdout",
     "output_type": "stream",
     "text": [
      "AxesSubplot(0.125,0.125;0.775x0.755)\n"
     ]
    },
    {
     "data": {
      "image/png": "[encoded data removed]",
      "text/plain": [
       "<Figure size 540x540 with 2 Axes>"
      ]
     },
     "metadata": {
      "needs_background": "light"
     },
     "output_type": "display_data"
    }
   ],
   "source": [
    "# Multi-year mean of CWV \n",
    "fig, axes = plt.subplots(1,1,figsize=(7.5,7.5))\n",
    "\n",
    "print(axes)\n",
    "\n",
    "tmp = PWAtl_mean\n",
    "\n",
    "axes.contour(lonAtl, latAtl, tmp, [48.00], colors=['k'])#, vmin = 2.7e9, vmax=2.85e9)\n",
    "cont_levels = np.linspace(20,55,25)\n",
    "im = axes.contourf(lonAtl, latAtl, tmp, cont_levels, vmin = 20, vmax = 55, extend='both')\n",
    "# for c in im.collections:\n",
    "#     c.set_edgecolor(\"face\")\n",
    "# axes.set_aspect('equal')\n",
    "\n",
    "locs = axes.get_xticks()\n",
    "labels = list(np.arange(len(locs)))\n",
    "for i_l, loc in enumerate(locs):\n",
    "    labels[i_l] = '%iW'%int(360-loc)\n",
    "axes.set_xticklabels(labels) \n",
    "\n",
    "locs = axes.get_yticks()\n",
    "labels = list(np.arange(len(locs)))\n",
    "for i_l, loc in enumerate(locs):\n",
    "    if loc >0:\n",
    "        labels[i_l] = '%iN'%int(loc)\n",
    "    elif loc == 0:\n",
    "        labels[i_l] = 'EQ'\n",
    "    else:\n",
    "        labels[i_l] = '%iS'%int(loc*-1)\n",
    "axes.set_yticklabels(labels)\n",
    "axes.set_title('(b) Time-mean CWV (2000-2017) in ERA5')\n",
    "\n",
    "cbar = plt.colorbar(im)"
   ]
  },
  {
   "cell_type": "markdown",
   "metadata": {},
   "source": [
    "#### Save reduced data"
   ]
  },
  {
   "cell_type": "markdown",
   "metadata": {},
   "source": [
    "#### Make Figure from reduced data"
   ]
  },
  {
   "cell_type": "markdown",
   "metadata": {},
   "source": [
    "### 1.2.2) Figure 1d = PDF of column water vapor for ERA"
   ]
  },
  {
   "cell_type": "markdown",
   "metadata": {},
   "source": [
    "#### Make Figure"
   ]
  },
  {
   "cell_type": "code",
   "execution_count": 50,
   "metadata": {},
   "outputs": [],
   "source": [
    "nbins = 30\n",
    "xbins = np.linspace(10, 70, 31)"
   ]
  },
  {
   "cell_type": "code",
   "execution_count": 52,
   "metadata": {},
   "outputs": [],
   "source": [
    "path_JuliaPKL = '/users/tbeucler/2019_WMI/dev/jwindmiller/PKL_DATA/'\n",
    "dic_hist = np.load(path_JuliaPKL+'CWV_hist_%i_%i_%i_%i_%i.npz'%(nbins, latmin, latmax, lonmin, lonmax))\n",
    "\n",
    "hist_total = dic_hist['hist_total']\n",
    "bin_edges = dic_hist['bin_edges']"
   ]
  },
  {
   "cell_type": "code",
   "execution_count": 54,
   "metadata": {},
   "outputs": [],
   "source": [
    "hist_cum = np.cumsum(hist_total)/np.sum(hist_total)"
   ]
  },
  {
   "cell_type": "code",
   "execution_count": 55,
   "metadata": {},
   "outputs": [],
   "source": [
    "hist_total = hist_total/np.sum(hist_total)/(bin_edges[1]-bin_edges[0])"
   ]
  },
  {
   "cell_type": "code",
   "execution_count": 56,
   "metadata": {},
   "outputs": [
    {
     "data": {
      "text/plain": [
       "[numpy.datetime64('2005-11-23T14:00:00.000000000'),\n",
       " numpy.datetime64('2005-12-04T14:00:00.000000000'),\n",
       " numpy.datetime64('2005-12-07T14:00:00.000000000')]"
      ]
     },
     "execution_count": 56,
     "metadata": {},
     "output_type": "execute_result"
    }
   ],
   "source": [
    "with open(path_JuliaPKL+'pik_times.dat', 'rb') as f:\n",
    "    times_A = pickle.load(f)\n",
    "times_A"
   ]
  },
  {
   "cell_type": "markdown",
   "metadata": {},
   "source": [
    "Modify times_A so that times_A[1] coincides with the minimum in contour length"
   ]
  },
  {
   "cell_type": "code",
   "execution_count": null,
   "metadata": {},
   "outputs": [],
   "source": [
    "plt.plot()"
   ]
  },
  {
   "cell_type": "markdown",
   "metadata": {},
   "source": [
    "Plot Figure"
   ]
  },
  {
   "cell_type": "code",
   "execution_count": null,
   "metadata": {},
   "outputs": [],
   "source": [
    "plt.close('all')\n",
    "\n",
    "fig,ax = plt.subplots(figsize=(7.5,7.5))\n",
    "\n",
    "x = np.linspace(10,75,161)\n",
    "\n",
    "\n",
    "\n",
    "for i, time in enumerate(times_A):\n",
    "\n",
    "    tmp = np.squeeze(PWAtl.sel({'time':slice(time-np.timedelta64(12,'h'), time+np.timedelta64(12,'h'))}).values) #np.squeeze(PWAtl.sel({'time':time}).values) #\n",
    "    #tmp = np.squeeze(PWAtl.sel({'time':time}).values) \n",
    "    \n",
    "    print(time, np.percentile(tmp, per_thresh_era5))\n",
    "    \n",
    "    if switch_kde:\n",
    "        density = stats.gaussian_kde(np.ndarray.flatten(tmp))\n",
    "        plt.plot(x, density(x), label = pd.to_datetime(time).strftime(\"%d-%b\"), color = col_A[i])\n",
    "    else:\n",
    "        hist, edges = np.histogram(np.ndarray.flatten(tmp), density = True, bins = xbins)\n",
    "        plt.plot(edgTObin(edges), hist, label = pd.to_datetime(time).strftime(\"%d-%b\"), color = col_A[i])\n",
    "        print(np.sum(hist*(edges[1:]-edges[:-1])))\n",
    "    \n",
    "    plt.legend(frameon=False)\n",
    "    #plt.vlines([np.percentile(tmp, per_thresh_era5)], 0.0, ymax, linestyle=':', color = 'C%i'%i)\n",
    "    \n",
    "#plt.plot(bin_centers, hist_total, 'k')\n",
    "plt.fill_between(bin_centers,hist_total, color = 'k',label='85d-100d', alpha = 0.1)\n",
    "    \n",
    "ymin, ymax = plt.ylim()\n",
    "plt.vlines([48], 0.0, ymax, linestyle=':')\n",
    "plt.ylim(0.0, 0.062)\n",
    "plt.yticks([0.0, 0.02, 0.04, 0.06])\n",
    "plt.xlim(xbins[0]-5, xbins[-1]+5)\n",
    "\n",
    "ax.set_xlabel(r'$\\mathrm{CWV}$ $\\left[\\mathrm{kg\\ m^{-2}}\\right]$')\n",
    "ax.set_ylabel(r'$\\mathrm{%s\\ }\\left[\\mathrm{kg^{-1}\\ m^{2}}\\right]$'%method)\n",
    "\n",
    "\n",
    "ax = plt.gca()\n",
    "ax.spines['right'].set_visible(False)\n",
    "ax.spines['top'].set_visible(False)\n",
    "\n",
    "ax.set_title('b)', loc = 'left')\n",
    "    \n",
    "plt.tight_layout()\n",
    "\n",
    "#plt.savefig('./Figures/Fig1b.pdf', bbox_inches = \"tight\")"
   ]
  },
  {
   "cell_type": "markdown",
   "metadata": {},
   "source": [
    "#### Save Reduced Data"
   ]
  },
  {
   "cell_type": "markdown",
   "metadata": {},
   "source": [
    "#### Make Figure from reduced data"
   ]
  },
  {
   "cell_type": "markdown",
   "metadata": {},
   "source": [
    "## 1.3) Combine all subplots into single Figure"
   ]
  },
  {
   "cell_type": "markdown",
   "metadata": {},
   "source": [
    "# 2) Figure 2"
   ]
  },
  {
   "cell_type": "markdown",
   "metadata": {},
   "source": [
    "## 2.1) COSMO simulations"
   ]
  },
  {
   "cell_type": "code",
   "execution_count": null,
   "metadata": {},
   "outputs": [],
   "source": []
  },
  {
   "cell_type": "code",
   "execution_count": null,
   "metadata": {},
   "outputs": [],
   "source": []
  },
  {
   "cell_type": "code",
   "execution_count": null,
   "metadata": {},
   "outputs": [],
   "source": []
  },
  {
   "cell_type": "markdown",
   "metadata": {},
   "source": [
    "## 2.2) ERA5 Reanalysis"
   ]
  },
  {
   "cell_type": "markdown",
   "metadata": {},
   "source": [
    "### Make Figure"
   ]
  },
  {
   "cell_type": "code",
   "execution_count": null,
   "metadata": {},
   "outputs": [],
   "source": [
    "CONJUL_data = {}\n",
    "\n",
    "path_PKL = '/users/tbeucler/2019_WMI/dev/jwindmiller/PKL_DATA/'\n",
    "\n",
    "for i,year in enumerate(range(2000,2018)):\n",
    "    print('i=',i,' & year=',year,' ',end='\\r')\n",
    "    hf = open(path_PKL+'CONTOURL_PW_%i_%i_%i_%i_%i_'%(latmin, latmax, lonmin, lonmax, thresh)+str(year)+'.pkl','rb') # open('../jwindmiller/PKL_DATA/10_17_CONTOURL'+str(year)+'.pkl','rb')\n",
    "    tmp = pickle.load(hf)\n",
    "    CONJUL_data[year] = tmp['Tot_Contour_km'][str(year)]\n",
    "    \n",
    "cont_t = np.array(get_all_values(CONJUL_data))"
   ]
  },
  {
   "cell_type": "code",
   "execution_count": null,
   "metadata": {},
   "outputs": [],
   "source": [
    "with open(path_PKL+'pik_times.dat', 'rb') as f:\n",
    "    times_A = pickle.load(f)\n",
    "times_A"
   ]
  },
  {
   "cell_type": "markdown",
   "metadata": {},
   "source": [
    "Find minimal contour between times_A[0] and times_A[2]"
   ]
  },
  {
   "cell_type": "code",
   "execution_count": null,
   "metadata": {},
   "outputs": [],
   "source": [
    "date1, date2 = np.datetime64('2005-01-01T00:00'), np.datetime64('2005-12-31T23:00')"
   ]
  },
  {
   "cell_type": "code",
   "execution_count": null,
   "metadata": {},
   "outputs": [],
   "source": [
    "PW2005 = PW['tcwv'].sel({'time':slice(date1, date2), 'longitude':slice(lonmin,lonmax),'latitude':slice(latmax,latmin)})"
   ]
  },
  {
   "cell_type": "code",
   "execution_count": 72,
   "metadata": {},
   "outputs": [
    {
     "data": {
      "text/plain": [
       "<xarray.DataArray 'time' (time: 8760)>\n",
       "array(['2005-01-01T00:00:00.000000000', '2005-01-01T01:00:00.000000000',\n",
       "       '2005-01-01T02:00:00.000000000', ..., '2005-12-31T21:00:00.000000000',\n",
       "       '2005-12-31T22:00:00.000000000', '2005-12-31T23:00:00.000000000'],\n",
       "      dtype='datetime64[ns]')\n",
       "Coordinates:\n",
       "  * time     (time) datetime64[ns] 2005-01-01 ... 2005-12-31T23:00:00\n",
       "Attributes:\n",
       "    long_name:  time"
      ]
     },
     "execution_count": 72,
     "metadata": {},
     "output_type": "execute_result"
    }
   ],
   "source": [
    "PW2005.time"
   ]
  },
  {
   "cell_type": "code",
   "execution_count": 65,
   "metadata": {},
   "outputs": [
    {
     "data": {
      "text/plain": [
       "(8760,)"
      ]
     },
     "execution_count": 65,
     "metadata": {},
     "output_type": "execute_result"
    }
   ],
   "source": [
    "CONJUL_data[2005].shape"
   ]
  },
  {
   "cell_type": "code",
   "execution_count": 67,
   "metadata": {},
   "outputs": [
    {
     "data": {
      "text/plain": [
       "365.0"
      ]
     },
     "execution_count": 67,
     "metadata": {},
     "output_type": "execute_result"
    }
   ],
   "source": [
    "8760/24"
   ]
  },
  {
   "cell_type": "code",
   "execution_count": 69,
   "metadata": {},
   "outputs": [
    {
     "data": {
      "text/plain": [
       "[<matplotlib.lines.Line2D at 0x2ab010138390>]"
      ]
     },
     "execution_count": 69,
     "metadata": {},
     "output_type": "execute_result"
    },
    {
     "data": {
      "image/png": "[encoded data removed]",
      "text/plain": [
       "<Figure size 432x288 with 1 Axes>"
      ]
     },
     "metadata": {
      "needs_background": "light"
     },
     "output_type": "display_data"
    }
   ],
   "source": [
    "plt.plot(PWCONJUL_data[2005][-24*35:])"
   ]
  },
  {
   "cell_type": "markdown",
   "metadata": {},
   "source": [
    "Modify times_A[1] accordingly"
   ]
  },
  {
   "cell_type": "code",
   "execution_count": null,
   "metadata": {},
   "outputs": [],
   "source": []
  },
  {
   "cell_type": "markdown",
   "metadata": {},
   "source": [
    "Calculate PW tendency, Potential, LFE"
   ]
  },
  {
   "cell_type": "code",
   "execution_count": null,
   "metadata": {},
   "outputs": [],
   "source": [
    "times_Vstart = times_A[0] \n",
    "times_Vend   = times_A[1] \n",
    "\n",
    "ileftV = find_index(time_A, np.datetime64(times_Vstart))\n",
    "irightV = find_index(time_A, np.datetime64(times_Vend))"
   ]
  },
  {
   "cell_type": "code",
   "execution_count": null,
   "metadata": {},
   "outputs": [],
   "source": [
    "PWAtl_res = PWAtl[ileftV-1:irightV+2,:,:].values # If can't fit in the memory, can't calculate potential"
   ]
  },
  {
   "cell_type": "code",
   "execution_count": null,
   "metadata": {},
   "outputs": [],
   "source": [
    "dPW_dt = (PWAtl_res[2:,:,:]-PWAtl_res[:-2,:,:])/(2*dt)"
   ]
  },
  {
   "cell_type": "code",
   "execution_count": null,
   "metadata": {},
   "outputs": [],
   "source": [
    "tmp,binm_Vfinal,Vfinal = Landau.Landau_energy(PWAtl_res[1:-1,:,:],dPW_dt,N_bins=50)"
   ]
  },
  {
   "cell_type": "code",
   "execution_count": null,
   "metadata": {},
   "outputs": [],
   "source": [
    "date_startF = times_A[0] \n",
    "date_endF   = times_A[-1]\n",
    "\n",
    "ileftF = find_index(time_A, np.datetime64(date_startF))\n",
    "irightF = find_index(time_A, np.datetime64(date_endF))\n",
    "PWAtl_F = PWAtl[ileftF:irightF,:,:]\n",
    "Ffinal,binm_Ffinal,tmp = Landau.Landau_energy(PWAtl_F.values,N_bins=30,V_fixed=Vfinal,bin_fixed=binm_Vfinal)"
   ]
  },
  {
   "cell_type": "code",
   "execution_count": null,
   "metadata": {},
   "outputs": [],
   "source": [
    "dbin_Vfinal = (binm_Vfinal[1:]-binm_Vfinal[:-1])[0]\n",
    "binc_Vfinal = binm_Vfinal-0.5*dbin_Vfinal\n",
    "binc_Vfinal = np.append(binc_Vfinal, binc_Vfinal[-1]+dbin_Vfinal)"
   ]
  },
  {
   "cell_type": "code",
   "execution_count": null,
   "metadata": {},
   "outputs": [],
   "source": [
    "dic_hist = {}\n",
    "times_labels = pd.to_datetime(times_A).strftime(\"%d-%b\")\n",
    "times_year   = int(pd.to_datetime(times_A[0]).strftime(\"%Y\"))\n",
    "\n",
    "for i, time in enumerate(times_A):\n",
    "    tmp = np.squeeze(PWAtl.sel({'time':slice(time-np.timedelta64(6,'h'), time+np.timedelta64(6,'h'))}).values)\n",
    "    hist, edges = np.histogram(np.ndarray.flatten(tmp), density = True, bins = binc_Vfinal)\n",
    "    \n",
    "    dic_hist[times_labels[i]]=hist\n",
    "    \n",
    "dic_hist.keys()"
   ]
  },
  {
   "cell_type": "code",
   "execution_count": null,
   "metadata": {},
   "outputs": [],
   "source": [
    "option = 'Agg' # Aggregating, potential averaged from imin_left to imax\n",
    "option = 'Dis' # Disaggregating, potential averaged from imax to imin_right\n",
    "\n",
    "plt.close('all')\n",
    "fig,ax = plt.subplots(2,1,figsize=(cm_to_inch(9), cm_to_inch(20)))\n",
    "plt.subplots_adjust(hspace=0.33)\n",
    "\n",
    "\n",
    "ax[0].set_title('b)',pad=20, loc = 'left')\n",
    "ax[0].set_xlabel(r'CWV [kg m$^{-2}$]')\n",
    "ax[0].set_ylabel(r'Potential [J$^{2}$ m$^{-4}$ s$^{-1}$]')\n",
    "#ax[0].yaxis.tick_right()\n",
    "#ax[0].yaxis.set_label_position(\"right\")\n",
    "\n",
    "ax[0].set_xlim(10,70)\n",
    "\n",
    "for i, time_lab in enumerate(times_labels):\n",
    "    ax[0].fill_between(binm_Vfinal, Vfinal, Vfinal+dic_hist[time_lab]*5e-3,color=col_A[i],label=time_lab, alpha = 0.25)\n",
    "    ax[0].plot(binm_Vfinal, Vfinal+dic_hist[time_lab]*5e-3,color=col_A[i])\n",
    "    \n",
    "ax[0].plot(binm_Vfinal, Vfinal,color='k')\n",
    "    \n",
    "nam = 'Fig2b.pdf'\n",
    "\n",
    "ax[0].legend(frameon=False)\n",
    "\n",
    "time_period = time_A[np.where((time_A>times_A[0]-np.timedelta64(6,'h'))&(time_A<times_A[-1]+np.timedelta64(6,'h')))]\n",
    "cont_period = cont_t[np.where((time_A>times_A[0]-np.timedelta64(6,'h'))&(time_A<times_A[-1]+np.timedelta64(6,'h')))]\n",
    "\n",
    "axbis = ax[1].twinx()\n",
    "axbis.plot(time_period, cont_period,color='C3')\n",
    "axbis.plot(time_period, gaussian_filter1d(cont_period, sigma=12), 'C3:')\n",
    "axbis.spines['right'].set_color('C3')\n",
    "axbis.tick_params(axis='y', colors='C3')\n",
    "\n",
    "axbis.set_ylabel('Contour Length [km]',color='C3')\n",
    "\n",
    "ax[0].spines['top'].set_visible(False)\n",
    "axbis.spines['top'].set_visible(False)\n",
    "\n",
    "ax[0].spines['right'].set_visible(False)\n",
    "axbis.spines['right'].set_visible(False)\n",
    "\n",
    "ax[1].plot(PWAtl_F.time, Ffinal,color='k')\n",
    "plt.setp(ax[1].xaxis.get_majorticklabels(), rotation=70 )\n",
    "\n",
    "\n",
    "# plt.ylim(100, 300)\n",
    "# ax1 = plt.gca()\n",
    "# ax2 = plt.twinx(ax1)\n",
    "# ax2.plot(time_period, cont_period, 'C1')\n",
    "# ax2.plot(time_period, gaussian_filter1d(cont_period, sigma=12), 'C1:')\n",
    "# #plt.xlim(date_startF[i_d], date_endF[i_d])\n",
    "# plt.ylim(1000, 10000)\n",
    "# plt.ylabel('Contour length', color = 'C1')\n",
    "\n",
    "ymin_F, ymax_F = 1.0e-4, 3.0e-4 #ax[1].get_ylim()\n",
    "ymin_C, ymax_C = 1e3, 1e4 # ax[0].get_ylim()\n",
    "\n",
    "axbis.set_ylim(ymin_C, ymax_C)\n",
    "\n",
    "# From https://matplotlib.org/3.1.1/gallery/lines_bars_and_markers/fill_between_demo.html\n",
    "import matplotlib.transforms as mtransforms\n",
    "trans = mtransforms.blended_transform_factory(ax[1].transData, ax[1].transAxes)\n",
    "\n",
    "for i, time in enumerate(times_A):\n",
    "\n",
    "    print(time-np.timedelta64(12,'h'), time+np.timedelta64(12,'h'))\n",
    "    ax[1].fill_between(x=time_period,y1=period_y_min,y2=period_y_max,where=(time_period<=(time+np.timedelta64(6,'h')))&(time_period>=(time-np.timedelta64(6,'h'))),\n",
    "                       facecolor=col_A[i],alpha=0.5,transform=trans, clip_on = False)\n",
    "    \n",
    "    print(len(np.where(((time_period>=(time-np.timedelta64(6,'h')))&(time_period<=(time+np.timedelta64(6,'h')))))[0]))\n",
    "\n",
    "ax[1].set_xlim((time_period.min(),time_period.max()))\n",
    "ax[1].set_ylim((ymin_F, ymax_F))\n",
    "ax[1].set_title('d)',loc='left', pad = 20)\n",
    "ax[1].set_ylabel(r'Free Energy [kg$^{2}$ m$^{-4}$ s$^{-1}$]')\n",
    "\n",
    "ax[0].ticklabel_format(style='sci',scilimits=(-3,4),axis='y')\n",
    "ax[1].ticklabel_format(style='sci',scilimits=(-3,4),axis='y')\n",
    "axbis.ticklabel_format(style='sci',scilimits=(-3,4),axis='y')\n",
    "\n",
    "plt.subplots_adjust(hspace = 0.4)\n",
    "\n",
    "ax[1].spines['top'].set_visible(False)\n",
    "axbis.spines['top'].set_visible(False)"
   ]
  },
  {
   "cell_type": "markdown",
   "metadata": {},
   "source": [
    "### Save reduced data"
   ]
  },
  {
   "cell_type": "code",
   "execution_count": null,
   "metadata": {},
   "outputs": [],
   "source": []
  },
  {
   "cell_type": "markdown",
   "metadata": {},
   "source": [
    "### Make Figure from reduced data"
   ]
  },
  {
   "cell_type": "code",
   "execution_count": null,
   "metadata": {},
   "outputs": [],
   "source": []
  }
 ],
 "metadata": {
  "kernelspec": {
   "display_name": "Python 3",
   "language": "python",
   "name": "python3"
  },
  "language_info": {
   "codemirror_mode": {
    "name": "ipython",
    "version": 3
   },
   "file_extension": ".py",
   "mimetype": "text/x-python",
   "name": "python",
   "nbconvert_exporter": "python",
   "pygments_lexer": "ipython3",
   "version": "3.7.3"
  },
  "toc": {
   "base_numbering": 1,
   "nav_menu": {},
   "number_sections": false,
   "sideBar": true,
   "skip_h1_title": false,
   "title_cell": "Table of Contents",
   "title_sidebar": "Contents",
   "toc_cell": false,
   "toc_position": {
    "height": "calc(100% - 180px)",
    "left": "10px",
    "top": "150px",
    "width": "307.2px"
   },
   "toc_section_display": true,
   "toc_window_display": true
  }
 },
 "nbformat": 4,
 "nbformat_minor": 2
}
