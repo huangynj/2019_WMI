{
 "cells": [
  {
   "cell_type": "markdown",
   "metadata": {},
   "source": [
    "tgb - 10/15/2019 - Drafting script to calculate diurnally-averaged shortwave heating for the ITCZ"
   ]
  },
  {
   "cell_type": "code",
   "execution_count": 1,
   "metadata": {},
   "outputs": [],
   "source": [
    "import util.Landau_Potential_Diffusion as Landau\n",
    "import util.curvature as curve\n",
    "import util.pdf as PDF\n",
    "\n",
    "import xarray as xr\n",
    "import numpy as np\n",
    "import numpy.fft as fft\n",
    "import matplotlib.pyplot as plt\n",
    "import matplotlib as mpl\n",
    "import datetime\n",
    "from skimage import measure\n",
    "from scipy import ndimage\n",
    "import scipy.integrate as sin\n",
    "from scipy.optimize import curve_fit\n",
    "\n",
    "import pickle\n",
    "import sys"
   ]
  },
  {
   "cell_type": "code",
   "execution_count": 18,
   "metadata": {},
   "outputs": [],
   "source": [
    "path = '/nfs/twcroninlab002/tbeucler/ERA5/ERA5_LHF_SHF/'\n",
    "path_PKL = '/nfs/twcroninlab002/tbeucler/2019_WMI/dev/tbeucler/PKL_DATA/'"
   ]
  },
  {
   "cell_type": "code",
   "execution_count": 3,
   "metadata": {},
   "outputs": [
    {
     "name": "stdout",
     "output_type": "stream",
     "text": [
      "[1, 1, 1, 1, 1, 1, 1, 1, 1, 1, 1, 1, 1, 1, 1, 1, 1, 1, 1, 1, 1, 1, 1, 1, 1, 1, 1, 1, 1, 1, 1, 1, 1, 1, 1, 1, 1, 1, 1, 1, 1, 1, 1, 1, 1, 1, 1, 1, 1, 1, 1, 1, 1, 1, 1, 1, 1, 1, 1, 1, 1, 1, 1, 1, 1, 1, 1, 1, 1, 1, 1, 1, 1, 1, 1, 1, 1, 1, 1, 1, 1, 1, 1, 1, 1, 1, 1, 1, 1, 1, 1, 1, 1, 1, 1, 1, 1, 1, 1, 1, 1, 1, 1, 1, 1, 1, 1, 1, 1, 1, 1, 1, 1, 1, 1, 1, 1, 1, 1, 1, 1, 1, 1, 1, 1, 1, 1, 1, 1, 1, 1, 1, 1, 1, 1, 1, 1, 1, 1, 1, 1, 1, 1, 1, 1, 1, 1, 1, 1, 1, 1, 1, 1, 1, 1, 1, 1, 1, 1, 1, 1, 1, 1, 1, 1, 1, 1, 1, 1, 1, 1, 1, 1, 1, 1, 1, 1, 1, 1, 1, 1, 1, 1, 1, 1, 1, 1, 1, 1, 1, 1, 1, 1, 1, 1, 1, 1, 1, 1, 1, 1, 1, 1, 1, 1, 1, 1, 1, 1, 1, 1, 1, 1, 1, 1, 1, 1, 1, 1, 1, 1, 1, 1, 1]\n"
     ]
    }
   ],
   "source": [
    "RAD = xr.open_mfdataset(path+'????/??RAD.nc',combine='by_coords')"
   ]
  },
  {
   "cell_type": "code",
   "execution_count": 5,
   "metadata": {},
   "outputs": [],
   "source": [
    "dt = 3600\n",
    "tcoor = dt*np.arange(0,RAD.time.shape[0])"
   ]
  },
  {
   "cell_type": "code",
   "execution_count": 8,
   "metadata": {},
   "outputs": [],
   "source": [
    "latmin = -30\n",
    "latmax = 30\n",
    "lonmin = 300\n",
    "lonmax = 360\n",
    "\n",
    "lonAtl = RAD.longitude.sel({'longitude':slice(lonmin,lonmax)})\n",
    "latAtl = RAD.latitude.sel({'latitude':slice(latmax,latmin)})"
   ]
  },
  {
   "cell_type": "code",
   "execution_count": 9,
   "metadata": {},
   "outputs": [],
   "source": [
    "SWAtl = RAD['tsr'].sel({'longitude':slice(lonmin,lonmax),'latitude':slice(latmax,latmin)})/3600-\\\n",
    "RAD['ssr'].sel({'longitude':slice(lonmin,lonmax),'latitude':slice(latmax,latmin)})/3600"
   ]
  },
  {
   "cell_type": "code",
   "execution_count": 10,
   "metadata": {},
   "outputs": [
    {
     "name": "stdout",
     "output_type": "stream",
     "text": [
      "[2000 2001 2002 2003 2004 2005 2006 2007 2008 2009 2010 2011 2012 2013\n",
      " 2014 2015 2016 2017 2018]\n"
     ]
    }
   ],
   "source": [
    "YEAR = np.linspace(2000,2018,19).astype(int)\n",
    "print(YEAR)"
   ]
  },
  {
   "cell_type": "code",
   "execution_count": 16,
   "metadata": {},
   "outputs": [
    {
     "name": "stdout",
     "output_type": "stream",
     "text": [
      "year= 2000\n",
      "i= 0  & year= 2000\n",
      "it= 3  & it_tot= 3                \r"
     ]
    },
    {
     "name": "stderr",
     "output_type": "stream",
     "text": [
      "ERROR:root:Internal Python error in the inspect module.\n",
      "Below is the traceback from this internal error.\n",
      "\n"
     ]
    },
    {
     "name": "stdout",
     "output_type": "stream",
     "text": [
      "Traceback (most recent call last):\n",
      "  File \"/home/tbeucler/miniconda3/lib/python3.7/site-packages/IPython/core/interactiveshell.py\", line 3325, in run_code\n",
      "    exec(code_obj, self.user_global_ns, self.user_ns)\n",
      "  File \"<ipython-input-16-b2d71b77c65e>\", line 16, in <module>\n",
      "    else: SWD[str(year)][it] = SWAtl[it_tot:(it_tot+24),:,:].mean(dim=('longitude','latitude','time')).values\n",
      "  File \"/home/tbeucler/miniconda3/lib/python3.7/site-packages/xarray/core/dataarray.py\", line 488, in values\n",
      "    return self.variable.values\n",
      "  File \"/home/tbeucler/miniconda3/lib/python3.7/site-packages/xarray/core/variable.py\", line 389, in values\n",
      "    return _as_array_or_item(self._data)\n",
      "  File \"/home/tbeucler/miniconda3/lib/python3.7/site-packages/xarray/core/variable.py\", line 210, in _as_array_or_item\n",
      "    data = np.asarray(data)\n",
      "  File \"/home/tbeucler/miniconda3/lib/python3.7/site-packages/numpy/core/numeric.py\", line 538, in asarray\n",
      "    return array(a, dtype, copy=False, order=order)\n",
      "  File \"/home/tbeucler/miniconda3/lib/python3.7/site-packages/dask/array/core.py\", line 1201, in __array__\n",
      "    x = self.compute()\n",
      "  File \"/home/tbeucler/miniconda3/lib/python3.7/site-packages/dask/base.py\", line 175, in compute\n",
      "    (result,) = compute(self, traverse=False, **kwargs)\n",
      "  File \"/home/tbeucler/miniconda3/lib/python3.7/site-packages/dask/base.py\", line 446, in compute\n",
      "    results = schedule(dsk, keys, **kwargs)\n",
      "  File \"/home/tbeucler/miniconda3/lib/python3.7/site-packages/dask/threaded.py\", line 82, in get\n",
      "    **kwargs\n",
      "  File \"/home/tbeucler/miniconda3/lib/python3.7/site-packages/dask/local.py\", line 480, in get_async\n",
      "    key, res_info, failed = queue_get(queue)\n",
      "  File \"/home/tbeucler/miniconda3/lib/python3.7/site-packages/dask/local.py\", line 144, in queue_get\n",
      "    return q.get()\n",
      "  File \"/home/tbeucler/miniconda3/lib/python3.7/queue.py\", line 170, in get\n",
      "    self.not_empty.wait()\n",
      "  File \"/home/tbeucler/miniconda3/lib/python3.7/threading.py\", line 296, in wait\n",
      "    waiter.acquire()\n",
      "KeyboardInterrupt\n",
      "\n",
      "During handling of the above exception, another exception occurred:\n",
      "\n",
      "Traceback (most recent call last):\n",
      "  File \"/home/tbeucler/miniconda3/lib/python3.7/site-packages/IPython/core/interactiveshell.py\", line 2039, in showtraceback\n",
      "    stb = value._render_traceback_()\n",
      "AttributeError: 'KeyboardInterrupt' object has no attribute '_render_traceback_'\n",
      "\n",
      "During handling of the above exception, another exception occurred:\n",
      "\n",
      "Traceback (most recent call last):\n",
      "  File \"/home/tbeucler/miniconda3/lib/python3.7/site-packages/IPython/core/ultratb.py\", line 1101, in get_records\n",
      "    return _fixed_getinnerframes(etb, number_of_lines_of_context, tb_offset)\n",
      "  File \"/home/tbeucler/miniconda3/lib/python3.7/site-packages/IPython/core/ultratb.py\", line 319, in wrapped\n",
      "    return f(*args, **kwargs)\n",
      "  File \"/home/tbeucler/miniconda3/lib/python3.7/site-packages/IPython/core/ultratb.py\", line 353, in _fixed_getinnerframes\n",
      "    records = fix_frame_records_filenames(inspect.getinnerframes(etb, context))\n",
      "  File \"/home/tbeucler/miniconda3/lib/python3.7/inspect.py\", line 1502, in getinnerframes\n",
      "    frameinfo = (tb.tb_frame,) + getframeinfo(tb, context)\n",
      "  File \"/home/tbeucler/miniconda3/lib/python3.7/inspect.py\", line 1460, in getframeinfo\n",
      "    filename = getsourcefile(frame) or getfile(frame)\n",
      "  File \"/home/tbeucler/miniconda3/lib/python3.7/inspect.py\", line 693, in getsourcefile\n",
      "    if os.path.exists(filename):\n",
      "  File \"/home/tbeucler/miniconda3/lib/python3.7/genericpath.py\", line 19, in exists\n",
      "    os.stat(path)\n",
      "KeyboardInterrupt\n"
     ]
    },
    {
     "ename": "KeyboardInterrupt",
     "evalue": "",
     "output_type": "error",
     "traceback": [
      "\u001b[0;31m---------------------------------------------------------------------------\u001b[0m"
     ]
    }
   ],
   "source": [
    "SWD = {}\n",
    "print('year=',year)\n",
    "date1 = str(year)+'-01-01T00:00:00'\n",
    "date2 = str(year)+'-12-31T23:00:00'\n",
    "it_tot = PDF.index_date(SWAtl.time,date1)[0]\n",
    "Nt = SWAtl.time.sel({'time':slice(date1,date2)}).shape[0]\n",
    "for i,year in enumerate(YEAR[:-1]):\n",
    "    print('i=',i,' & year=',year)\n",
    "    date1 = str(year)+'-01-01T00:00:00'\n",
    "    date2 = str(year)+'-12-31T23:00:00'\n",
    "    Nt = SWAtl.time.sel({'time':slice(date1,date2)}).shape[0]\n",
    "    SWD[str(year)] = np.zeros((Nt,))\n",
    "    for it in range(Nt):\n",
    "        print('it=',it,' & it_tot=',it_tot,'               ',end='\\r')\n",
    "        if it_tot>12: SWD[str(year)][it] = SWAtl[it_tot-12:(it_tot+12),:,:].mean(dim=('longitude','latitude','time')).values\n",
    "        else: SWD[str(year)][it] = SWAtl[it_tot:(it_tot+24),:,:].mean(dim=('longitude','latitude','time')).values\n",
    "        it_tot+=1"
   ]
  },
  {
   "cell_type": "code",
   "execution_count": 19,
   "metadata": {},
   "outputs": [],
   "source": [
    "# Save the contour length in a pickle file\n",
    "hf = open(path_PKL+'10_15_SWD'+str(year)+'.pkl','wb')\n",
    "SWDdata = {\"SWD\":SWD,\"time\":SWAtl.time}\n",
    "pickle.dump(SWDdata,hf)\n",
    "hf.close()"
   ]
  },
  {
   "cell_type": "code",
   "execution_count": 1,
   "metadata": {},
   "outputs": [
    {
     "name": "stdout",
     "output_type": "stream",
     "text": [
      "[1, 1, 1, 1, 1, 1, 1, 1, 1, 1, 1, 1, 1, 1, 1, 1, 1, 1, 1, 1, 1, 1, 1, 1, 1, 1, 1, 1, 1, 1, 1, 1, 1, 1, 1, 1, 1, 1, 1, 1, 1, 1, 1, 1, 1, 1, 1, 1, 1, 1, 1, 1, 1, 1, 1, 1, 1, 1, 1, 1, 1, 1, 1, 1, 1, 1, 1, 1, 1, 1, 1, 1, 1, 1, 1, 1, 1, 1, 1, 1, 1, 1, 1, 1, 1, 1, 1, 1, 1, 1, 1, 1, 1, 1, 1, 1, 1, 1, 1, 1, 1, 1, 1, 1, 1, 1, 1, 1, 1, 1, 1, 1, 1, 1, 1, 1, 1, 1, 1, 1, 1, 1, 1, 1, 1, 1, 1, 1, 1, 1, 1, 1, 1, 1, 1, 1, 1, 1, 1, 1, 1, 1, 1, 1, 1, 1, 1, 1, 1, 1, 1, 1, 1, 1, 1, 1, 1, 1, 1, 1, 1, 1, 1, 1, 1, 1, 1, 1, 1, 1, 1, 1, 1, 1, 1, 1, 1, 1, 1, 1, 1, 1, 1, 1, 1, 1, 1, 1, 1, 1, 1, 1, 1, 1, 1, 1, 1, 1, 1, 1, 1, 1, 1, 1, 1, 1, 1, 1, 1, 1, 1, 1, 1, 1, 1, 1, 1, 1, 1, 1, 1, 1, 1, 1]\n",
      "[2000 2001 2002 2003 2004 2005 2006 2007 2008 2009 2010 2011 2012 2013\n",
      " 2014 2015 2016 2017 2018]\n",
      "year= 2009\n",
      "year= 2009\n",
      "it= 9  & it_tot= 78921                \r"
     ]
    },
    {
     "name": "stderr",
     "output_type": "stream",
     "text": [
      "ERROR:root:Internal Python error in the inspect module.\n",
      "Below is the traceback from this internal error.\n",
      "\n",
      "\n",
      "KeyboardInterrupt\n",
      "\n"
     ]
    }
   ],
   "source": [
    "year = 2009\n",
    "\n",
    "import util.Landau_Potential_Diffusion as Landau\n",
    "import util.curvature as curve\n",
    "import util.pdf as PDF\n",
    "\n",
    "import xarray as xr\n",
    "import numpy as np\n",
    "import numpy.fft as fft\n",
    "import matplotlib.pyplot as plt\n",
    "import matplotlib as mpl\n",
    "import datetime\n",
    "from skimage import measure\n",
    "from scipy import ndimage\n",
    "import scipy.integrate as sin\n",
    "from scipy.optimize import curve_fit\n",
    "\n",
    "import pickle\n",
    "import sys\n",
    "\n",
    "path = '/nfs/twcroninlab002/tbeucler/ERA5/ERA5_LHF_SHF/'\n",
    "path_PKL = '/nfs/twcroninlab002/tbeucler/2019_WMI/dev/tbeucler/PKL_DATA/'\n",
    "\n",
    "RAD = xr.open_mfdataset(path+'????/??RAD.nc',combine='by_coords')\n",
    "\n",
    "dt = 3600\n",
    "tcoor = dt*np.arange(0,RAD.time.shape[0])\n",
    "\n",
    "latmin = -30\n",
    "latmax = 30\n",
    "lonmin = 300\n",
    "lonmax = 360\n",
    "\n",
    "lonAtl = RAD.longitude.sel({'longitude':slice(lonmin,lonmax)})\n",
    "latAtl = RAD.latitude.sel({'latitude':slice(latmax,latmin)})\n",
    "\n",
    "SWAtl = RAD['tsr'].sel({'longitude':slice(lonmin,lonmax),'latitude':slice(latmax,latmin)})/3600-\\\n",
    "RAD['ssr'].sel({'longitude':slice(lonmin,lonmax),'latitude':slice(latmax,latmin)})/3600\n",
    "\n",
    "YEAR = np.linspace(2000,2018,19).astype(int)\n",
    "print(YEAR)\n",
    "\n",
    "SWD = {}\n",
    "print('year=',year)\n",
    "date1 = str(year)+'-01-01T00:00:00'\n",
    "date2 = str(year)+'-12-31T23:00:00'\n",
    "it_tot = PDF.index_date(SWAtl.time,date1)[0]\n",
    "Nt = SWAtl.time.sel({'time':slice(date1,date2)}).shape[0]\n",
    "\n",
    "print('year=',year)\n",
    "date1 = str(year)+'-01-01T00:00:00'\n",
    "date2 = str(year)+'-12-31T23:00:00'\n",
    "Nt = SWAtl.time.sel({'time':slice(date1,date2)}).shape[0]\n",
    "SWD[str(year)] = np.zeros((Nt,))\n",
    "for it in range(Nt):\n",
    "    print('it=',it,' & it_tot=',it_tot,'               ',end='\\r')\n",
    "    if it_tot>12: SWD[str(year)][it] = SWAtl[it_tot-12:(it_tot+12),:,:].mean(dim=('longitude','latitude','time')).values\n",
    "    else: SWD[str(year)][it] = SWAtl[it_tot:(it_tot+24),:,:].mean(dim=('longitude','latitude','time')).values\n",
    "    it_tot+=1\n",
    "        \n",
    "# Save the contour length in a pickle file\n",
    "hf = open(path_PKL+'10_15_SWD'+str(year)+'.pkl','wb')\n",
    "SWDdata = {\"SWD\":SWD,\"time\":SWAtl.time}\n",
    "pickle.dump(SWDdata,hf)\n",
    "hf.close()"
   ]
  },
  {
   "cell_type": "code",
   "execution_count": 2,
   "metadata": {},
   "outputs": [],
   "source": [
    "# Save the contour length in a pickle file\n",
    "hf = open(path_PKL+'10_15_SWD'+str(year)+'.pkl','wb')\n",
    "SWDdata = {\"SWD\":SWD,\"time\":SWAtl.time}\n",
    "pickle.dump(SWDdata,hf)\n",
    "hf.close()"
   ]
  },
  {
   "cell_type": "code",
   "execution_count": null,
   "metadata": {},
   "outputs": [],
   "source": []
  }
 ],
 "metadata": {
  "kernelspec": {
   "display_name": "Python 3",
   "language": "python",
   "name": "python3"
  }
 },
 "nbformat": 4,
 "nbformat_minor": 2
}
