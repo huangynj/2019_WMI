{
 "cells": [
  {
   "cell_type": "code",
   "execution_count": 1,
   "metadata": {},
   "outputs": [],
   "source": [
    "import util.Landau_Potential_Diffusion as Landau\n",
    "import util.curvature as curve\n",
    "\n",
    "import xarray as xr\n",
    "import numpy as np\n",
    "import numpy.fft as fft\n",
    "import matplotlib.pyplot as plt\n",
    "import matplotlib as mpl\n",
    "import datetime\n",
    "from skimage import measure\n",
    "from scipy import ndimage\n",
    "import scipy.integrate as sin\n",
    "from scipy.optimize import curve_fit\n",
    "\n",
    "import pickle\n",
    "import sys"
   ]
  },
  {
   "cell_type": "code",
   "execution_count": 3,
   "metadata": {},
   "outputs": [],
   "source": [
    "path = '/nfs/twcroninlab002/tbeucler/ERA5/ERA5_LHF_SHF/'"
   ]
  },
  {
   "cell_type": "code",
   "execution_count": 4,
   "metadata": {},
   "outputs": [
    {
     "name": "stdout",
     "output_type": "stream",
     "text": [
      "[1, 1, 1, 1, 1, 1, 1, 1, 1, 1, 1, 1, 1, 1, 1, 1, 1, 1, 1, 1, 1, 1, 1, 1, 1, 1, 1, 1, 1, 1, 1, 1, 1, 1, 1, 1, 1, 1, 1, 1, 1, 1, 1, 1, 1, 1, 1, 1, 1, 1, 1, 1, 1, 1, 1, 1, 1, 1, 1, 1, 1, 1, 1, 1, 1, 1, 1, 1, 1, 1, 1, 1, 1, 1, 1, 1, 1, 1, 1, 1, 1, 1, 1, 1, 1, 1, 1, 1, 1, 1, 1, 1, 1, 1, 1, 1, 1, 1, 1, 1, 1, 1, 1, 1, 1, 1, 1, 1, 1, 1, 1, 1, 1, 1, 1, 1, 1, 1, 1, 1, 1, 1, 1, 1, 1, 1, 1, 1, 1, 1, 1, 1, 1, 1, 1, 1, 1, 1, 1, 1, 1, 1, 1, 1, 1, 1, 1, 1, 1, 1, 1, 1, 1, 1, 1, 1, 1, 1, 1, 1, 1, 1, 1, 1, 1, 1, 1, 1, 1, 1, 1, 1, 1, 1, 1, 1, 1, 1, 1, 1, 1, 1, 1, 1, 1, 1, 1, 1, 1, 1, 1, 1, 1, 1, 1, 1, 1, 1, 1, 1, 1, 1, 1, 1, 1, 1, 1, 1, 1, 1, 1, 1, 1, 1, 1, 1, 1, 1, 1, 1, 1, 1, 1, 1, 1, 1, 1, 1]\n"
     ]
    }
   ],
   "source": [
    "PRECIP = xr.open_mfdataset(path+'????/??PRECIP.nc',combine='by_coords')"
   ]
  },
  {
   "cell_type": "code",
   "execution_count": 6,
   "metadata": {},
   "outputs": [],
   "source": [
    "dt = 3600\n",
    "tcoor = dt*np.arange(0,PRECIP.time.shape[0])"
   ]
  },
  {
   "cell_type": "code",
   "execution_count": 9,
   "metadata": {},
   "outputs": [],
   "source": [
    "latmin = -30\n",
    "latmax = 30\n",
    "lonmin = 300\n",
    "lonmax = 360\n",
    "\n",
    "lonAtl = PRECIP.longitude.sel({'longitude':slice(lonmin,lonmax)})\n",
    "latAtl = PRECIP.latitude.sel({'latitude':slice(latmax,latmin)})"
   ]
  },
  {
   "cell_type": "code",
   "execution_count": 10,
   "metadata": {},
   "outputs": [],
   "source": [
    "PRECAtl = 1e3*PRECIP['tp'].sel({'longitude':slice(lonmin,lonmax),'latitude':slice(latmax,latmin)}) # In mm/day or kg/m2/day"
   ]
  },
  {
   "cell_type": "code",
   "execution_count": 11,
   "metadata": {},
   "outputs": [
    {
     "name": "stdout",
     "output_type": "stream",
     "text": [
      "[2000 2001 2002 2003 2004 2005 2006 2007 2008 2009 2010 2011 2012 2013\n",
      " 2014 2015 2016 2017 2018]\n"
     ]
    }
   ],
   "source": [
    "YEAR = np.linspace(2000,2018,19).astype(int)\n",
    "print(YEAR)"
   ]
  },
  {
   "cell_type": "code",
   "execution_count": 20,
   "metadata": {},
   "outputs": [],
   "source": [
    "hf = open('PKL_DATA/10_13_Pp999.pkl','rb')\n",
    "tmp = pickle.load(hf)\n",
    "meanP = tmp['Pp999mean']"
   ]
  },
  {
   "cell_type": "code",
   "execution_count": 21,
   "metadata": {},
   "outputs": [
    {
     "name": "stdout",
     "output_type": "stream",
     "text": [
      "i= 0  & year= 2000\n",
      "it= 1  & it_tot= 1                \r"
     ]
    },
    {
     "name": "stderr",
     "output_type": "stream",
     "text": [
      "ERROR:root:Internal Python error in the inspect module.\n",
      "Below is the traceback from this internal error.\n",
      "\n"
     ]
    },
    {
     "name": "stdout",
     "output_type": "stream",
     "text": [
      "Traceback (most recent call last):\n",
      "  File \"/home/tbeucler/miniconda3/lib/python3.7/site-packages/IPython/core/interactiveshell.py\", line 3325, in run_code\n",
      "    exec(code_obj, self.user_global_ns, self.user_ns)\n",
      "  File \"<ipython-input-21-2865f4829aad>\", line 11, in <module>\n",
      "    P999[str(year)][it] = np.sum(PRECAtl[it_tot,:,:].values>meanP)\n",
      "  File \"/home/tbeucler/miniconda3/lib/python3.7/site-packages/xarray/core/dataarray.py\", line 488, in values\n",
      "    return self.variable.values\n",
      "  File \"/home/tbeucler/miniconda3/lib/python3.7/site-packages/xarray/core/variable.py\", line 389, in values\n",
      "    return _as_array_or_item(self._data)\n",
      "  File \"/home/tbeucler/miniconda3/lib/python3.7/site-packages/xarray/core/variable.py\", line 210, in _as_array_or_item\n",
      "    data = np.asarray(data)\n",
      "  File \"/home/tbeucler/miniconda3/lib/python3.7/site-packages/numpy/core/numeric.py\", line 538, in asarray\n",
      "    return array(a, dtype, copy=False, order=order)\n",
      "  File \"/home/tbeucler/miniconda3/lib/python3.7/site-packages/dask/array/core.py\", line 1201, in __array__\n",
      "    x = self.compute()\n",
      "  File \"/home/tbeucler/miniconda3/lib/python3.7/site-packages/dask/base.py\", line 175, in compute\n",
      "    (result,) = compute(self, traverse=False, **kwargs)\n",
      "  File \"/home/tbeucler/miniconda3/lib/python3.7/site-packages/dask/base.py\", line 446, in compute\n",
      "    results = schedule(dsk, keys, **kwargs)\n",
      "  File \"/home/tbeucler/miniconda3/lib/python3.7/site-packages/dask/threaded.py\", line 82, in get\n",
      "    **kwargs\n",
      "  File \"/home/tbeucler/miniconda3/lib/python3.7/site-packages/dask/local.py\", line 480, in get_async\n",
      "    key, res_info, failed = queue_get(queue)\n",
      "  File \"/home/tbeucler/miniconda3/lib/python3.7/site-packages/dask/local.py\", line 144, in queue_get\n",
      "    return q.get()\n",
      "  File \"/home/tbeucler/miniconda3/lib/python3.7/queue.py\", line 170, in get\n",
      "    self.not_empty.wait()\n",
      "  File \"/home/tbeucler/miniconda3/lib/python3.7/threading.py\", line 296, in wait\n",
      "    waiter.acquire()\n",
      "KeyboardInterrupt\n",
      "\n",
      "During handling of the above exception, another exception occurred:\n",
      "\n",
      "Traceback (most recent call last):\n",
      "  File \"/home/tbeucler/miniconda3/lib/python3.7/site-packages/IPython/core/interactiveshell.py\", line 2039, in showtraceback\n",
      "    stb = value._render_traceback_()\n",
      "AttributeError: 'KeyboardInterrupt' object has no attribute '_render_traceback_'\n",
      "\n",
      "During handling of the above exception, another exception occurred:\n",
      "\n",
      "Traceback (most recent call last):\n",
      "  File \"/home/tbeucler/miniconda3/lib/python3.7/site-packages/IPython/core/ultratb.py\", line 1101, in get_records\n",
      "    return _fixed_getinnerframes(etb, number_of_lines_of_context, tb_offset)\n",
      "  File \"/home/tbeucler/miniconda3/lib/python3.7/site-packages/IPython/core/ultratb.py\", line 319, in wrapped\n",
      "    return f(*args, **kwargs)\n",
      "  File \"/home/tbeucler/miniconda3/lib/python3.7/site-packages/IPython/core/ultratb.py\", line 353, in _fixed_getinnerframes\n",
      "    records = fix_frame_records_filenames(inspect.getinnerframes(etb, context))\n",
      "  File \"/home/tbeucler/miniconda3/lib/python3.7/inspect.py\", line 1502, in getinnerframes\n",
      "    frameinfo = (tb.tb_frame,) + getframeinfo(tb, context)\n",
      "  File \"/home/tbeucler/miniconda3/lib/python3.7/inspect.py\", line 1460, in getframeinfo\n",
      "    filename = getsourcefile(frame) or getfile(frame)\n",
      "  File \"/home/tbeucler/miniconda3/lib/python3.7/inspect.py\", line 687, in getsourcefile\n",
      "    if any(filename.endswith(s) for s in all_bytecode_suffixes):\n",
      "  File \"/home/tbeucler/miniconda3/lib/python3.7/inspect.py\", line 687, in <genexpr>\n",
      "    if any(filename.endswith(s) for s in all_bytecode_suffixes):\n",
      "KeyboardInterrupt\n"
     ]
    },
    {
     "ename": "KeyboardInterrupt",
     "evalue": "",
     "output_type": "error",
     "traceback": [
      "\u001b[0;31m---------------------------------------------------------------------------\u001b[0m"
     ]
    }
   ],
   "source": [
    "P999 = {}\n",
    "it_tot = 0\n",
    "for i,year in enumerate(YEAR):\n",
    "    print('i=',i,' & year=',year)\n",
    "    date1 = str(year)+'-01-01T00:00:00'\n",
    "    date2 = str(year)+'-12-31T23:00:00'\n",
    "    Nt = PRECAtl.time.sel({'time':slice(date1,date2)}).shape[0]\n",
    "    P999[str(year)] = np.zeros((Nt,))\n",
    "    for it in range(Nt):\n",
    "        print('it=',it,' & it_tot=',it_tot,'               ',end='\\r')\n",
    "        P999[str(year)][it] = np.sum(PRECAtl[it_tot,:,:].values>meanP)\n",
    "        it_tot+=1"
   ]
  },
  {
   "cell_type": "code",
   "execution_count": 23,
   "metadata": {},
   "outputs": [],
   "source": [
    "hf = open('PKL_DATA/10_13_P999.pkl','wb')\n",
    "P_data = {\"P999\":P999,\"Pp999mean\":meanP}\n",
    "pickle.dump(P_data,hf)\n",
    "hf.close()"
   ]
  },
  {
   "cell_type": "code",
   "execution_count": null,
   "metadata": {},
   "outputs": [],
   "source": []
  }
 ],
 "metadata": {
  "kernelspec": {
   "display_name": "Python 3",
   "language": "python",
   "name": "python3"
  },
  "language_info": {
   "codemirror_mode": {
    "name": "ipython",
    "version": 3
   },
   "file_extension": ".py",
   "mimetype": "text/x-python",
   "name": "python",
   "nbconvert_exporter": "python",
   "pygments_lexer": "ipython3",
   "version": "3.7.3"
  }
 },
 "nbformat": 4,
 "nbformat_minor": 2
}
