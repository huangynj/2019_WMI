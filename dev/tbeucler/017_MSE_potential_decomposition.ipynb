{
 "cells": [
  {
   "cell_type": "markdown",
   "metadata": {},
   "source": [
    "tgb - 1/20/20 - Make six-panel figure about the decomposition of the MSE potential. For convenience, we repeat the figures in the main text:  \n",
    "- Figures 1a and 1b become a and b with the MSE fields and the moist meander  \n",
    "- Figures 2a and 2b become c and d with the MSE potential and PDF overlaid  \n",
    "- The last panels e and f are about the potential's decomposition into different contributions"
   ]
  },
  {
   "cell_type": "markdown",
   "metadata": {},
   "source": [
    "# Initialization"
   ]
  },
  {
   "cell_type": "markdown",
   "metadata": {},
   "source": [
    "## Imports"
   ]
  },
  {
   "cell_type": "code",
   "execution_count": 1,
   "metadata": {},
   "outputs": [],
   "source": [
    "# Initial imports\n",
    "import util.Landau_Potential_Diffusion as Landau\n",
    "import util.curvature as curve\n",
    "import util.pdf as PDF\n",
    "\n",
    "import xarray as xr\n",
    "import numpy as np\n",
    "import numpy.fft as fft\n",
    "import matplotlib.pyplot as plt\n",
    "import matplotlib.dates as mdates\n",
    "import matplotlib.image as mpimg\n",
    "from matplotlib.gridspec import GridSpec\n",
    "import matplotlib as mpl\n",
    "import matplotlib.transforms as mtransforms\n",
    "import datetime\n",
    "from skimage import measure\n",
    "from scipy import ndimage, stats\n",
    "import scipy.integrate as sin\n",
    "from scipy.optimize import curve_fit\n",
    "from scipy.ndimage.filters import gaussian_filter1d\n",
    "import random\n",
    "import pandas as pd\n",
    "\n",
    "import pickle"
   ]
  },
  {
   "cell_type": "code",
   "execution_count": 2,
   "metadata": {},
   "outputs": [],
   "source": [
    "# Figure characteristics common to all Figures\n",
    "fz = 15\n",
    "lw = 3\n",
    "siz = 10\n",
    "\n",
    "plt.rc('text', usetex=False)\n",
    "plt.rc('font', family='serif', size=fz)\n",
    "mpl.rcParams['lines.linewidth'] = lw\n",
    "mpl.rcParams['lines.markersize'] = siz\n",
    "plt.close('all')\n",
    "\n",
    "# Physical constants\n",
    "stday = 24*3600"
   ]
  },
  {
   "cell_type": "markdown",
   "metadata": {},
   "source": [
    "## Utilities"
   ]
  },
  {
   "cell_type": "code",
   "execution_count": 3,
   "metadata": {},
   "outputs": [],
   "source": [
    "class Bunch(object):\n",
    "  \n",
    "    def __init__(self, adict):\n",
    "        self.__dict__.update(adict)"
   ]
  },
  {
   "cell_type": "code",
   "execution_count": 4,
   "metadata": {},
   "outputs": [],
   "source": [
    "def edgTObin(edges):\n",
    "    return 0.5*(edges[1:]+edges[:-1])"
   ]
  },
  {
   "cell_type": "code",
   "execution_count": 5,
   "metadata": {},
   "outputs": [],
   "source": [
    "def get_all_values(dic_values):\n",
    "    values = []\n",
    "    for i_k, key in enumerate(dic_values.keys()):\n",
    "        values.extend(dic_values[key])\n",
    "    return values"
   ]
  },
  {
   "cell_type": "code",
   "execution_count": 6,
   "metadata": {},
   "outputs": [],
   "source": [
    "def find_index(time_A, time_cond):\n",
    "    ind = np.where(time_A == time_cond)[0][0]\n",
    "    return ind"
   ]
  },
  {
   "cell_type": "markdown",
   "metadata": {},
   "source": [
    "# COSMO"
   ]
  },
  {
   "cell_type": "markdown",
   "metadata": {},
   "source": [
    "## Panel a and c: Field, contour and PDF"
   ]
  },
  {
   "cell_type": "code",
   "execution_count": 7,
   "metadata": {},
   "outputs": [],
   "source": [
    "path_RCE = '/project/s916/davidle/RCE-MIP/simulations/RCE_300_3km_506x506/output/'"
   ]
  },
  {
   "cell_type": "code",
   "execution_count": 8,
   "metadata": {},
   "outputs": [
    {
     "name": "stderr",
     "output_type": "stream",
     "text": [
      "/users/tbeucler/miniconda3/lib/python3.7/site-packages/xarray/backends/api.py:783: FutureWarning: In xarray version 0.13 `auto_combine` will be deprecated.\n",
      "  coords=coords)\n",
      "/users/tbeucler/miniconda3/lib/python3.7/site-packages/xarray/backends/api.py:783: FutureWarning: The datasets supplied have global dimension coordinates. You may want\n",
      "to use the new `combine_by_coords` function (or the\n",
      "`combine='by_coords'` option to `open_mfdataset` to order the datasets\n",
      "before concatenation. Alternatively, to continue concatenating based\n",
      "on the order the datasets are supplied in in future, please use the\n",
      "new `combine_nested` function (or the `combine='nested'` option to\n",
      "open_mfdataset).\n",
      "  coords=coords)\n"
     ]
    }
   ],
   "source": [
    "RCE300 = xr.open_mfdataset(path_RCE+'lfff????????.nc')"
   ]
  },
  {
   "cell_type": "code",
   "execution_count": 9,
   "metadata": {},
   "outputs": [
    {
     "data": {
      "text/plain": [
       "<xarray.Dataset>\n",
       "Dimensions:       (bnds: 2, level1: 75, rlat: 506, rlon: 506, soil1: 10, srlat: 506, srlon: 506, time: 2400)\n",
       "Coordinates:\n",
       "  * rlon          (rlon) float32 0.0 0.03 0.06 ... 15.089999 15.12 15.15\n",
       "  * rlat          (rlat) float32 0.0 0.03 0.06 ... 15.089999 15.12 15.15\n",
       "  * srlon         (srlon) float32 0.015 0.044999998 ... 15.135 15.165\n",
       "  * srlat         (srlat) float32 0.015 0.044999998 ... 15.135 15.165\n",
       "    lon           (rlat, rlon) float32 -5.008956e-06 0.029994989 ... 15.149995\n",
       "    lat           (rlat, rlon) float32 -2.504478e-06 ... 15.149999\n",
       "    height_2m     float32 2.0\n",
       "    height_toa    float32 33250.0\n",
       "  * soil1         (soil1) float32 0.005 0.025 0.07 0.16 ... 1.47 2.86 5.74 11.5\n",
       "  * time          (time) datetime64[ns] 2011-07-12T12:00:00 ... 2011-10-20T11:00:00\n",
       "Dimensions without coordinates: bnds, level1\n",
       "Data variables:\n",
       "    time_bnds     (time, bnds) datetime64[ns] dask.array<shape=(2400, 2), chunksize=(1, 2)>\n",
       "    rotated_pole  (time) |S1 b'' b'' b'' b'' b'' b'' ... b'' b'' b'' b'' b'' b''\n",
       "    slonu         (time, rlat, srlon) float32 dask.array<shape=(2400, 506, 506), chunksize=(1, 506, 506)>\n",
       "    slatu         (time, rlat, srlon) float32 dask.array<shape=(2400, 506, 506), chunksize=(1, 506, 506)>\n",
       "    slonv         (time, srlat, rlon) float32 dask.array<shape=(2400, 506, 506), chunksize=(1, 506, 506)>\n",
       "    slatv         (time, srlat, rlon) float32 dask.array<shape=(2400, 506, 506), chunksize=(1, 506, 506)>\n",
       "    vcoord        (time, level1) float32 dask.array<shape=(2400, 75), chunksize=(1, 75)>\n",
       "    height_10m    (time) float32 10.0 10.0 10.0 10.0 ... 10.0 10.0 10.0 10.0\n",
       "    wbt_13c       (time) float32 1.3 1.3 1.3 1.3 1.3 1.3 ... 1.3 1.3 1.3 1.3 1.3\n",
       "    soil1_bnds    (time, soil1, bnds) float32 dask.array<shape=(2400, 10, 2), chunksize=(1, 10, 2)>\n",
       "    TOT_PREC      (time, rlat, rlon) float32 dask.array<shape=(2400, 506, 506), chunksize=(1, 506, 506)>\n",
       "    TOT_PR        (time, rlat, rlon) float32 dask.array<shape=(2400, 506, 506), chunksize=(1, 506, 506)>\n",
       "    T_2M          (time, rlat, rlon) float32 dask.array<shape=(2400, 506, 506), chunksize=(1, 506, 506)>\n",
       "    TD_2M         (time, rlat, rlon) float32 dask.array<shape=(2400, 506, 506), chunksize=(1, 506, 506)>\n",
       "    PS            (time, rlat, rlon) float32 dask.array<shape=(2400, 506, 506), chunksize=(1, 506, 506)>\n",
       "    CEILING       (time, rlat, rlon) float32 dask.array<shape=(2400, 506, 506), chunksize=(1, 506, 506)>\n",
       "    CLDEPTH       (time, rlat, rlon) float32 dask.array<shape=(2400, 506, 506), chunksize=(1, 506, 506)>\n",
       "    SHFL_S        (time, rlat, rlon) float32 dask.array<shape=(2400, 506, 506), chunksize=(1, 506, 506)>\n",
       "    LHFL_S        (time, rlat, rlon) float32 dask.array<shape=(2400, 506, 506), chunksize=(1, 506, 506)>\n",
       "    ASHFL_S       (time, rlat, rlon) float32 dask.array<shape=(2400, 506, 506), chunksize=(1, 506, 506)>\n",
       "    ALHFL_S       (time, rlat, rlon) float32 dask.array<shape=(2400, 506, 506), chunksize=(1, 506, 506)>\n",
       "    ASOB_S        (time, rlat, rlon) float32 dask.array<shape=(2400, 506, 506), chunksize=(1, 506, 506)>\n",
       "    ASOB_T        (time, rlat, rlon) float32 dask.array<shape=(2400, 506, 506), chunksize=(1, 506, 506)>\n",
       "    ATHB_T        (time, rlat, rlon) float32 dask.array<shape=(2400, 506, 506), chunksize=(1, 506, 506)>\n",
       "    ASWDIFU_S     (time, rlat, rlon) float32 dask.array<shape=(2400, 506, 506), chunksize=(1, 506, 506)>\n",
       "    ATHB_S        (time, rlat, rlon) float32 dask.array<shape=(2400, 506, 506), chunksize=(1, 506, 506)>\n",
       "    ASWD_S        (time, rlat, rlon) float32 dask.array<shape=(2400, 506, 506), chunksize=(1, 506, 506)>\n",
       "    CLCL          (time, rlat, rlon) float32 dask.array<shape=(2400, 506, 506), chunksize=(1, 506, 506)>\n",
       "    CLCM          (time, rlat, rlon) float32 dask.array<shape=(2400, 506, 506), chunksize=(1, 506, 506)>\n",
       "    CLCH          (time, rlat, rlon) float32 dask.array<shape=(2400, 506, 506), chunksize=(1, 506, 506)>\n",
       "    CLCT          (time, rlat, rlon) float32 dask.array<shape=(2400, 506, 506), chunksize=(1, 506, 506)>\n",
       "    TWATER        (time, rlat, rlon) float32 dask.array<shape=(2400, 506, 506), chunksize=(1, 506, 506)>\n",
       "    TWATFLXU      (time, rlat, rlon) float32 dask.array<shape=(2400, 506, 506), chunksize=(1, 506, 506)>\n",
       "    TWATFLXV      (time, rlat, rlon) float32 dask.array<shape=(2400, 506, 506), chunksize=(1, 506, 506)>\n",
       "    TQV           (time, rlat, rlon) float32 dask.array<shape=(2400, 506, 506), chunksize=(1, 506, 506)>\n",
       "    TQC           (time, rlat, rlon) float32 dask.array<shape=(2400, 506, 506), chunksize=(1, 506, 506)>\n",
       "    TQI           (time, rlat, rlon) float32 dask.array<shape=(2400, 506, 506), chunksize=(1, 506, 506)>\n",
       "    TQR           (time, rlat, rlon) float32 dask.array<shape=(2400, 506, 506), chunksize=(1, 506, 506)>\n",
       "    TQS           (time, rlat, rlon) float32 dask.array<shape=(2400, 506, 506), chunksize=(1, 506, 506)>\n",
       "    TQG           (time, rlat, rlon) float32 dask.array<shape=(2400, 506, 506), chunksize=(1, 506, 506)>\n",
       "    FMSE          (time, rlat, rlon) float32 dask.array<shape=(2400, 506, 506), chunksize=(1, 506, 506)>\n",
       "    RELHUM_2M     (time, rlat, rlon) float32 dask.array<shape=(2400, 506, 506), chunksize=(1, 506, 506)>\n",
       "    QV_S          (time, rlat, rlon) float32 dask.array<shape=(2400, 506, 506), chunksize=(1, 506, 506)>\n",
       "Attributes:\n",
       "    title:           RCE\n",
       "    institution:     Max Planck Institute for Meteorology, Hamburg, Germany\n",
       "    source:          cosmo\n",
       "    project_id:      RCE\n",
       "    experiment_id:   large domain, 300K\n",
       "    realization:     1\n",
       "    Conventions:     CF-1.4\n",
       "    conventionsURL:  http://www.cfconventions.org/\n",
       "    contact:         David Leutwyler (david.leutwyler@mpimet.mpg.de)\n",
       "    references:      http://www.clm-community.eu/\n",
       "    creation_date:   2019-06-26 05:11:03"
      ]
     },
     "execution_count": 9,
     "metadata": {},
     "output_type": "execute_result"
    }
   ],
   "source": [
    "RCE300"
   ]
  },
  {
   "cell_type": "markdown",
   "metadata": {},
   "source": [
    "Find percentile of antimode"
   ]
  },
  {
   "cell_type": "code",
   "execution_count": 10,
   "metadata": {},
   "outputs": [],
   "source": [
    "SPINstart = 0 #days\n",
    "COALstart = 11 #days\n",
    "COARstart = 25 #days\n",
    "ENDstart = 85 # days"
   ]
  },
  {
   "cell_type": "code",
   "execution_count": 12,
   "metadata": {},
   "outputs": [],
   "source": [
    "MSE_PDF_SPIN,SPINedges = np.histogram(RCE300.FMSE[:(24*COALstart),:,:],bins=100,density=True)\n",
    "MSE_PDF_COAL,COALedges = np.histogram(RCE300.FMSE[(24*COALstart):(24*COARstart),:,:],bins=100,density=True)\n",
    "MSE_PDF_COAR,COARedges = np.histogram(RCE300.FMSE[(24*ENDstart):,:,:],bins=100,density=True)"
   ]
  },
  {
   "cell_type": "code",
   "execution_count": 13,
   "metadata": {},
   "outputs": [
    {
     "data": {
      "text/plain": [
       "[<matplotlib.lines.Line2D at 0x2b29763826a0>]"
      ]
     },
     "execution_count": 13,
     "metadata": {},
     "output_type": "execute_result"
    },
    {
     "data": {
      "image/png": "[encoded data removed]",
      "text/plain": [
       "<Figure size 432x288 with 1 Axes>"
      ]
     },
     "metadata": {
      "needs_background": "light"
     },
     "output_type": "display_data"
    }
   ],
   "source": [
    "plt.plot(edgTObin(SPINedges),MSE_PDF_SPIN,color='b')\n",
    "plt.plot(edgTObin(COALedges),MSE_PDF_COAL,color='r')\n",
    "plt.plot(edgTObin(COARedges),MSE_PDF_COAR,color='g')"
   ]
  },
  {
   "cell_type": "code",
   "execution_count": 22,
   "metadata": {},
   "outputs": [
    {
     "data": {
      "text/plain": [
       "72"
      ]
     },
     "execution_count": 22,
     "metadata": {},
     "output_type": "execute_result"
    }
   ],
   "source": [
    "np.argmin(MSE_PDF_COAR[20:85])+20"
   ]
  },
  {
   "cell_type": "code",
   "execution_count": 23,
   "metadata": {},
   "outputs": [],
   "source": [
    "SPIN_p88 = np.percentile(RCE300.FMSE[:(24*COALstart),:,:],72)\n",
    "COAL_p88 = np.percentile(RCE300.FMSE[(24*COALstart):(24*COARstart),:,:],72)\n",
    "COAR_p88 = np.percentile(RCE300.FMSE[(24*ENDstart):,:,:],72)"
   ]
  },
  {
   "cell_type": "code",
   "execution_count": 24,
   "metadata": {},
   "outputs": [
    {
     "data": {
      "text/plain": [
       "3.2273898614867812e-09"
      ]
     },
     "execution_count": 24,
     "metadata": {},
     "output_type": "execute_result"
    }
   ],
   "source": [
    "MSE_PDF_COAR[72]"
   ]
  },
  {
   "cell_type": "code",
   "execution_count": 25,
   "metadata": {},
   "outputs": [
    {
     "data": {
      "text/plain": [
       "3470737664.0"
      ]
     },
     "execution_count": 25,
     "metadata": {},
     "output_type": "execute_result"
    }
   ],
   "source": [
    "SPIN_p88"
   ]
  },
  {
   "cell_type": "code",
   "execution_count": 26,
   "metadata": {},
   "outputs": [],
   "source": [
    "SPIN_p88 = np.array([SPIN_p88,MSE_PDF_SPIN[72]])\n",
    "COAL_p88 = np.array([COAL_p88,MSE_PDF_COAL[72]])\n",
    "COAR_p88 = np.array([COAR_p88,MSE_PDF_COAR[72]])"
   ]
  },
  {
   "cell_type": "code",
   "execution_count": 38,
   "metadata": {},
   "outputs": [],
   "source": [
    "MSE_agg = RCE300.FMSE[(24*ENDstart):].mean(dim='time')\n",
    "toplot = MSE_agg.values"
   ]
  },
  {
   "cell_type": "code",
   "execution_count": 30,
   "metadata": {},
   "outputs": [],
   "source": [
    "dx = 3.3\n",
    "x = dx*MSE_agg.rlon\n",
    "y = dx*MSE_agg.rlat"
   ]
  },
  {
   "cell_type": "code",
   "execution_count": 33,
   "metadata": {},
   "outputs": [],
   "source": [
    "COARbin = edgTObin(COARedges)\n",
    "COARbnorm = COARbin - COARbin.mean()"
   ]
  },
  {
   "cell_type": "code",
   "execution_count": 34,
   "metadata": {},
   "outputs": [
    {
     "data": {
      "text/plain": [
       "array([-81006590., -79369980., -77733380., -76097020., -74460670.,\n",
       "       -72824060., -71187460., -69551100., -67914500., -66277890.,\n",
       "       -64641536., -63005184., -61368576., -59731970., -58095616.,\n",
       "       -56459010., -54822400., -53186050., -51549696., -49913090.,\n",
       "       -48276480., -46640130., -45003520., -43366910., -41730560.,\n",
       "       -40094210., -38457600., -36820990., -35184640., -33548032.,\n",
       "       -31911424., -30275072., -28638720., -27002112., -25365504.,\n",
       "       -23729152., -22092544., -20455936., -18819584., -17183232.,\n",
       "       -15546624., -13910016., -12273664., -10637056.,  -9000448.,\n",
       "        -7364096.,  -5727744.,  -4091136.,  -2454528.,   -818176.,\n",
       "          818176.,   2455040.,   4091392.,   5727744.,   7364352.,\n",
       "         9000960.,  10637312.,  12273664.,  13910528.,  15546880.,\n",
       "        17183232.,  18819840.,  20456448.,  22092800.,  23729152.,\n",
       "        25366016.,  27002368.,  28638720.,  30275328.,  31911936.,\n",
       "        33548288.,  35184640.,  36821504.,  38457856.,  40094210.,\n",
       "        41730816.,  43367424.,  45003776.,  46640130.,  48276990.,\n",
       "        49913344.,  51549696.,  53186304.,  54822910.,  56459264.,\n",
       "        58095616.,  59732480.,  61368830.,  63005184.,  64641790.,\n",
       "        66278400.,  67914750.,  69551100.,  71187970.,  72824320.,\n",
       "        74460670.,  76097280.,  77733890.,  79370240.,  81006590.],\n",
       "      dtype=float32)"
      ]
     },
     "execution_count": 34,
     "metadata": {},
     "output_type": "execute_result"
    }
   ],
   "source": [
    "COARbnorm"
   ]
  },
  {
   "cell_type": "code",
   "execution_count": 39,
   "metadata": {},
   "outputs": [
    {
     "ename": "TypeError",
     "evalue": "len() of unsized object",
     "output_type": "error",
     "traceback": [
      "\u001b[0;31m---------------------------------------------------------------------------\u001b[0m",
      "\u001b[0;31mTypeError\u001b[0m                                 Traceback (most recent call last)",
      "\u001b[0;32m<ipython-input-39-2d1d7ecd5d4e>\u001b[0m in \u001b[0;36m<module>\u001b[0;34m\u001b[0m\n\u001b[1;32m      1\u001b[0m \u001b[0mfig\u001b[0m\u001b[0;34m,\u001b[0m\u001b[0max\u001b[0m \u001b[0;34m=\u001b[0m \u001b[0mplt\u001b[0m\u001b[0;34m.\u001b[0m\u001b[0msubplots\u001b[0m\u001b[0;34m(\u001b[0m\u001b[0mfigsize\u001b[0m\u001b[0;34m=\u001b[0m\u001b[0;34m(\u001b[0m\u001b[0;36m7.5\u001b[0m\u001b[0;34m,\u001b[0m\u001b[0;36m7.5\u001b[0m\u001b[0;34m)\u001b[0m\u001b[0;34m)\u001b[0m\u001b[0;34m\u001b[0m\u001b[0;34m\u001b[0m\u001b[0m\n\u001b[1;32m      2\u001b[0m \u001b[0;34m\u001b[0m\u001b[0m\n\u001b[0;32m----> 3\u001b[0;31m \u001b[0max\u001b[0m\u001b[0;34m.\u001b[0m\u001b[0mcontour\u001b[0m\u001b[0;34m(\u001b[0m\u001b[0mx\u001b[0m\u001b[0;34m,\u001b[0m\u001b[0my\u001b[0m\u001b[0;34m,\u001b[0m \u001b[0mtoplot\u001b[0m\u001b[0;34m,\u001b[0m\u001b[0mCOAR_p88\u001b[0m\u001b[0;34m[\u001b[0m\u001b[0;36m0\u001b[0m\u001b[0;34m]\u001b[0m\u001b[0;34m,\u001b[0m\u001b[0mcolors\u001b[0m\u001b[0;34m=\u001b[0m\u001b[0;34m'k'\u001b[0m\u001b[0;34m)\u001b[0m\u001b[0;34m\u001b[0m\u001b[0;34m\u001b[0m\u001b[0m\n\u001b[0m\u001b[1;32m      4\u001b[0m \u001b[0mcont_levels\u001b[0m \u001b[0;34m=\u001b[0m \u001b[0mnp\u001b[0m\u001b[0;34m.\u001b[0m\u001b[0mlinspace\u001b[0m\u001b[0;34m(\u001b[0m\u001b[0;34m-\u001b[0m\u001b[0;36m8e4\u001b[0m\u001b[0;34m,\u001b[0m\u001b[0;36m8e4\u001b[0m\u001b[0;34m,\u001b[0m\u001b[0;36m25\u001b[0m\u001b[0;34m)\u001b[0m\u001b[0;34m\u001b[0m\u001b[0;34m\u001b[0m\u001b[0m\n\u001b[1;32m      5\u001b[0m im = ax.contourf(x, y, toplot-toplot.mean(), cont_levels,\n",
      "\u001b[0;32m~/miniconda3/lib/python3.7/site-packages/matplotlib/__init__.py\u001b[0m in \u001b[0;36minner\u001b[0;34m(ax, data, *args, **kwargs)\u001b[0m\n\u001b[1;32m   1587\u001b[0m     \u001b[0;32mdef\u001b[0m \u001b[0minner\u001b[0m\u001b[0;34m(\u001b[0m\u001b[0max\u001b[0m\u001b[0;34m,\u001b[0m \u001b[0;34m*\u001b[0m\u001b[0margs\u001b[0m\u001b[0;34m,\u001b[0m \u001b[0mdata\u001b[0m\u001b[0;34m=\u001b[0m\u001b[0;32mNone\u001b[0m\u001b[0;34m,\u001b[0m \u001b[0;34m**\u001b[0m\u001b[0mkwargs\u001b[0m\u001b[0;34m)\u001b[0m\u001b[0;34m:\u001b[0m\u001b[0;34m\u001b[0m\u001b[0;34m\u001b[0m\u001b[0m\n\u001b[1;32m   1588\u001b[0m         \u001b[0;32mif\u001b[0m \u001b[0mdata\u001b[0m \u001b[0;32mis\u001b[0m \u001b[0;32mNone\u001b[0m\u001b[0;34m:\u001b[0m\u001b[0;34m\u001b[0m\u001b[0;34m\u001b[0m\u001b[0m\n\u001b[0;32m-> 1589\u001b[0;31m             \u001b[0;32mreturn\u001b[0m \u001b[0mfunc\u001b[0m\u001b[0;34m(\u001b[0m\u001b[0max\u001b[0m\u001b[0;34m,\u001b[0m \u001b[0;34m*\u001b[0m\u001b[0mmap\u001b[0m\u001b[0;34m(\u001b[0m\u001b[0msanitize_sequence\u001b[0m\u001b[0;34m,\u001b[0m \u001b[0margs\u001b[0m\u001b[0;34m)\u001b[0m\u001b[0;34m,\u001b[0m \u001b[0;34m**\u001b[0m\u001b[0mkwargs\u001b[0m\u001b[0;34m)\u001b[0m\u001b[0;34m\u001b[0m\u001b[0;34m\u001b[0m\u001b[0m\n\u001b[0m\u001b[1;32m   1590\u001b[0m \u001b[0;34m\u001b[0m\u001b[0m\n\u001b[1;32m   1591\u001b[0m         \u001b[0mbound\u001b[0m \u001b[0;34m=\u001b[0m \u001b[0mnew_sig\u001b[0m\u001b[0;34m.\u001b[0m\u001b[0mbind\u001b[0m\u001b[0;34m(\u001b[0m\u001b[0max\u001b[0m\u001b[0;34m,\u001b[0m \u001b[0;34m*\u001b[0m\u001b[0margs\u001b[0m\u001b[0;34m,\u001b[0m \u001b[0;34m**\u001b[0m\u001b[0mkwargs\u001b[0m\u001b[0;34m)\u001b[0m\u001b[0;34m\u001b[0m\u001b[0;34m\u001b[0m\u001b[0m\n",
      "\u001b[0;32m~/miniconda3/lib/python3.7/site-packages/matplotlib/axes/_axes.py\u001b[0m in \u001b[0;36mcontour\u001b[0;34m(self, *args, **kwargs)\u001b[0m\n\u001b[1;32m   6398\u001b[0m     \u001b[0;32mdef\u001b[0m \u001b[0mcontour\u001b[0m\u001b[0;34m(\u001b[0m\u001b[0mself\u001b[0m\u001b[0;34m,\u001b[0m \u001b[0;34m*\u001b[0m\u001b[0margs\u001b[0m\u001b[0;34m,\u001b[0m \u001b[0;34m**\u001b[0m\u001b[0mkwargs\u001b[0m\u001b[0;34m)\u001b[0m\u001b[0;34m:\u001b[0m\u001b[0;34m\u001b[0m\u001b[0;34m\u001b[0m\u001b[0m\n\u001b[1;32m   6399\u001b[0m         \u001b[0mkwargs\u001b[0m\u001b[0;34m[\u001b[0m\u001b[0;34m'filled'\u001b[0m\u001b[0;34m]\u001b[0m \u001b[0;34m=\u001b[0m \u001b[0;32mFalse\u001b[0m\u001b[0;34m\u001b[0m\u001b[0;34m\u001b[0m\u001b[0m\n\u001b[0;32m-> 6400\u001b[0;31m         \u001b[0mcontours\u001b[0m \u001b[0;34m=\u001b[0m \u001b[0mmcontour\u001b[0m\u001b[0;34m.\u001b[0m\u001b[0mQuadContourSet\u001b[0m\u001b[0;34m(\u001b[0m\u001b[0mself\u001b[0m\u001b[0;34m,\u001b[0m \u001b[0;34m*\u001b[0m\u001b[0margs\u001b[0m\u001b[0;34m,\u001b[0m \u001b[0;34m**\u001b[0m\u001b[0mkwargs\u001b[0m\u001b[0;34m)\u001b[0m\u001b[0;34m\u001b[0m\u001b[0;34m\u001b[0m\u001b[0m\n\u001b[0m\u001b[1;32m   6401\u001b[0m         \u001b[0mself\u001b[0m\u001b[0;34m.\u001b[0m\u001b[0mautoscale_view\u001b[0m\u001b[0;34m(\u001b[0m\u001b[0;34m)\u001b[0m\u001b[0;34m\u001b[0m\u001b[0;34m\u001b[0m\u001b[0m\n\u001b[1;32m   6402\u001b[0m         \u001b[0;32mreturn\u001b[0m \u001b[0mcontours\u001b[0m\u001b[0;34m\u001b[0m\u001b[0;34m\u001b[0m\u001b[0m\n",
      "\u001b[0;32m~/miniconda3/lib/python3.7/site-packages/matplotlib/contour.py\u001b[0m in \u001b[0;36m__init__\u001b[0;34m(self, ax, levels, filled, linewidths, linestyles, alpha, origin, extent, cmap, colors, norm, vmin, vmax, extend, antialiased, *args, **kwargs)\u001b[0m\n\u001b[1;32m    853\u001b[0m         \u001b[0mself\u001b[0m\u001b[0;34m.\u001b[0m\u001b[0m_transform\u001b[0m \u001b[0;34m=\u001b[0m \u001b[0mkwargs\u001b[0m\u001b[0;34m.\u001b[0m\u001b[0mpop\u001b[0m\u001b[0;34m(\u001b[0m\u001b[0;34m'transform'\u001b[0m\u001b[0;34m,\u001b[0m \u001b[0;32mNone\u001b[0m\u001b[0;34m)\u001b[0m\u001b[0;34m\u001b[0m\u001b[0;34m\u001b[0m\u001b[0m\n\u001b[1;32m    854\u001b[0m \u001b[0;34m\u001b[0m\u001b[0m\n\u001b[0;32m--> 855\u001b[0;31m         \u001b[0mkwargs\u001b[0m \u001b[0;34m=\u001b[0m \u001b[0mself\u001b[0m\u001b[0;34m.\u001b[0m\u001b[0m_process_args\u001b[0m\u001b[0;34m(\u001b[0m\u001b[0;34m*\u001b[0m\u001b[0margs\u001b[0m\u001b[0;34m,\u001b[0m \u001b[0;34m**\u001b[0m\u001b[0mkwargs\u001b[0m\u001b[0;34m)\u001b[0m\u001b[0;34m\u001b[0m\u001b[0;34m\u001b[0m\u001b[0m\n\u001b[0m\u001b[1;32m    856\u001b[0m         \u001b[0mself\u001b[0m\u001b[0;34m.\u001b[0m\u001b[0m_process_levels\u001b[0m\u001b[0;34m(\u001b[0m\u001b[0;34m)\u001b[0m\u001b[0;34m\u001b[0m\u001b[0;34m\u001b[0m\u001b[0m\n\u001b[1;32m    857\u001b[0m \u001b[0;34m\u001b[0m\u001b[0m\n",
      "\u001b[0;32m~/miniconda3/lib/python3.7/site-packages/matplotlib/contour.py\u001b[0m in \u001b[0;36m_process_args\u001b[0;34m(self, *args, **kwargs)\u001b[0m\n\u001b[1;32m   1454\u001b[0m                 \u001b[0mself\u001b[0m\u001b[0;34m.\u001b[0m\u001b[0m_corner_mask\u001b[0m \u001b[0;34m=\u001b[0m \u001b[0mmpl\u001b[0m\u001b[0;34m.\u001b[0m\u001b[0mrcParams\u001b[0m\u001b[0;34m[\u001b[0m\u001b[0;34m'contour.corner_mask'\u001b[0m\u001b[0;34m]\u001b[0m\u001b[0;34m\u001b[0m\u001b[0;34m\u001b[0m\u001b[0m\n\u001b[1;32m   1455\u001b[0m \u001b[0;34m\u001b[0m\u001b[0m\n\u001b[0;32m-> 1456\u001b[0;31m             \u001b[0mx\u001b[0m\u001b[0;34m,\u001b[0m \u001b[0my\u001b[0m\u001b[0;34m,\u001b[0m \u001b[0mz\u001b[0m \u001b[0;34m=\u001b[0m \u001b[0mself\u001b[0m\u001b[0;34m.\u001b[0m\u001b[0m_contour_args\u001b[0m\u001b[0;34m(\u001b[0m\u001b[0margs\u001b[0m\u001b[0;34m,\u001b[0m \u001b[0mkwargs\u001b[0m\u001b[0;34m)\u001b[0m\u001b[0;34m\u001b[0m\u001b[0;34m\u001b[0m\u001b[0m\n\u001b[0m\u001b[1;32m   1457\u001b[0m \u001b[0;34m\u001b[0m\u001b[0m\n\u001b[1;32m   1458\u001b[0m             \u001b[0m_mask\u001b[0m \u001b[0;34m=\u001b[0m \u001b[0mma\u001b[0m\u001b[0;34m.\u001b[0m\u001b[0mgetmask\u001b[0m\u001b[0;34m(\u001b[0m\u001b[0mz\u001b[0m\u001b[0;34m)\u001b[0m\u001b[0;34m\u001b[0m\u001b[0;34m\u001b[0m\u001b[0m\n",
      "\u001b[0;32m~/miniconda3/lib/python3.7/site-packages/matplotlib/contour.py\u001b[0m in \u001b[0;36m_contour_args\u001b[0;34m(self, args, kwargs)\u001b[0m\n\u001b[1;32m   1525\u001b[0m                                  'masked')\n\u001b[1;32m   1526\u001b[0m             \u001b[0mself\u001b[0m\u001b[0;34m.\u001b[0m\u001b[0mzmin\u001b[0m \u001b[0;34m=\u001b[0m \u001b[0mfloat\u001b[0m\u001b[0;34m(\u001b[0m\u001b[0mz\u001b[0m\u001b[0;34m.\u001b[0m\u001b[0mmin\u001b[0m\u001b[0;34m(\u001b[0m\u001b[0;34m)\u001b[0m\u001b[0;34m)\u001b[0m\u001b[0;34m\u001b[0m\u001b[0;34m\u001b[0m\u001b[0m\n\u001b[0;32m-> 1527\u001b[0;31m         \u001b[0mself\u001b[0m\u001b[0;34m.\u001b[0m\u001b[0m_contour_level_args\u001b[0m\u001b[0;34m(\u001b[0m\u001b[0mz\u001b[0m\u001b[0;34m,\u001b[0m \u001b[0margs\u001b[0m\u001b[0;34m)\u001b[0m\u001b[0;34m\u001b[0m\u001b[0;34m\u001b[0m\u001b[0m\n\u001b[0m\u001b[1;32m   1528\u001b[0m         \u001b[0;32mreturn\u001b[0m \u001b[0;34m(\u001b[0m\u001b[0mx\u001b[0m\u001b[0;34m,\u001b[0m \u001b[0my\u001b[0m\u001b[0;34m,\u001b[0m \u001b[0mz\u001b[0m\u001b[0;34m)\u001b[0m\u001b[0;34m\u001b[0m\u001b[0;34m\u001b[0m\u001b[0m\n\u001b[1;32m   1529\u001b[0m \u001b[0;34m\u001b[0m\u001b[0m\n",
      "\u001b[0;32m~/miniconda3/lib/python3.7/site-packages/matplotlib/contour.py\u001b[0m in \u001b[0;36m_contour_level_args\u001b[0;34m(self, z, args)\u001b[0m\n\u001b[1;32m   1208\u001b[0m             \u001b[0;32mraise\u001b[0m \u001b[0mValueError\u001b[0m\u001b[0;34m(\u001b[0m\u001b[0;34m\"Filled contours require at least 2 levels.\"\u001b[0m\u001b[0;34m)\u001b[0m\u001b[0;34m\u001b[0m\u001b[0;34m\u001b[0m\u001b[0m\n\u001b[1;32m   1209\u001b[0m \u001b[0;34m\u001b[0m\u001b[0m\n\u001b[0;32m-> 1210\u001b[0;31m         \u001b[0;32mif\u001b[0m \u001b[0mlen\u001b[0m\u001b[0;34m(\u001b[0m\u001b[0mself\u001b[0m\u001b[0;34m.\u001b[0m\u001b[0mlevels\u001b[0m\u001b[0;34m)\u001b[0m \u001b[0;34m>\u001b[0m \u001b[0;36m1\u001b[0m \u001b[0;32mand\u001b[0m \u001b[0mnp\u001b[0m\u001b[0;34m.\u001b[0m\u001b[0mmin\u001b[0m\u001b[0;34m(\u001b[0m\u001b[0mnp\u001b[0m\u001b[0;34m.\u001b[0m\u001b[0mdiff\u001b[0m\u001b[0;34m(\u001b[0m\u001b[0mself\u001b[0m\u001b[0;34m.\u001b[0m\u001b[0mlevels\u001b[0m\u001b[0;34m)\u001b[0m\u001b[0;34m)\u001b[0m \u001b[0;34m<=\u001b[0m \u001b[0;36m0.0\u001b[0m\u001b[0;34m:\u001b[0m\u001b[0;34m\u001b[0m\u001b[0;34m\u001b[0m\u001b[0m\n\u001b[0m\u001b[1;32m   1211\u001b[0m             \u001b[0;32mraise\u001b[0m \u001b[0mValueError\u001b[0m\u001b[0;34m(\u001b[0m\u001b[0;34m\"Contour levels must be increasing\"\u001b[0m\u001b[0;34m)\u001b[0m\u001b[0;34m\u001b[0m\u001b[0;34m\u001b[0m\u001b[0m\n\u001b[1;32m   1212\u001b[0m \u001b[0;34m\u001b[0m\u001b[0m\n",
      "\u001b[0;31mTypeError\u001b[0m: len() of unsized object"
     ]
    },
    {
     "data": {
      "image/png": "[encoded data removed]",
      "text/plain": [
       "<Figure size 540x540 with 1 Axes>"
      ]
     },
     "metadata": {
      "needs_background": "light"
     },
     "output_type": "display_data"
    }
   ],
   "source": [
    "fig,ax = plt.subplots(figsize=(7.5,7.5))\n",
    "\n",
    "ax.contour(x,y, toplot,COAR_p88[0],colors='k')\n",
    "cont_levels = np.linspace(-8e4,8e4,25)\n",
    "im = ax.contourf(x, y, toplot-toplot.mean(), cont_levels,\n",
    "                 vmin = -8e4, vmax = 8e4, extend='both')\n",
    "ax.set_xlabel('x [km]')\n",
    "ax.set_ylabel('y [km]')\n",
    "ax.set_title('(a) Time-mean MSE anomaly (day 85-100) in RCE')\n",
    "cbar = plt.colorbar(im)"
   ]
  },
  {
   "cell_type": "code",
   "execution_count": null,
   "metadata": {},
   "outputs": [],
   "source": []
  }
 ],
 "metadata": {
  "kernelspec": {
   "display_name": "Python 3",
   "language": "python",
   "name": "python3"
  },
  "language_info": {
   "codemirror_mode": {
    "name": "ipython",
    "version": 3
   },
   "file_extension": ".py",
   "mimetype": "text/x-python",
   "name": "python",
   "nbconvert_exporter": "python",
   "pygments_lexer": "ipython3",
   "version": "3.7.3"
  },
  "toc": {
   "base_numbering": 1,
   "nav_menu": {},
   "number_sections": true,
   "sideBar": true,
   "skip_h1_title": false,
   "title_cell": "Table of Contents",
   "title_sidebar": "Contents",
   "toc_cell": false,
   "toc_position": {
    "height": "692px",
    "left": "22px",
    "top": "110.797px",
    "width": "307.188px"
   },
   "toc_section_display": true,
   "toc_window_display": true
  }
 },
 "nbformat": 4,
 "nbformat_minor": 2
}
