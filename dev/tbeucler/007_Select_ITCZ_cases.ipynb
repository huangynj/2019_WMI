{
 "cells": [
  {
   "cell_type": "code",
   "execution_count": 1,
   "metadata": {},
   "outputs": [],
   "source": [
    "import util.Landau_Potential_Diffusion as Landau\n",
    "import util.curvature as curve\n",
    "\n",
    "import xarray as xr\n",
    "import numpy as np\n",
    "import numpy.fft as fft\n",
    "import matplotlib.pyplot as plt\n",
    "import datetime\n",
    "from skimage import measure\n",
    "from scipy import ndimage\n",
    "import scipy.integrate as sin\n",
    "from scipy.optimize import curve_fit"
   ]
  },
  {
   "cell_type": "code",
   "execution_count": 2,
   "metadata": {},
   "outputs": [],
   "source": [
    "path = '/nfs/twcroninlab002/tbeucler/ERA5/ERA5_LHF_SHF/'"
   ]
  },
  {
   "cell_type": "code",
   "execution_count": 3,
   "metadata": {},
   "outputs": [
    {
     "name": "stdout",
     "output_type": "stream",
     "text": [
      "[1, 1, 1, 1, 1, 1, 1, 1, 1, 1, 1, 1, 1, 1, 1, 1, 1, 1, 1, 1, 1, 1, 1, 1, 1, 1, 1, 1, 1, 1, 1, 1, 1, 1, 1, 1, 1, 1, 1, 1, 1, 1, 1, 1, 1, 1, 1, 1, 1, 1, 1, 1, 1, 1, 1, 1, 1, 1, 1, 1, 1, 1, 1, 1, 1, 1, 1, 1, 1, 1, 1, 1, 1, 1, 1, 1, 1, 1, 1, 1, 1, 1, 1, 1, 1, 1, 1, 1, 1, 1, 1, 1, 1, 1, 1, 1, 1, 1, 1, 1, 1, 1, 1, 1, 1, 1, 1, 1, 1, 1, 1, 1, 1, 1, 1, 1, 1, 1, 1, 1, 1, 1, 1, 1, 1, 1, 1, 1, 1, 1, 1, 1, 1, 1, 1, 1, 1, 1, 1, 1, 1, 1, 1, 1, 1, 1, 1, 1, 1, 1, 1, 1, 1, 1, 1, 1, 1, 1, 1, 1, 1, 1, 1, 1, 1, 1, 1, 1, 1, 1, 1, 1, 1, 1, 1, 1, 1, 1, 1, 1, 1, 1, 1, 1, 1, 1, 1, 1, 1, 1, 1, 1, 1, 1, 1, 1, 1, 1, 1, 1, 1, 1, 1, 1, 1, 1, 1, 1, 1, 1, 1, 1, 1, 1, 1, 1, 1, 1, 1, 1, 1, 1, 1]\n"
     ]
    }
   ],
   "source": [
    "MSE = xr.open_mfdataset(path+'????/??MSE.nc',combine='by_coords')"
   ]
  },
  {
   "cell_type": "code",
   "execution_count": 4,
   "metadata": {},
   "outputs": [
    {
     "data": {
      "text/plain": [
       "<xarray.Dataset>\n",
       "Dimensions:    (latitude: 721, longitude: 1440, time: 162888)\n",
       "Coordinates:\n",
       "  * longitude  (longitude) float32 0.0 0.25 0.5 0.75 ... 359.25 359.5 359.75\n",
       "  * latitude   (latitude) float32 90.0 89.75 89.5 89.25 ... -89.5 -89.75 -90.0\n",
       "  * time       (time) datetime64[ns] 2000-01-01 ... 2018-07-31T23:00:00\n",
       "Data variables:\n",
       "    p61.162    (time, latitude, longitude) float32 dask.array<shape=(162888, 721, 1440), chunksize=(744, 721, 1440)>\n",
       "    p62.162    (time, latitude, longitude) float32 dask.array<shape=(162888, 721, 1440), chunksize=(744, 721, 1440)>\n",
       "Attributes:\n",
       "    Conventions:  CF-1.6\n",
       "    history:      2018-10-25 15:55:44 GMT by grib_to_netcdf-2.7.0: /opt/ecmwf..."
      ]
     },
     "execution_count": 4,
     "metadata": {},
     "output_type": "execute_result"
    }
   ],
   "source": [
    "MSE"
   ]
  },
  {
   "cell_type": "code",
   "execution_count": 6,
   "metadata": {},
   "outputs": [],
   "source": [
    "dt = 3600\n",
    "tcoor = dt*np.arange(0,MSE.time.shape[0])"
   ]
  },
  {
   "cell_type": "code",
   "execution_count": 7,
   "metadata": {},
   "outputs": [],
   "source": [
    "latmin = -30\n",
    "latmax = 30\n",
    "lonmin = 300\n",
    "lonmax = 360\n",
    "\n",
    "MSEAtl = MSE['p62.162'].sel({'longitude':slice(lonmin,lonmax),'latitude':slice(latmax,latmin)})\n",
    "lonAtl = MSE.longitude.sel({'longitude':slice(lonmin,lonmax)})\n",
    "latAtl = MSE.latitude.sel({'latitude':slice(latmax,latmin)})"
   ]
  },
  {
   "cell_type": "code",
   "execution_count": 13,
   "metadata": {},
   "outputs": [
    {
     "name": "stdout",
     "output_type": "stream",
     "text": [
      "[2000 2001 2002 2003 2004 2005 2006 2007 2008 2009 2010 2011 2012 2013\n",
      " 2014 2015 2016 2017 2018]\n"
     ]
    }
   ],
   "source": [
    "YEAR = np.linspace(2000,2018,19).astype(int)\n",
    "print(YEAR)"
   ]
  },
  {
   "cell_type": "code",
   "execution_count": 15,
   "metadata": {},
   "outputs": [
    {
     "name": "stdout",
     "output_type": "stream",
     "text": [
      "1993-01-01T00:00:00 1993-12-31T23:00:00\n"
     ]
    }
   ],
   "source": [
    "year = 1993\n",
    "date1 = str(year)+'-01-01T00:00:00'\n",
    "date2 = str(year)+'-12-31T23:00:00'\n",
    "print(date1,date2)"
   ]
  },
  {
   "cell_type": "code",
   "execution_count": null,
   "metadata": {},
   "outputs": [
    {
     "name": "stdout",
     "output_type": "stream",
     "text": [
      "i= 3  & year= 2003                 \r"
     ]
    }
   ],
   "source": [
    "IQ = {}\n",
    "for i,year in enumerate(YEAR):\n",
    "    print('i=',i,' & year=',year,'                ',end='\\r')\n",
    "    date1 = str(year)+'-01-01T00:00:00'\n",
    "    date2 = str(year)+'-12-31T23:00:00'\n",
    "    IQ[str(year)] = np.zeros((MSEAtl.time.sel({'time':slice(date1,date2)}).shape[0],))\n",
    "    IQ[str(year)][:] = np.percentile(MSEAtl.sel({'time':slice(date1,date2)}),75,axis=(1,2))-\\\n",
    "    np.percentile(MSEAtl.sel({'time':slice(date1,date2)}),25,axis=(1,2))"
   ]
  },
  {
   "cell_type": "code",
   "execution_count": null,
   "metadata": {},
   "outputs": [],
   "source": []
  }
 ],
 "metadata": {
  "kernelspec": {
   "display_name": "Python 3",
   "language": "python",
   "name": "python3"
  },
  "language_info": {
   "codemirror_mode": {
    "name": "ipython",
    "version": 3
   },
   "file_extension": ".py",
   "mimetype": "text/x-python",
   "name": "python",
   "nbconvert_exporter": "python",
   "pygments_lexer": "ipython3",
   "version": "3.7.3"
  }
 },
 "nbformat": 4,
 "nbformat_minor": 2
}
