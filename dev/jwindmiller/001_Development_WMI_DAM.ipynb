{
 "cells": [
  {
   "cell_type": "markdown",
   "metadata": {},
   "source": [
    "# 1) Initialization"
   ]
  },
  {
   "cell_type": "code",
   "execution_count": 16,
   "metadata": {},
   "outputs": [],
   "source": [
    "import xarray as xr\n",
    "import numpy as np\n",
    "import matplotlib.pyplot as plt\n",
    "import datetime\n",
    "from skimage import measure"
   ]
  },
  {
   "cell_type": "code",
   "execution_count": 2,
   "metadata": {},
   "outputs": [],
   "source": [
    "path = '/home/tompkins-archive/tompkins/RCEMIP/swift.dkrz.de/dam/'\n",
    "run  = 'RCE_small300/'\n",
    "run_large = 'RCE_large300/'\n",
    "var_dim = '2D/'"
   ]
  },
  {
   "cell_type": "code",
   "execution_count": 3,
   "metadata": {},
   "outputs": [
    {
     "name": "stderr",
     "output_type": "stream",
     "text": [
      "/scratch/tbeucler/miniconda3/lib/python3.7/site-packages/xarray/backends/api.py:783: FutureWarning: In xarray version 0.13 `auto_combine` will be deprecated.\n",
      "  coords=coords)\n",
      "/scratch/tbeucler/miniconda3/lib/python3.7/site-packages/xarray/backends/api.py:783: FutureWarning: The datasets supplied have global dimension coordinates. You may want\n",
      "to use the new `combine_by_coords` function (or the\n",
      "`combine='by_coords'` option to `open_mfdataset` to order the datasets\n",
      "before concatenation. Alternatively, to continue concatenating based\n",
      "on the order the datasets are supplied in in future, please use the\n",
      "new `combine_nested` function (or the `combine='nested'` option to\n",
      "open_mfdataset).The datasets supplied require both concatenation and merging. From\n",
      "xarray version 0.14 this will operation will require either using the\n",
      "new `combine_nested` function (or the `combine='nested'` option to\n",
      "open_mfdataset), with a nested list structure such that you can combine\n",
      "along the dimensions None. Alternatively if your datasets have global\n",
      "dimension coordinates then you can use the new `combine_by_coords`\n",
      "function.\n",
      "  coords=coords)\n"
     ]
    }
   ],
   "source": [
    "small300 = xr.open_mfdataset(path+run+var_dim+\"*.nc\")\n",
    "large300 = xr.open_mfdataset(path+run_large+var_dim+\"*prw.nc\")"
   ]
  },
  {
   "cell_type": "code",
   "execution_count": 4,
   "metadata": {},
   "outputs": [],
   "source": [
    "# import glob\n",
    "# files = sorted(glob.glob(path+'RCE_small???/'+var_dim+'*.nc'))\n",
    "# small = xr.open_mfdataset(files,concat_dim='SST')"
   ]
  },
  {
   "cell_type": "code",
   "execution_count": 5,
   "metadata": {},
   "outputs": [],
   "source": [
    "# files_large = sorted(glob.glob(path+'RCE_large???/'+var_dim+'*.nc'))\n",
    "# large = xr.open_mfdataset(files_large,concat_dim='SST')"
   ]
  },
  {
   "cell_type": "markdown",
   "metadata": {},
   "source": [
    "# 2) Metrics\n",
    "We will compare several metrics:\n",
    "- I_org  \n",
    "- Meander number of Prof Windmiller\n",
    "- MSE spectrum"
   ]
  },
  {
   "cell_type": "code",
   "execution_count": 101,
   "metadata": {},
   "outputs": [],
   "source": [
    "def calc_WMI(CRH):\n",
    "    ### Input: precipitable water field (time, x, y)\n",
    "    ### Returns: aggregation index calculated as 4*area*pi/(perimeter length)**2\n",
    "    ###          which compares the length of the boundary between the moist and \n",
    "    ###          the dry region with the circumference of the moist region\n",
    "    \n",
    "    CRH_median = np.median(CRH, axis=(1,2))\n",
    "    tmp = np.repeat(CRH_median[:, np.newaxis], CRH.shape[1], axis=1)\n",
    "    CRH_median_rep = np.repeat(tmp[:,:,np.newaxis],CRH.shape[2],axis=2)\n",
    "    \n",
    "    binary = CRH>CRH_median_rep\n",
    "    A_tot = np.sum(binary,axis=(1,2))*(dx**2)/1e12\n",
    "    \n",
    "    perimeter_tot = np.zeros(len(CRH_median))\n",
    "    \n",
    "    for it in range(len(np.median(CRH,axis=(1,2)))):\n",
    "        print(\"calculating time step %i\"%it)\n",
    "        perimeter_tot[it] = dx*measure.perimeter(binary[it,:,:],8)/1e6\n",
    "\n",
    "    WMI = 4*np.pi*A_tot/perimeter_tot**2\n",
    "    \n",
    "    return WMI"
   ]
  },
  {
   "cell_type": "code",
   "execution_count": 97,
   "metadata": {},
   "outputs": [
    {
     "name": "stdout",
     "output_type": "stream",
     "text": [
      "(2400, 108, 108)\n"
     ]
    }
   ],
   "source": [
    "CRH = small300.prw/small300.sprw\n",
    "dx = small300.x.values[1]-small300.x.values[0]\n",
    "print(CRH.shape)"
   ]
  },
  {
   "cell_type": "code",
   "execution_count": 100,
   "metadata": {
    "collapsed": true
   },
   "outputs": [
    {
     "name": "stdout",
     "output_type": "stream",
     "text": [
      "calculating time step 0\n",
      "calculating time step 1\n",
      "calculating time step 2\n",
      "calculating time step 3\n",
      "calculating time step 4\n",
      "calculating time step 5\n",
      "calculating time step 6\n",
      "calculating time step 7\n",
      "calculating time step 8\n",
      "calculating time step 9\n",
      "calculating time step 10\n",
      "calculating time step 11\n",
      "calculating time step 12\n",
      "calculating time step 13\n",
      "calculating time step 14\n",
      "calculating time step 15\n",
      "calculating time step 16\n",
      "calculating time step 17\n",
      "calculating time step 18\n",
      "calculating time step 19\n",
      "calculating time step 20\n",
      "calculating time step 21\n",
      "calculating time step 22\n",
      "calculating time step 23\n",
      "calculating time step 24\n",
      "calculating time step 25\n",
      "calculating time step 26\n",
      "calculating time step 27\n",
      "calculating time step 28\n",
      "calculating time step 29\n",
      "calculating time step 30\n",
      "calculating time step 31\n",
      "calculating time step 32\n",
      "calculating time step 33\n",
      "calculating time step 34\n",
      "calculating time step 35\n",
      "calculating time step 36\n",
      "calculating time step 37\n",
      "calculating time step 38\n",
      "calculating time step 39\n",
      "calculating time step 40\n",
      "calculating time step 41\n",
      "calculating time step 42\n",
      "calculating time step 43\n",
      "calculating time step 44\n",
      "calculating time step 45\n",
      "calculating time step 46\n",
      "calculating time step 47\n",
      "calculating time step 48\n",
      "calculating time step 49\n",
      "calculating time step 50\n",
      "calculating time step 51\n",
      "calculating time step 52\n",
      "calculating time step 53\n",
      "calculating time step 54\n",
      "calculating time step 55\n",
      "calculating time step 56\n",
      "calculating time step 57\n",
      "calculating time step 58\n",
      "calculating time step 59\n",
      "calculating time step 60\n",
      "calculating time step 61\n",
      "calculating time step 62\n",
      "calculating time step 63\n",
      "calculating time step 64\n",
      "calculating time step 65\n",
      "calculating time step 66\n",
      "calculating time step 67\n",
      "calculating time step 68\n",
      "calculating time step 69\n",
      "calculating time step 70\n",
      "calculating time step 71\n",
      "calculating time step 72\n",
      "calculating time step 73\n",
      "calculating time step 74\n",
      "calculating time step 75\n",
      "calculating time step 76\n",
      "calculating time step 77\n",
      "calculating time step 78\n",
      "calculating time step 79\n",
      "calculating time step 80\n",
      "calculating time step 81\n",
      "calculating time step 82\n",
      "calculating time step 83\n",
      "calculating time step 84\n",
      "calculating time step 85\n",
      "calculating time step 86\n",
      "calculating time step 87\n",
      "calculating time step 88\n",
      "calculating time step 89\n",
      "calculating time step 90\n",
      "calculating time step 91\n",
      "calculating time step 92\n",
      "calculating time step 93\n",
      "calculating time step 94\n",
      "calculating time step 95\n",
      "calculating time step 96\n",
      "calculating time step 97\n",
      "calculating time step 98\n",
      "calculating time step 99\n"
     ]
    },
    {
     "data": {
      "text/plain": [
       "<xarray.DataArray (time: 100)>\n",
       "dask.array<shape=(100,), dtype=float64, chunksize=(100,)>\n",
       "Coordinates:\n",
       "  * time     (time) timedelta64[ns] 0 days 01:00:00.000028 ... 99 days 01:00:00.000028"
      ]
     },
     "execution_count": 100,
     "metadata": {},
     "output_type": "execute_result"
    }
   ],
   "source": [
    "WMIsmall300 WMI(CRH[::24,:,:])"
   ]
  },
  {
   "cell_type": "code",
   "execution_count": 102,
   "metadata": {},
   "outputs": [
    {
     "ename": "TypeError",
     "evalue": "float() argument must be a string or a number, not 'function'",
     "output_type": "error",
     "traceback": [
      "\u001b[0;31m---------------------------------------------------------------------------\u001b[0m",
      "\u001b[0;31mTypeError\u001b[0m                                 Traceback (most recent call last)",
      "\u001b[0;32m<ipython-input-102-55ccf775a3b9>\u001b[0m in \u001b[0;36m<module>\u001b[0;34m\u001b[0m\n\u001b[0;32m----> 1\u001b[0;31m \u001b[0mplt\u001b[0m\u001b[0;34m.\u001b[0m\u001b[0mplot\u001b[0m\u001b[0;34m(\u001b[0m\u001b[0mWMI\u001b[0m\u001b[0;34m)\u001b[0m\u001b[0;34m\u001b[0m\u001b[0;34m\u001b[0m\u001b[0m\n\u001b[0m",
      "\u001b[0;32m/scratch/tbeucler/miniconda3/lib/python3.7/site-packages/matplotlib/pyplot.py\u001b[0m in \u001b[0;36mplot\u001b[0;34m(*args, **kwargs)\u001b[0m\n\u001b[1;32m   3356\u001b[0m                       mplDeprecation)\n\u001b[1;32m   3357\u001b[0m     \u001b[0;32mtry\u001b[0m\u001b[0;34m:\u001b[0m\u001b[0;34m\u001b[0m\u001b[0;34m\u001b[0m\u001b[0m\n\u001b[0;32m-> 3358\u001b[0;31m         \u001b[0mret\u001b[0m \u001b[0;34m=\u001b[0m \u001b[0max\u001b[0m\u001b[0;34m.\u001b[0m\u001b[0mplot\u001b[0m\u001b[0;34m(\u001b[0m\u001b[0;34m*\u001b[0m\u001b[0margs\u001b[0m\u001b[0;34m,\u001b[0m \u001b[0;34m**\u001b[0m\u001b[0mkwargs\u001b[0m\u001b[0;34m)\u001b[0m\u001b[0;34m\u001b[0m\u001b[0;34m\u001b[0m\u001b[0m\n\u001b[0m\u001b[1;32m   3359\u001b[0m     \u001b[0;32mfinally\u001b[0m\u001b[0;34m:\u001b[0m\u001b[0;34m\u001b[0m\u001b[0;34m\u001b[0m\u001b[0m\n\u001b[1;32m   3360\u001b[0m         \u001b[0max\u001b[0m\u001b[0;34m.\u001b[0m\u001b[0m_hold\u001b[0m \u001b[0;34m=\u001b[0m \u001b[0mwashold\u001b[0m\u001b[0;34m\u001b[0m\u001b[0;34m\u001b[0m\u001b[0m\n",
      "\u001b[0;32m/scratch/tbeucler/miniconda3/lib/python3.7/site-packages/matplotlib/__init__.py\u001b[0m in \u001b[0;36minner\u001b[0;34m(ax, *args, **kwargs)\u001b[0m\n\u001b[1;32m   1853\u001b[0m                         \u001b[0;34m\"the Matplotlib list!)\"\u001b[0m \u001b[0;34m%\u001b[0m \u001b[0;34m(\u001b[0m\u001b[0mlabel_namer\u001b[0m\u001b[0;34m,\u001b[0m \u001b[0mfunc\u001b[0m\u001b[0;34m.\u001b[0m\u001b[0m__name__\u001b[0m\u001b[0;34m)\u001b[0m\u001b[0;34m,\u001b[0m\u001b[0;34m\u001b[0m\u001b[0;34m\u001b[0m\u001b[0m\n\u001b[1;32m   1854\u001b[0m                         RuntimeWarning, stacklevel=2)\n\u001b[0;32m-> 1855\u001b[0;31m             \u001b[0;32mreturn\u001b[0m \u001b[0mfunc\u001b[0m\u001b[0;34m(\u001b[0m\u001b[0max\u001b[0m\u001b[0;34m,\u001b[0m \u001b[0;34m*\u001b[0m\u001b[0margs\u001b[0m\u001b[0;34m,\u001b[0m \u001b[0;34m**\u001b[0m\u001b[0mkwargs\u001b[0m\u001b[0;34m)\u001b[0m\u001b[0;34m\u001b[0m\u001b[0;34m\u001b[0m\u001b[0m\n\u001b[0m\u001b[1;32m   1856\u001b[0m \u001b[0;34m\u001b[0m\u001b[0m\n\u001b[1;32m   1857\u001b[0m         inner.__doc__ = _add_data_doc(inner.__doc__,\n",
      "\u001b[0;32m/scratch/tbeucler/miniconda3/lib/python3.7/site-packages/matplotlib/axes/_axes.py\u001b[0m in \u001b[0;36mplot\u001b[0;34m(self, *args, **kwargs)\u001b[0m\n\u001b[1;32m   1526\u001b[0m \u001b[0;34m\u001b[0m\u001b[0m\n\u001b[1;32m   1527\u001b[0m         \u001b[0;32mfor\u001b[0m \u001b[0mline\u001b[0m \u001b[0;32min\u001b[0m \u001b[0mself\u001b[0m\u001b[0;34m.\u001b[0m\u001b[0m_get_lines\u001b[0m\u001b[0;34m(\u001b[0m\u001b[0;34m*\u001b[0m\u001b[0margs\u001b[0m\u001b[0;34m,\u001b[0m \u001b[0;34m**\u001b[0m\u001b[0mkwargs\u001b[0m\u001b[0;34m)\u001b[0m\u001b[0;34m:\u001b[0m\u001b[0;34m\u001b[0m\u001b[0;34m\u001b[0m\u001b[0m\n\u001b[0;32m-> 1528\u001b[0;31m             \u001b[0mself\u001b[0m\u001b[0;34m.\u001b[0m\u001b[0madd_line\u001b[0m\u001b[0;34m(\u001b[0m\u001b[0mline\u001b[0m\u001b[0;34m)\u001b[0m\u001b[0;34m\u001b[0m\u001b[0;34m\u001b[0m\u001b[0m\n\u001b[0m\u001b[1;32m   1529\u001b[0m             \u001b[0mlines\u001b[0m\u001b[0;34m.\u001b[0m\u001b[0mappend\u001b[0m\u001b[0;34m(\u001b[0m\u001b[0mline\u001b[0m\u001b[0;34m)\u001b[0m\u001b[0;34m\u001b[0m\u001b[0;34m\u001b[0m\u001b[0m\n\u001b[1;32m   1530\u001b[0m \u001b[0;34m\u001b[0m\u001b[0m\n",
      "\u001b[0;32m/scratch/tbeucler/miniconda3/lib/python3.7/site-packages/matplotlib/axes/_base.py\u001b[0m in \u001b[0;36madd_line\u001b[0;34m(self, line)\u001b[0m\n\u001b[1;32m   1930\u001b[0m             \u001b[0mline\u001b[0m\u001b[0;34m.\u001b[0m\u001b[0mset_clip_path\u001b[0m\u001b[0;34m(\u001b[0m\u001b[0mself\u001b[0m\u001b[0;34m.\u001b[0m\u001b[0mpatch\u001b[0m\u001b[0;34m)\u001b[0m\u001b[0;34m\u001b[0m\u001b[0;34m\u001b[0m\u001b[0m\n\u001b[1;32m   1931\u001b[0m \u001b[0;34m\u001b[0m\u001b[0m\n\u001b[0;32m-> 1932\u001b[0;31m         \u001b[0mself\u001b[0m\u001b[0;34m.\u001b[0m\u001b[0m_update_line_limits\u001b[0m\u001b[0;34m(\u001b[0m\u001b[0mline\u001b[0m\u001b[0;34m)\u001b[0m\u001b[0;34m\u001b[0m\u001b[0;34m\u001b[0m\u001b[0m\n\u001b[0m\u001b[1;32m   1933\u001b[0m         \u001b[0;32mif\u001b[0m \u001b[0;32mnot\u001b[0m \u001b[0mline\u001b[0m\u001b[0;34m.\u001b[0m\u001b[0mget_label\u001b[0m\u001b[0;34m(\u001b[0m\u001b[0;34m)\u001b[0m\u001b[0;34m:\u001b[0m\u001b[0;34m\u001b[0m\u001b[0;34m\u001b[0m\u001b[0m\n\u001b[1;32m   1934\u001b[0m             \u001b[0mline\u001b[0m\u001b[0;34m.\u001b[0m\u001b[0mset_label\u001b[0m\u001b[0;34m(\u001b[0m\u001b[0;34m'_line%d'\u001b[0m \u001b[0;34m%\u001b[0m \u001b[0mlen\u001b[0m\u001b[0;34m(\u001b[0m\u001b[0mself\u001b[0m\u001b[0;34m.\u001b[0m\u001b[0mlines\u001b[0m\u001b[0;34m)\u001b[0m\u001b[0;34m)\u001b[0m\u001b[0;34m\u001b[0m\u001b[0;34m\u001b[0m\u001b[0m\n",
      "\u001b[0;32m/scratch/tbeucler/miniconda3/lib/python3.7/site-packages/matplotlib/axes/_base.py\u001b[0m in \u001b[0;36m_update_line_limits\u001b[0;34m(self, line)\u001b[0m\n\u001b[1;32m   1952\u001b[0m         \u001b[0mFigures\u001b[0m \u001b[0mout\u001b[0m \u001b[0mthe\u001b[0m \u001b[0mdata\u001b[0m \u001b[0mlimit\u001b[0m \u001b[0mof\u001b[0m \u001b[0mthe\u001b[0m \u001b[0mgiven\u001b[0m \u001b[0mline\u001b[0m\u001b[0;34m,\u001b[0m \u001b[0mupdating\u001b[0m \u001b[0mself\u001b[0m\u001b[0;34m.\u001b[0m\u001b[0mdataLim\u001b[0m\u001b[0;34m.\u001b[0m\u001b[0;34m\u001b[0m\u001b[0;34m\u001b[0m\u001b[0m\n\u001b[1;32m   1953\u001b[0m         \"\"\"\n\u001b[0;32m-> 1954\u001b[0;31m         \u001b[0mpath\u001b[0m \u001b[0;34m=\u001b[0m \u001b[0mline\u001b[0m\u001b[0;34m.\u001b[0m\u001b[0mget_path\u001b[0m\u001b[0;34m(\u001b[0m\u001b[0;34m)\u001b[0m\u001b[0;34m\u001b[0m\u001b[0;34m\u001b[0m\u001b[0m\n\u001b[0m\u001b[1;32m   1955\u001b[0m         \u001b[0;32mif\u001b[0m \u001b[0mpath\u001b[0m\u001b[0;34m.\u001b[0m\u001b[0mvertices\u001b[0m\u001b[0;34m.\u001b[0m\u001b[0msize\u001b[0m \u001b[0;34m==\u001b[0m \u001b[0;36m0\u001b[0m\u001b[0;34m:\u001b[0m\u001b[0;34m\u001b[0m\u001b[0;34m\u001b[0m\u001b[0m\n\u001b[1;32m   1956\u001b[0m             \u001b[0;32mreturn\u001b[0m\u001b[0;34m\u001b[0m\u001b[0;34m\u001b[0m\u001b[0m\n",
      "\u001b[0;32m/scratch/tbeucler/miniconda3/lib/python3.7/site-packages/matplotlib/lines.py\u001b[0m in \u001b[0;36mget_path\u001b[0;34m(self)\u001b[0m\n\u001b[1;32m    949\u001b[0m         \"\"\"\n\u001b[1;32m    950\u001b[0m         \u001b[0;32mif\u001b[0m \u001b[0mself\u001b[0m\u001b[0;34m.\u001b[0m\u001b[0m_invalidy\u001b[0m \u001b[0;32mor\u001b[0m \u001b[0mself\u001b[0m\u001b[0;34m.\u001b[0m\u001b[0m_invalidx\u001b[0m\u001b[0;34m:\u001b[0m\u001b[0;34m\u001b[0m\u001b[0;34m\u001b[0m\u001b[0m\n\u001b[0;32m--> 951\u001b[0;31m             \u001b[0mself\u001b[0m\u001b[0;34m.\u001b[0m\u001b[0mrecache\u001b[0m\u001b[0;34m(\u001b[0m\u001b[0;34m)\u001b[0m\u001b[0;34m\u001b[0m\u001b[0;34m\u001b[0m\u001b[0m\n\u001b[0m\u001b[1;32m    952\u001b[0m         \u001b[0;32mreturn\u001b[0m \u001b[0mself\u001b[0m\u001b[0;34m.\u001b[0m\u001b[0m_path\u001b[0m\u001b[0;34m\u001b[0m\u001b[0;34m\u001b[0m\u001b[0m\n\u001b[1;32m    953\u001b[0m \u001b[0;34m\u001b[0m\u001b[0m\n",
      "\u001b[0;32m/scratch/tbeucler/miniconda3/lib/python3.7/site-packages/matplotlib/lines.py\u001b[0m in \u001b[0;36mrecache\u001b[0;34m(self, always)\u001b[0m\n\u001b[1;32m    655\u001b[0m         \u001b[0;32mif\u001b[0m \u001b[0malways\u001b[0m \u001b[0;32mor\u001b[0m \u001b[0mself\u001b[0m\u001b[0;34m.\u001b[0m\u001b[0m_invalidy\u001b[0m\u001b[0;34m:\u001b[0m\u001b[0;34m\u001b[0m\u001b[0;34m\u001b[0m\u001b[0m\n\u001b[1;32m    656\u001b[0m             \u001b[0myconv\u001b[0m \u001b[0;34m=\u001b[0m \u001b[0mself\u001b[0m\u001b[0;34m.\u001b[0m\u001b[0mconvert_yunits\u001b[0m\u001b[0;34m(\u001b[0m\u001b[0mself\u001b[0m\u001b[0;34m.\u001b[0m\u001b[0m_yorig\u001b[0m\u001b[0;34m)\u001b[0m\u001b[0;34m\u001b[0m\u001b[0;34m\u001b[0m\u001b[0m\n\u001b[0;32m--> 657\u001b[0;31m             \u001b[0my\u001b[0m \u001b[0;34m=\u001b[0m \u001b[0m_to_unmasked_float_array\u001b[0m\u001b[0;34m(\u001b[0m\u001b[0myconv\u001b[0m\u001b[0;34m)\u001b[0m\u001b[0;34m.\u001b[0m\u001b[0mravel\u001b[0m\u001b[0;34m(\u001b[0m\u001b[0;34m)\u001b[0m\u001b[0;34m\u001b[0m\u001b[0;34m\u001b[0m\u001b[0m\n\u001b[0m\u001b[1;32m    658\u001b[0m         \u001b[0;32melse\u001b[0m\u001b[0;34m:\u001b[0m\u001b[0;34m\u001b[0m\u001b[0;34m\u001b[0m\u001b[0m\n\u001b[1;32m    659\u001b[0m             \u001b[0my\u001b[0m \u001b[0;34m=\u001b[0m \u001b[0mself\u001b[0m\u001b[0;34m.\u001b[0m\u001b[0m_y\u001b[0m\u001b[0;34m\u001b[0m\u001b[0;34m\u001b[0m\u001b[0m\n",
      "\u001b[0;32m/scratch/tbeucler/miniconda3/lib/python3.7/site-packages/matplotlib/cbook/__init__.py\u001b[0m in \u001b[0;36m_to_unmasked_float_array\u001b[0;34m(x)\u001b[0m\n\u001b[1;32m   2048\u001b[0m         \u001b[0;32mreturn\u001b[0m \u001b[0mnp\u001b[0m\u001b[0;34m.\u001b[0m\u001b[0mma\u001b[0m\u001b[0;34m.\u001b[0m\u001b[0masarray\u001b[0m\u001b[0;34m(\u001b[0m\u001b[0mx\u001b[0m\u001b[0;34m,\u001b[0m \u001b[0mfloat\u001b[0m\u001b[0;34m)\u001b[0m\u001b[0;34m.\u001b[0m\u001b[0mfilled\u001b[0m\u001b[0;34m(\u001b[0m\u001b[0mnp\u001b[0m\u001b[0;34m.\u001b[0m\u001b[0mnan\u001b[0m\u001b[0;34m)\u001b[0m\u001b[0;34m\u001b[0m\u001b[0;34m\u001b[0m\u001b[0m\n\u001b[1;32m   2049\u001b[0m     \u001b[0;32melse\u001b[0m\u001b[0;34m:\u001b[0m\u001b[0;34m\u001b[0m\u001b[0;34m\u001b[0m\u001b[0m\n\u001b[0;32m-> 2050\u001b[0;31m         \u001b[0;32mreturn\u001b[0m \u001b[0mnp\u001b[0m\u001b[0;34m.\u001b[0m\u001b[0masarray\u001b[0m\u001b[0;34m(\u001b[0m\u001b[0mx\u001b[0m\u001b[0;34m,\u001b[0m \u001b[0mfloat\u001b[0m\u001b[0;34m)\u001b[0m\u001b[0;34m\u001b[0m\u001b[0;34m\u001b[0m\u001b[0m\n\u001b[0m\u001b[1;32m   2051\u001b[0m \u001b[0;34m\u001b[0m\u001b[0m\n\u001b[1;32m   2052\u001b[0m \u001b[0;34m\u001b[0m\u001b[0m\n",
      "\u001b[0;32m/scratch/tbeucler/miniconda3/lib/python3.7/site-packages/numpy/core/numeric.py\u001b[0m in \u001b[0;36masarray\u001b[0;34m(a, dtype, order)\u001b[0m\n\u001b[1;32m    536\u001b[0m \u001b[0;34m\u001b[0m\u001b[0m\n\u001b[1;32m    537\u001b[0m     \"\"\"\n\u001b[0;32m--> 538\u001b[0;31m     \u001b[0;32mreturn\u001b[0m \u001b[0marray\u001b[0m\u001b[0;34m(\u001b[0m\u001b[0ma\u001b[0m\u001b[0;34m,\u001b[0m \u001b[0mdtype\u001b[0m\u001b[0;34m,\u001b[0m \u001b[0mcopy\u001b[0m\u001b[0;34m=\u001b[0m\u001b[0;32mFalse\u001b[0m\u001b[0;34m,\u001b[0m \u001b[0morder\u001b[0m\u001b[0;34m=\u001b[0m\u001b[0morder\u001b[0m\u001b[0;34m)\u001b[0m\u001b[0;34m\u001b[0m\u001b[0;34m\u001b[0m\u001b[0m\n\u001b[0m\u001b[1;32m    539\u001b[0m \u001b[0;34m\u001b[0m\u001b[0m\n\u001b[1;32m    540\u001b[0m \u001b[0;34m\u001b[0m\u001b[0m\n",
      "\u001b[0;31mTypeError\u001b[0m: float() argument must be a string or a number, not 'function'"
     ]
    },
    {
     "data": {
      "image/png": "[encoded data removed]",
      "text/plain": [
       "<Figure size 432x288 with 1 Axes>"
      ]
     },
     "metadata": {
      "needs_background": "light"
     },
     "output_type": "display_data"
    }
   ],
   "source": []
  },
  {
   "cell_type": "code",
   "execution_count": 72,
   "metadata": {},
   "outputs": [
    {
     "data": {
      "text/plain": [
       "<matplotlib.colorbar.Colorbar at 0x7fc57965eeb8>"
      ]
     },
     "execution_count": 72,
     "metadata": {},
     "output_type": "execute_result"
    },
    {
     "data": {
      "image/png": "[encoded data removed]",
      "text/plain": [
       "<Figure size 720x720 with 2 Axes>"
      ]
     },
     "metadata": {
      "needs_background": "light"
     },
     "output_type": "display_data"
    }
   ],
   "source": [
    "plt.figure(figsize=(10,10))\n",
    "\n",
    "plt.imshow(CRH[2000,:,:])\n",
    "plt.colorbar()"
   ]
  },
  {
   "cell_type": "code",
   "execution_count": 73,
   "metadata": {},
   "outputs": [
    {
     "data": {
      "text/plain": [
       "(array([0.000000e+00, 0.000000e+00, 0.000000e+00, 0.000000e+00,\n",
       "        0.000000e+00, 0.000000e+00, 0.000000e+00, 0.000000e+00,\n",
       "        0.000000e+00, 0.000000e+00, 0.000000e+00, 0.000000e+00,\n",
       "        0.000000e+00, 0.000000e+00, 0.000000e+00, 0.000000e+00,\n",
       "        0.000000e+00, 0.000000e+00, 0.000000e+00, 0.000000e+00,\n",
       "        0.000000e+00, 0.000000e+00, 0.000000e+00, 0.000000e+00,\n",
       "        0.000000e+00, 0.000000e+00, 0.000000e+00, 0.000000e+00,\n",
       "        0.000000e+00, 0.000000e+00, 0.000000e+00, 0.000000e+00,\n",
       "        0.000000e+00, 0.000000e+00, 0.000000e+00, 0.000000e+00,\n",
       "        0.000000e+00, 0.000000e+00, 0.000000e+00, 0.000000e+00,\n",
       "        0.000000e+00, 0.000000e+00, 0.000000e+00, 0.000000e+00,\n",
       "        0.000000e+00, 0.000000e+00, 0.000000e+00, 0.000000e+00,\n",
       "        0.000000e+00, 0.000000e+00, 0.000000e+00, 0.000000e+00,\n",
       "        0.000000e+00, 0.000000e+00, 0.000000e+00, 0.000000e+00,\n",
       "        0.000000e+00, 0.000000e+00, 0.000000e+00, 0.000000e+00,\n",
       "        0.000000e+00, 0.000000e+00, 0.000000e+00, 1.300000e+01,\n",
       "        1.500000e+01, 4.300000e+01, 8.000000e+01, 1.320000e+02,\n",
       "        2.290000e+02, 3.450000e+02, 7.190000e+02, 1.180000e+03,\n",
       "        2.154000e+03, 4.488000e+03, 1.370700e+04, 5.658100e+04,\n",
       "        2.142190e+05, 5.592140e+05, 9.404560e+05, 1.031232e+06,\n",
       "        7.975440e+05, 4.887320e+05, 2.597660e+05, 1.312200e+05,\n",
       "        6.877400e+04, 3.887500e+04, 2.356100e+04, 1.462200e+04,\n",
       "        8.695000e+03, 5.067000e+03, 2.367000e+03, 1.042000e+03,\n",
       "        3.690000e+02, 1.270000e+02, 2.400000e+01, 7.000000e+00,\n",
       "        1.000000e+00, 0.000000e+00, 0.000000e+00, 0.000000e+00]),\n",
       " array([0.  , 0.01, 0.02, 0.03, 0.04, 0.05, 0.06, 0.07, 0.08, 0.09, 0.1 ,\n",
       "        0.11, 0.12, 0.13, 0.14, 0.15, 0.16, 0.17, 0.18, 0.19, 0.2 , 0.21,\n",
       "        0.22, 0.23, 0.24, 0.25, 0.26, 0.27, 0.28, 0.29, 0.3 , 0.31, 0.32,\n",
       "        0.33, 0.34, 0.35, 0.36, 0.37, 0.38, 0.39, 0.4 , 0.41, 0.42, 0.43,\n",
       "        0.44, 0.45, 0.46, 0.47, 0.48, 0.49, 0.5 , 0.51, 0.52, 0.53, 0.54,\n",
       "        0.55, 0.56, 0.57, 0.58, 0.59, 0.6 , 0.61, 0.62, 0.63, 0.64, 0.65,\n",
       "        0.66, 0.67, 0.68, 0.69, 0.7 , 0.71, 0.72, 0.73, 0.74, 0.75, 0.76,\n",
       "        0.77, 0.78, 0.79, 0.8 , 0.81, 0.82, 0.83, 0.84, 0.85, 0.86, 0.87,\n",
       "        0.88, 0.89, 0.9 , 0.91, 0.92, 0.93, 0.94, 0.95, 0.96, 0.97, 0.98,\n",
       "        0.99, 1.  ]),\n",
       " <a list of 100 Patch objects>)"
      ]
     },
     "execution_count": 73,
     "metadata": {},
     "output_type": "execute_result"
    },
    {
     "data": {
      "image/png": "[encoded data removed]",
      "text/plain": [
       "<Figure size 720x720 with 1 Axes>"
      ]
     },
     "metadata": {
      "needs_background": "light"
     },
     "output_type": "display_data"
    }
   ],
   "source": [
    "plt.figure(figsize=(10,10))\n",
    "\n",
    "plt.hist(np.ndarray.flatten(CRH[2000:2400,:,:].values),bins=100,range=(0,1))"
   ]
  },
  {
   "cell_type": "code",
   "execution_count": 74,
   "metadata": {},
   "outputs": [
    {
     "data": {
      "text/plain": [
       "(2400, 108, 108)"
      ]
     },
     "execution_count": 74,
     "metadata": {},
     "output_type": "execute_result"
    }
   ],
   "source": [
    "CRH_end = CRH[:2400,:,:].values\n",
    "CRH_end.shape"
   ]
  },
  {
   "cell_type": "code",
   "execution_count": 75,
   "metadata": {},
   "outputs": [
    {
     "data": {
      "text/plain": [
       "(2400, 11664)"
      ]
     },
     "execution_count": 75,
     "metadata": {},
     "output_type": "execute_result"
    }
   ],
   "source": [
    "CRH_flat = np.reshape(CRH_end,(2400,108**2))\n",
    "CRH_flat.shape"
   ]
  },
  {
   "cell_type": "code",
   "execution_count": 76,
   "metadata": {},
   "outputs": [
    {
     "data": {
      "text/plain": [
       "(2400,)"
      ]
     },
     "execution_count": 76,
     "metadata": {},
     "output_type": "execute_result"
    }
   ],
   "source": [
    "CRH_median = np.median(CRH_flat,axis=1)\n",
    "CRH_median.shape"
   ]
  },
  {
   "cell_type": "code",
   "execution_count": 77,
   "metadata": {},
   "outputs": [
    {
     "data": {
      "text/plain": [
       "[<matplotlib.lines.Line2D at 0x7fc579b91898>]"
      ]
     },
     "execution_count": 77,
     "metadata": {},
     "output_type": "execute_result"
    },
    {
     "data": {
      "image/png": "[encoded data removed]",
      "text/plain": [
       "<Figure size 432x288 with 1 Axes>"
      ]
     },
     "metadata": {
      "needs_background": "light"
     },
     "output_type": "display_data"
    }
   ],
   "source": [
    "plt.plot(small300.time/(1e9*24*3600),CRH_median)"
   ]
  },
  {
   "cell_type": "code",
   "execution_count": 78,
   "metadata": {},
   "outputs": [
    {
     "data": {
      "text/plain": [
       "(2400, 108, 108)"
      ]
     },
     "execution_count": 78,
     "metadata": {},
     "output_type": "execute_result"
    }
   ],
   "source": [
    "tmp = np.repeat(CRH_median[:, np.newaxis], CRH.shape[1], axis=1)\n",
    "CRH_median_rep = np.repeat(tmp[:,:,np.newaxis],CRH.shape[2],axis=2)\n",
    "CRH_median_rep.shape"
   ]
  },
  {
   "cell_type": "code",
   "execution_count": 79,
   "metadata": {},
   "outputs": [
    {
     "data": {
      "text/plain": [
       "(2400, 108, 108)"
      ]
     },
     "execution_count": 79,
     "metadata": {},
     "output_type": "execute_result"
    }
   ],
   "source": [
    "binary = CRH>CRH_median_rep\n",
    "binary.shape"
   ]
  },
  {
   "cell_type": "code",
   "execution_count": 80,
   "metadata": {},
   "outputs": [],
   "source": [
    "contours = measure.find_contours(CRH[it,:,:],CRH_median[it])"
   ]
  },
  {
   "cell_type": "code",
   "execution_count": 81,
   "metadata": {},
   "outputs": [
    {
     "data": {
      "text/plain": [
       "<matplotlib.collections.PathCollection at 0x7fc55e48cf28>"
      ]
     },
     "execution_count": 81,
     "metadata": {},
     "output_type": "execute_result"
    },
    {
     "data": {
      "image/png": "[encoded data removed]",
      "text/plain": [
       "<Figure size 720x720 with 2 Axes>"
      ]
     },
     "metadata": {
      "needs_background": "light"
     },
     "output_type": "display_data"
    }
   ],
   "source": [
    "it = 2000\n",
    "\n",
    "plt.figure(figsize=(10,10))\n",
    "\n",
    "plt.imshow(CRH[it,:,:]*binary[it,:,:])\n",
    "plt.colorbar()\n",
    "# for n, contour in enumerate(contours):\n",
    "#     plt.plot(contour[:, 1], contour[:, 0], linewidth=2)\n",
    "plt.scatter(contours[1][:,1],contours[1][:,0])\n"
   ]
  },
  {
   "cell_type": "code",
   "execution_count": 20,
   "metadata": {},
   "outputs": [
    {
     "ename": "SyntaxError",
     "evalue": "invalid syntax (<ipython-input-20-b0e6112a8b00>, line 1)",
     "output_type": "error",
     "traceback": [
      "\u001b[0;36m  File \u001b[0;32m\"<ipython-input-20-b0e6112a8b00>\"\u001b[0;36m, line \u001b[0;32m1\u001b[0m\n\u001b[0;31m    def Median_binary_mask(Field,)\u001b[0m\n\u001b[0m                                  ^\u001b[0m\n\u001b[0;31mSyntaxError\u001b[0m\u001b[0;31m:\u001b[0m invalid syntax\n"
     ]
    }
   ],
   "source": [
    "def Median_binary_mask(Field,)"
   ]
  },
  {
   "cell_type": "code",
   "execution_count": 82,
   "metadata": {},
   "outputs": [
    {
     "data": {
      "text/plain": [
       "(24, 2)"
      ]
     },
     "execution_count": 82,
     "metadata": {},
     "output_type": "execute_result"
    }
   ],
   "source": [
    "contours[1].shape"
   ]
  },
  {
   "cell_type": "code",
   "execution_count": 83,
   "metadata": {},
   "outputs": [
    {
     "data": {
      "text/plain": [
       "(2400, 108, 108)"
      ]
     },
     "execution_count": 83,
     "metadata": {},
     "output_type": "execute_result"
    }
   ],
   "source": [
    "binary.shape"
   ]
  },
  {
   "cell_type": "code",
   "execution_count": 84,
   "metadata": {},
   "outputs": [
    {
     "name": "stdout",
     "output_type": "stream",
     "text": [
      "[107000.]\n",
      "0.0\n"
     ]
    }
   ],
   "source": [
    "print(small300.x.values[-1:])\n",
    "print(small300.x.values[0])"
   ]
  },
  {
   "cell_type": "code",
   "execution_count": 85,
   "metadata": {},
   "outputs": [
    {
     "data": {
      "text/plain": [
       "(2400,)"
      ]
     },
     "execution_count": 85,
     "metadata": {},
     "output_type": "execute_result"
    }
   ],
   "source": [
    "A = np.sum(binary,axis=(1,2))*(dx**2)\n",
    "A.shape"
   ]
  },
  {
   "cell_type": "code",
   "execution_count": 86,
   "metadata": {},
   "outputs": [
    {
     "data": {
      "text/plain": [
       "5832000000.0"
      ]
     },
     "execution_count": 86,
     "metadata": {},
     "output_type": "execute_result"
    }
   ],
   "source": [
    "A.values[0]"
   ]
  },
  {
   "cell_type": "code",
   "execution_count": 87,
   "metadata": {},
   "outputs": [
    {
     "data": {
      "text/plain": [
       "[<matplotlib.lines.Line2D at 0x7fc579c8b048>]"
      ]
     },
     "execution_count": 87,
     "metadata": {},
     "output_type": "execute_result"
    },
    {
     "data": {
      "image/png": "[encoded data removed]",
      "text/plain": [
       "<Figure size 720x720 with 1 Axes>"
      ]
     },
     "metadata": {
      "needs_background": "light"
     },
     "output_type": "display_data"
    }
   ],
   "source": [
    "plt.figure(figsize=(10,10))\n",
    "\n",
    "plt.plot(np.sqrt(A)/1e6)"
   ]
  },
  {
   "cell_type": "code",
   "execution_count": 31,
   "metadata": {},
   "outputs": [
    {
     "name": "stdout",
     "output_type": "stream",
     "text": [
      "0 nanoseconds 0\n",
      "[4.31633636]\n",
      "1 nanoseconds 1\n",
      "[3.28332695]\n",
      "2 nanoseconds 2\n",
      "[3.1388833]\n",
      "3 nanoseconds 3\n",
      "[3.27813203]\n",
      "4 nanoseconds 4\n",
      "[3.38718481]\n",
      "5 nanoseconds 5\n",
      "[3.19684167]\n",
      "6 nanoseconds 6\n",
      "[3.0478711]\n",
      "7 nanoseconds 7\n",
      "[3.16114928]\n",
      "8 nanoseconds 8\n",
      "[3.07832085]\n",
      "9 nanoseconds 9\n",
      "[3.15593607]\n",
      "10 nanoseconds 10\n",
      "[3.172664]\n",
      "11 nanoseconds 11\n",
      "[3.20356349]\n",
      "12 nanoseconds 12\n",
      "[3.16549242]\n",
      "13 nanoseconds 13\n",
      "[3.09714928]\n",
      "14 nanoseconds 14\n",
      "[3.11708431]\n",
      "15 nanoseconds 15\n",
      "[3.02780004]\n",
      "16 nanoseconds 16\n",
      "[3.10421425]\n",
      "17 nanoseconds 17\n",
      "[3.096664]\n",
      "18 nanoseconds 18\n",
      "[3.020664]\n",
      "19 nanoseconds 19\n",
      "[3.07362846]\n",
      "20 nanoseconds 20\n",
      "[3.09335639]\n",
      "21 nanoseconds 21\n",
      "[3.18021425]\n",
      "22 nanoseconds 22\n",
      "[3.15307821]\n",
      "23 nanoseconds 23\n",
      "[3.11421425]\n",
      "24 nanoseconds 24\n",
      "[3.06393607]\n",
      "25 nanoseconds 25\n",
      "[2.97229141]\n",
      "26 nanoseconds 26\n",
      "[3.06624369]\n",
      "27 nanoseconds 27\n",
      "[3.04762237]\n",
      "28 nanoseconds 28\n",
      "[3.09152186]\n",
      "29 nanoseconds 29\n",
      "[3.10993607]\n",
      "30 nanoseconds 30\n",
      "[3.10124978]\n",
      "31 nanoseconds 31\n",
      "[2.69710155]\n",
      "32 nanoseconds 32\n",
      "[3.04169953]\n",
      "33 nanoseconds 33\n",
      "[3.02200714]\n",
      "34 nanoseconds 34\n",
      "[3.01138582]\n",
      "35 nanoseconds 35\n",
      "[3.16284167]\n",
      "36 nanoseconds 36\n",
      "[2.9314447]\n",
      "37 nanoseconds 37\n",
      "[2.98114318]\n",
      "38 nanoseconds 38\n",
      "[3.03062237]\n",
      "39 nanoseconds 39\n",
      "[2.90496551]\n",
      "40 nanoseconds 40\n",
      "[2.93331475]\n",
      "41 nanoseconds 41\n",
      "[2.97952796]\n",
      "42 nanoseconds 42\n",
      "[3.00331475]\n",
      "43 nanoseconds 43\n",
      "[3.01321425]\n",
      "44 nanoseconds 44\n",
      "[3.03096551]\n",
      "45 nanoseconds 45\n",
      "[3.0658711]\n",
      "46 nanoseconds 46\n",
      "[3.04907821]\n",
      "47 nanoseconds 47\n",
      "[2.9616579]\n",
      "48 nanoseconds 48\n",
      "[2.98510765]\n",
      "49 nanoseconds 49\n",
      "[2.94248633]\n",
      "50 nanoseconds 50\n",
      "[2.91762846]\n",
      "51 nanoseconds 51\n",
      "[3.06224978]\n",
      "52 nanoseconds 52\n",
      "[3.02745079]\n",
      "53 nanoseconds 53\n",
      "[3.02263456]\n",
      "54 nanoseconds 54\n",
      "[3.00945079]\n",
      "55 nanoseconds 55\n",
      "[2.80859293]\n",
      "56 nanoseconds 56\n",
      "[2.85010155]\n",
      "57 nanoseconds 57\n",
      "[3.17021425]\n",
      "58 nanoseconds 58\n",
      "[2.95096551]\n",
      "59 nanoseconds 59\n",
      "[2.9625574]\n",
      "60 nanoseconds 60\n",
      "[3.04145689]\n",
      "61 nanoseconds 61\n",
      "[2.95607211]\n",
      "62 nanoseconds 62\n",
      "[3.01758683]\n",
      "63 nanoseconds 63\n",
      "[3.03518481]\n",
      "64 nanoseconds 64\n",
      "[3.02990664]\n",
      "65 nanoseconds 65\n",
      "[3.03880004]\n",
      "66 nanoseconds 66\n",
      "[2.98037973]\n",
      "67 nanoseconds 67\n",
      "[2.89692998]\n",
      "68 nanoseconds 68\n",
      "[2.73668734]\n",
      "69 nanoseconds 69\n",
      "[2.93810765]\n",
      "70 nanoseconds 70\n",
      "[3.01959293]\n",
      "71 nanoseconds 71\n",
      "[3.06701324]\n",
      "72 nanoseconds 72\n",
      "[2.95252186]\n",
      "73 nanoseconds 73\n",
      "[3.04842136]\n",
      "74 nanoseconds 74\n",
      "[3.00010765]\n",
      "75 nanoseconds 75\n",
      "[2.77392998]\n",
      "76 nanoseconds 76\n",
      "[2.98269343]\n",
      "77 nanoseconds 77\n",
      "[3.00586501]\n",
      "78 nanoseconds 78\n",
      "[3.09237973]\n",
      "79 nanoseconds 79\n",
      "[2.91207211]\n",
      "80 nanoseconds 80\n",
      "[3.00435029]\n",
      "81 nanoseconds 81\n",
      "[3.1205574]\n",
      "82 nanoseconds 82\n",
      "[3.12849242]\n",
      "83 nanoseconds 83\n",
      "[3.20324978]\n",
      "84 nanoseconds 84\n",
      "[3.01149242]\n",
      "85 nanoseconds 85\n",
      "[3.03514318]\n",
      "86 nanoseconds 86\n",
      "[3.02103658]\n",
      "87 nanoseconds 87\n",
      "[3.03038582]\n",
      "88 nanoseconds 88\n",
      "[3.00610155]\n",
      "89 nanoseconds 89\n",
      "[3.03435639]\n",
      "90 nanoseconds 90\n",
      "[3.09252186]\n",
      "91 nanoseconds 91\n",
      "[3.11611374]\n",
      "92 nanoseconds 92\n",
      "[3.10582947]\n",
      "93 nanoseconds 93\n",
      "[3.13039192]\n",
      "94 nanoseconds 94\n",
      "[2.9337645]\n",
      "95 nanoseconds 95\n",
      "[2.99590054]\n",
      "96 nanoseconds 96\n",
      "[2.9897645]\n",
      "97 nanoseconds 97\n",
      "[2.95110765]\n",
      "98 nanoseconds 98\n",
      "[3.1097706]\n",
      "99 nanoseconds 99\n",
      "[3.13635639]\n"
     ]
    }
   ],
   "source": [
    "\n",
    "L = np.zeros((small300.time.values.size,1))\n",
    "for it,t in enumerate(small300.time.values[::24]/(1e9*24*3600)):\n",
    "    print(t,it)\n",
    "    L[it] = dx*measure.perimeter(binary[24*it,:,:],8)/1e6\n",
    "    print(L[it])"
   ]
  },
  {
   "cell_type": "code",
   "execution_count": 88,
   "metadata": {},
   "outputs": [
    {
     "ename": "IndexError",
     "evalue": "invalid index to scalar variable.",
     "output_type": "error",
     "traceback": [
      "\u001b[0;31m---------------------------------------------------------------------------\u001b[0m",
      "\u001b[0;31mIndexError\u001b[0m                                Traceback (most recent call last)",
      "\u001b[0;32m<ipython-input-88-4784f96249e6>\u001b[0m in \u001b[0;36m<module>\u001b[0;34m\u001b[0m\n\u001b[0;32m----> 1\u001b[0;31m \u001b[0mL\u001b[0m\u001b[0;34m[\u001b[0m\u001b[0;34m:\u001b[0m\u001b[0;36m100\u001b[0m\u001b[0;34m]\u001b[0m\u001b[0;34m.\u001b[0m\u001b[0mshape\u001b[0m\u001b[0;34m\u001b[0m\u001b[0;34m\u001b[0m\u001b[0m\n\u001b[0m",
      "\u001b[0;31mIndexError\u001b[0m: invalid index to scalar variable."
     ]
    }
   ],
   "source": [
    "L[:100].shape"
   ]
  },
  {
   "cell_type": "code",
   "execution_count": 33,
   "metadata": {},
   "outputs": [
    {
     "data": {
      "text/plain": [
       "(100,)"
      ]
     },
     "execution_count": 33,
     "metadata": {},
     "output_type": "execute_result"
    }
   ],
   "source": [
    "A[::24].shape"
   ]
  },
  {
   "cell_type": "code",
   "execution_count": 34,
   "metadata": {},
   "outputs": [],
   "source": [
    "WM = 4*np.expand_dims(A[::24],axis=1)/((1e6*L[:100])**2)"
   ]
  },
  {
   "cell_type": "code",
   "execution_count": 35,
   "metadata": {},
   "outputs": [
    {
     "data": {
      "text/plain": [
       "(100, 1)"
      ]
     },
     "execution_count": 35,
     "metadata": {},
     "output_type": "execute_result"
    }
   ],
   "source": [
    "WM.shape"
   ]
  },
  {
   "cell_type": "code",
   "execution_count": 36,
   "metadata": {},
   "outputs": [
    {
     "data": {
      "text/plain": [
       "[<matplotlib.lines.Line2D at 0x7fc594686a20>]"
      ]
     },
     "execution_count": 36,
     "metadata": {},
     "output_type": "execute_result"
    },
    {
     "data": {
      "image/png": "[encoded data removed]",
      "text/plain": [
       "<Figure size 432x288 with 1 Axes>"
      ]
     },
     "metadata": {
      "needs_background": "light"
     },
     "output_type": "display_data"
    }
   ],
   "source": [
    "plt.plot(WM)"
   ]
  },
  {
   "cell_type": "code",
   "execution_count": 65,
   "metadata": {},
   "outputs": [
    {
     "data": {
      "text/plain": [
       "(2400, 108, 108)"
      ]
     },
     "execution_count": 65,
     "metadata": {},
     "output_type": "execute_result"
    }
   ],
   "source": [
    "np.shape(CRH)"
   ]
  },
  {
   "cell_type": "code",
   "execution_count": 89,
   "metadata": {},
   "outputs": [
    {
     "data": {
      "text/plain": [
       "(2400,)"
      ]
     },
     "execution_count": 89,
     "metadata": {},
     "output_type": "execute_result"
    }
   ],
   "source": [
    "len(np.median(CRH,axis=(1,2)))\n",
    "A_tot = np.sum(binary,axis=(1,2))*(dx**2)/1e12\n",
    "np.shape(A_tot)"
   ]
  },
  {
   "cell_type": "markdown",
   "metadata": {},
   "source": [
    "# 3) Long-channel simulation - Windmiller number"
   ]
  },
  {
   "cell_type": "code",
   "execution_count": 41,
   "metadata": {},
   "outputs": [
    {
     "name": "stdout",
     "output_type": "stream",
     "text": [
      "(100, 144, 2592)\n"
     ]
    }
   ],
   "source": [
    "CRH = large300.prw[::24,:,:]\n",
    "#/large300.sprw[::24,:,:]\n",
    "print(CRH.shape)"
   ]
  },
  {
   "cell_type": "code",
   "execution_count": 42,
   "metadata": {},
   "outputs": [
    {
     "data": {
      "text/plain": [
       "(100, 144, 2592)"
      ]
     },
     "execution_count": 42,
     "metadata": {},
     "output_type": "execute_result"
    }
   ],
   "source": [
    "CRH.shape"
   ]
  },
  {
   "cell_type": "code",
   "execution_count": 43,
   "metadata": {},
   "outputs": [],
   "source": [
    "A = CRH[-1:,:,:].values"
   ]
  },
  {
   "cell_type": "code",
   "execution_count": 44,
   "metadata": {},
   "outputs": [
    {
     "data": {
      "text/plain": [
       "(1, 144, 2592)"
      ]
     },
     "execution_count": 44,
     "metadata": {},
     "output_type": "execute_result"
    }
   ],
   "source": [
    "A.shape"
   ]
  },
  {
   "cell_type": "code",
   "execution_count": 45,
   "metadata": {},
   "outputs": [
    {
     "data": {
      "text/plain": [
       "<matplotlib.colorbar.Colorbar at 0x7fc5943c7908>"
      ]
     },
     "execution_count": 45,
     "metadata": {},
     "output_type": "execute_result"
    },
    {
     "data": {
      "image/png": "[encoded data removed]",
      "text/plain": [
       "<Figure size 720x144 with 2 Axes>"
      ]
     },
     "metadata": {
      "needs_background": "light"
     },
     "output_type": "display_data"
    }
   ],
   "source": [
    "plt.figure(figsize=(10,2))\n",
    "\n",
    "plt.contourf(large300.x/1e6,large300.y/1e6,A[0,:,:])\n",
    "plt.colorbar()"
   ]
  },
  {
   "cell_type": "code",
   "execution_count": 46,
   "metadata": {},
   "outputs": [
    {
     "data": {
      "text/plain": [
       "(1, 373248)"
      ]
     },
     "execution_count": 46,
     "metadata": {},
     "output_type": "execute_result"
    }
   ],
   "source": [
    "CRH_flat = np.reshape(A,(A.shape[0],A.shape[1]*A.shape[2]))\n",
    "CRH_flat.shape"
   ]
  },
  {
   "cell_type": "code",
   "execution_count": 47,
   "metadata": {},
   "outputs": [
    {
     "data": {
      "text/plain": [
       "(1,)"
      ]
     },
     "execution_count": 47,
     "metadata": {},
     "output_type": "execute_result"
    }
   ],
   "source": [
    "CRH_median = np.percentile(CRH_flat,50,axis=1)\n",
    "CRH_median.shape"
   ]
  },
  {
   "cell_type": "code",
   "execution_count": 48,
   "metadata": {},
   "outputs": [
    {
     "data": {
      "text/plain": [
       "array([39.33543522])"
      ]
     },
     "execution_count": 48,
     "metadata": {},
     "output_type": "execute_result"
    }
   ],
   "source": [
    "CRH_median"
   ]
  },
  {
   "cell_type": "code",
   "execution_count": 49,
   "metadata": {},
   "outputs": [
    {
     "data": {
      "text/plain": [
       "(1, 144, 2592)"
      ]
     },
     "execution_count": 49,
     "metadata": {},
     "output_type": "execute_result"
    }
   ],
   "source": [
    "tmp = np.repeat(CRH_median[:, np.newaxis], A.shape[1], axis=1)\n",
    "CRH_median_rep = np.repeat(tmp[:,:,np.newaxis],A.shape[2],axis=2)\n",
    "CRH_median_rep.shape"
   ]
  },
  {
   "cell_type": "code",
   "execution_count": 50,
   "metadata": {},
   "outputs": [
    {
     "data": {
      "text/plain": [
       "(1, 144, 2592)"
      ]
     },
     "execution_count": 50,
     "metadata": {},
     "output_type": "execute_result"
    }
   ],
   "source": [
    "binary = A>CRH_median_rep\n",
    "binary.shape"
   ]
  },
  {
   "cell_type": "code",
   "execution_count": 51,
   "metadata": {},
   "outputs": [
    {
     "data": {
      "text/plain": [
       "<matplotlib.colorbar.Colorbar at 0x7fc57a8e0cc0>"
      ]
     },
     "execution_count": 51,
     "metadata": {},
     "output_type": "execute_result"
    },
    {
     "data": {
      "image/png": "[encoded data removed]",
      "text/plain": [
       "<Figure size 720x144 with 2 Axes>"
      ]
     },
     "metadata": {
      "needs_background": "light"
     },
     "output_type": "display_data"
    }
   ],
   "source": [
    "plt.figure(figsize=(10,2))\n",
    "\n",
    "plt.contourf(large300.x/1e6,large300.y/1e6,binary[0,:,:])\n",
    "plt.colorbar()"
   ]
  },
  {
   "cell_type": "code",
   "execution_count": 52,
   "metadata": {},
   "outputs": [
    {
     "name": "stdout",
     "output_type": "stream",
     "text": [
      "23.259168793751172\n"
     ]
    }
   ],
   "source": [
    "from skimage import measure\n",
    "\n",
    "dx = small300.x.values[1]-small300.x.values[0]\n",
    "L = dx*measure.perimeter(binary[0,:,:],8)/1e6\n",
    "print(L)"
   ]
  },
  {
   "cell_type": "code",
   "execution_count": 53,
   "metadata": {},
   "outputs": [
    {
     "name": "stdout",
     "output_type": "stream",
     "text": [
      "[0.186624]\n"
     ]
    }
   ],
   "source": [
    "A = np.sum(binary,axis=(1,2))*(dx**2)/1e12\n",
    "print(A)"
   ]
  },
  {
   "cell_type": "code",
   "execution_count": 54,
   "metadata": {},
   "outputs": [],
   "source": [
    "WM = 4*A/L**2"
   ]
  },
  {
   "cell_type": "code",
   "execution_count": 55,
   "metadata": {},
   "outputs": [
    {
     "name": "stdout",
     "output_type": "stream",
     "text": [
      "[0.00137987]\n"
     ]
    }
   ],
   "source": [
    "print(WM)"
   ]
  },
  {
   "cell_type": "code",
   "execution_count": 56,
   "metadata": {},
   "outputs": [
    {
     "name": "stdout",
     "output_type": "stream",
     "text": [
      "[0.00137987]\n"
     ]
    }
   ],
   "source": [
    "print(WM)"
   ]
  },
  {
   "cell_type": "code",
   "execution_count": null,
   "metadata": {},
   "outputs": [],
   "source": []
  }
 ],
 "metadata": {
  "kernelspec": {
   "display_name": "Python 3",
   "language": "python",
   "name": "python3"
  },
  "language_info": {
   "codemirror_mode": {
    "name": "ipython",
    "version": 3
   },
   "file_extension": ".py",
   "mimetype": "text/x-python",
   "name": "python",
   "nbconvert_exporter": "python",
   "pygments_lexer": "ipython3",
   "version": "3.7.3"
  }
 },
 "nbformat": 4,
 "nbformat_minor": 2
}
