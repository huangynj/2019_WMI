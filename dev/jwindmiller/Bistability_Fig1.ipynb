{
 "cells": [
  {
   "cell_type": "code",
   "execution_count": 1,
   "metadata": {},
   "outputs": [],
   "source": [
    "import sys\n",
    "sys.path.insert(0, \"/users/jwindmil/2019_WMI/util\")\n",
    "\n",
    "# Initial imports\n",
    "import Landau_Potential_Diffusion as Landau\n",
    "import curvature as curve\n",
    "\n",
    "import xarray as xr\n",
    "import numpy as np\n",
    "import numpy.fft as fft\n",
    "import matplotlib.pyplot as plt\n",
    "import datetime\n",
    "from skimage import measure\n",
    "from scipy import ndimage, stats\n",
    "import scipy.integrate as sin\n",
    "from scipy.optimize import curve_fit\n",
    "from scipy.signal import argrelextrema\n",
    "import random\n",
    "import pandas as pd\n",
    "import dask.array as da\n",
    "import matplotlib as mpl\n",
    "\n",
    "import pickle"
   ]
  },
  {
   "cell_type": "code",
   "execution_count": 2,
   "metadata": {},
   "outputs": [],
   "source": [
    "def edgTObin(edges):\n",
    "    return 0.5*(edges[1:]+edges[:-1])"
   ]
  },
  {
   "cell_type": "code",
   "execution_count": 3,
   "metadata": {},
   "outputs": [],
   "source": [
    "def cm_to_inch(m_cm):\n",
    "    return m_cm/2.54"
   ]
  },
  {
   "cell_type": "markdown",
   "metadata": {},
   "source": [
    "Plot settings"
   ]
  },
  {
   "cell_type": "code",
   "execution_count": 81,
   "metadata": {},
   "outputs": [],
   "source": [
    "fz = 8\n",
    "lw = 1\n",
    "siz = 3\n",
    "\n",
    "col_A = ['C0', 'C1', 'C2']"
   ]
  },
  {
   "cell_type": "markdown",
   "metadata": {},
   "source": [
    "## Bimodality of CWV\n",
    "\n",
    "i) ERA5 Data\n",
    "\n",
    "ii) RCE simulation "
   ]
  },
  {
   "cell_type": "code",
   "execution_count": 48,
   "metadata": {},
   "outputs": [],
   "source": [
    "nbins = 30\n",
    "xbins = np.linspace(10, 70, 31)"
   ]
  },
  {
   "cell_type": "markdown",
   "metadata": {},
   "source": [
    "Use either kernel density estimate or PDF"
   ]
  },
  {
   "cell_type": "code",
   "execution_count": 10,
   "metadata": {},
   "outputs": [],
   "source": [
    "switch_kde = False\n",
    "method = 'KDE' if switch_kde else 'PDF'"
   ]
  },
  {
   "cell_type": "markdown",
   "metadata": {},
   "source": [
    "### ERA5"
   ]
  },
  {
   "cell_type": "code",
   "execution_count": 26,
   "metadata": {},
   "outputs": [],
   "source": [
    "per_thresh_era5 = 83"
   ]
  },
  {
   "cell_type": "code",
   "execution_count": 11,
   "metadata": {},
   "outputs": [],
   "source": [
    "path_ERA = '/project/s916/ERA5_Tom/'"
   ]
  },
  {
   "cell_type": "markdown",
   "metadata": {},
   "source": [
    "Restrict our analysis to a band of the tropical Atlantic"
   ]
  },
  {
   "cell_type": "code",
   "execution_count": 12,
   "metadata": {},
   "outputs": [],
   "source": [
    "latmin = -23\n",
    "latmax = 23\n",
    "lonmin = 360-34\n",
    "lonmax = 360-18"
   ]
  },
  {
   "cell_type": "markdown",
   "metadata": {},
   "source": [
    "Select period (exclude 2018 as it is only partly available)"
   ]
  },
  {
   "cell_type": "code",
   "execution_count": 13,
   "metadata": {},
   "outputs": [],
   "source": [
    "date1, date2 = np.datetime64('2000-01-01T00:00'), np.datetime64('2017-12-31T23:00')\n",
    "dt = 3600"
   ]
  },
  {
   "cell_type": "code",
   "execution_count": 14,
   "metadata": {},
   "outputs": [],
   "source": [
    "PW = xr.open_mfdataset(path_ERA+'????/??PW.nc',combine='by_coords', chunks={'time':100})"
   ]
  },
  {
   "cell_type": "code",
   "execution_count": 15,
   "metadata": {},
   "outputs": [],
   "source": [
    "PWAtl = PW['tcwv'].sel({'time':slice(date1, date2), 'longitude':slice(lonmin,lonmax),'latitude':slice(latmax,latmin)})\n",
    "lonAtl = PW.longitude.sel({'longitude':slice(lonmin,lonmax)})\n",
    "latAtl = PW.latitude.sel({'latitude':slice(latmax,latmin)})"
   ]
  },
  {
   "cell_type": "code",
   "execution_count": 16,
   "metadata": {},
   "outputs": [],
   "source": [
    "time_A = PWAtl.time.values"
   ]
  },
  {
   "cell_type": "markdown",
   "metadata": {},
   "source": [
    "#### Temporal mean distribution"
   ]
  },
  {
   "cell_type": "code",
   "execution_count": 59,
   "metadata": {},
   "outputs": [],
   "source": [
    "# chunk_sz = 1000\n",
    "# ind_chunks = list(range(0, np.shape(PWAtl)[0], chunk_sz))+[np.shape(PWAtl)[0]]\n",
    "# nbins = 30\n",
    "# bin_edges = xbins #np.linspace(0, 80, nbins + 1)\n",
    "# total = np.zeros(nbins, np.uint)\n",
    "\n",
    "# for i in range(len(ind_chunks)-1):\n",
    "#     print('i=',i, end='\\r')\n",
    "#     ind_start, ind_end = ind_chunks[i], ind_chunks[i+1]\n",
    "#     data_chunk = np.ndarray.flatten(PWAtl[ind_start:ind_end,:,:].values)\n",
    "#     subtotal, e = np.histogram(data_chunk, bin_edges)\n",
    "#     total+= subtotal.astype(np.uint)\n",
    "#     del data_chunk, subtotal, e\n",
    "\n",
    "# hist_total = np.copy(total)\n",
    "# np.savez('./PKL_DATA/CWV_hist_%i_%i_%i_%i_%i.npz'%(nbins, latmin, latmax, lonmin, lonmax), hist_total = hist_total, bin_edges = bin_edges)\n",
    "\n",
    "dic_hist = np.load('./PKL_DATA/CWV_hist_%i_%i_%i_%i_%i.npz'%(nbins, latmin, latmax, lonmin, lonmax))\n",
    "\n",
    "hist_total = dic_hist['hist_total']\n",
    "bin_edges = dic_hist['bin_edges']"
   ]
  },
  {
   "cell_type": "code",
   "execution_count": 60,
   "metadata": {},
   "outputs": [],
   "source": [
    "hist_cum = np.cumsum(hist_total)/np.sum(hist_total)"
   ]
  },
  {
   "cell_type": "code",
   "execution_count": 61,
   "metadata": {},
   "outputs": [],
   "source": [
    "hist_total = hist_total/np.sum(hist_total)/(bin_edges[1]-bin_edges[0])"
   ]
  },
  {
   "cell_type": "markdown",
   "metadata": {},
   "source": [
    "Load times of case"
   ]
  },
  {
   "cell_type": "code",
   "execution_count": 17,
   "metadata": {},
   "outputs": [
    {
     "data": {
      "text/plain": [
       "[numpy.datetime64('2005-11-23T14:00:00.000000000'),\n",
       " numpy.datetime64('2005-12-04T14:00:00.000000000'),\n",
       " numpy.datetime64('2005-12-07T14:00:00.000000000')]"
      ]
     },
     "execution_count": 17,
     "metadata": {},
     "output_type": "execute_result"
    }
   ],
   "source": [
    "with open('./PKL_DATA/pik_times.dat', 'rb') as f:\n",
    "    times_A = pickle.load(f)\n",
    "times_A"
   ]
  },
  {
   "cell_type": "code",
   "execution_count": 42,
   "metadata": {},
   "outputs": [
    {
     "data": {
      "text/plain": [
       "array([10., 12., 14., 16., 18., 20., 22., 24., 26., 28., 30., 32., 34.,\n",
       "       36., 38., 40., 42., 44., 46., 48., 50., 52., 54., 56., 58., 60.,\n",
       "       62., 64., 66., 68., 70.])"
      ]
     },
     "execution_count": 42,
     "metadata": {},
     "output_type": "execute_result"
    }
   ],
   "source": [
    "np.linspace(10, 70, 31)"
   ]
  },
  {
   "cell_type": "code",
   "execution_count": 87,
   "metadata": {},
   "outputs": [
    {
     "name": "stdout",
     "output_type": "stream",
     "text": [
      "2005-11-23T14:00:00.000000000 51.01881408691406\n",
      "1.0000000000000002\n",
      "2005-12-04T14:00:00.000000000 50.59869644165037\n",
      "0.9999999999999999\n",
      "2005-12-07T14:00:00.000000000 43.8817024230957\n",
      "0.9999999999999999\n"
     ]
    },
    {
     "data": {
      "image/png": "[encoded data removed]",
      "text/plain": [
       "<Figure size 255.118x198.425 with 1 Axes>"
      ]
     },
     "metadata": {
      "needs_background": "light"
     },
     "output_type": "display_data"
    }
   ],
   "source": [
    "plt.rc('text', usetex=False)\n",
    "plt.rc('font', family='serif', size=fz)\n",
    "mpl.rcParams['lines.linewidth'] = lw\n",
    "mpl.rcParams['lines.markersize'] = siz\n",
    "plt.close('all')\n",
    "\n",
    "fig,ax = plt.subplots(figsize=(cm_to_inch(9), cm_to_inch(7)))\n",
    "\n",
    "x = np.linspace(10,75,161)\n",
    "\n",
    "\n",
    "\n",
    "for i, time in enumerate(times_A):\n",
    "\n",
    "    tmp = np.squeeze(PWAtl.sel({'time':slice(time-np.timedelta64(12,'h'), time+np.timedelta64(12,'h'))}).values) #np.squeeze(PWAtl.sel({'time':time}).values) #\n",
    "    #tmp = np.squeeze(PWAtl.sel({'time':time}).values) \n",
    "    \n",
    "    print(time, np.percentile(tmp, per_thresh_era5))\n",
    "    \n",
    "    if switch_kde:\n",
    "        density = stats.gaussian_kde(np.ndarray.flatten(tmp))\n",
    "        plt.plot(x, density(x), label = pd.to_datetime(time).strftime(\"%d-%b\"), color = col_A[i])\n",
    "    else:\n",
    "        hist, edges = np.histogram(np.ndarray.flatten(tmp), density = True, bins = xbins)\n",
    "        plt.plot(edgTObin(edges), hist, label = pd.to_datetime(time).strftime(\"%d-%b\"), color = col_A[i])\n",
    "        print(np.sum(hist*(edges[1:]-edges[:-1])))\n",
    "    \n",
    "    plt.legend(frameon=False)\n",
    "    #plt.vlines([np.percentile(tmp, per_thresh_era5)], 0.0, ymax, linestyle=':', color = 'C%i'%i)\n",
    "    \n",
    "#plt.plot(bin_centers, hist_total, 'k')\n",
    "plt.fill_between(bin_centers,hist_total, color = 'k',label='85d-100d', alpha = 0.1)\n",
    "    \n",
    "ymin, ymax = plt.ylim()\n",
    "plt.vlines([48], 0.0, ymax, linestyle=':')\n",
    "plt.ylim(0.0, 0.062)\n",
    "plt.yticks([0.0, 0.02, 0.04, 0.06])\n",
    "plt.xlim(xbins[0]-5, xbins[-1]+5)\n",
    "\n",
    "ax.set_xlabel(r'$\\mathrm{CWV}$ $\\left[\\mathrm{kg\\ m^{-2}}\\right]$')\n",
    "ax.set_ylabel(r'$\\mathrm{%s\\ }\\left[\\mathrm{kg^{-1}\\ m^{2}}\\right]$'%method)\n",
    "\n",
    "\n",
    "ax = plt.gca()\n",
    "ax.spines['right'].set_visible(False)\n",
    "ax.spines['top'].set_visible(False)\n",
    "\n",
    "ax.set_title('b)', loc = 'left')\n",
    "    \n",
    "plt.tight_layout()\n",
    "\n",
    "plt.savefig('./Figures/Fig1b.pdf', bbox_inches = \"tight\")"
   ]
  },
  {
   "cell_type": "markdown",
   "metadata": {},
   "source": [
    "### RCE"
   ]
  },
  {
   "cell_type": "markdown",
   "metadata": {},
   "source": [
    "Using the 506x506 simulation for consistency with Dave's work"
   ]
  },
  {
   "cell_type": "code",
   "execution_count": 7,
   "metadata": {},
   "outputs": [],
   "source": [
    "path_RCE = '/project/s916/davidle/RCE-MIP/simulations/RCE_300_3km_506x506/output/'"
   ]
  },
  {
   "cell_type": "code",
   "execution_count": 8,
   "metadata": {},
   "outputs": [
    {
     "name": "stderr",
     "output_type": "stream",
     "text": [
      "/users/jwindmil/venv-3.6/lib/python3.6/site-packages/xarray/backends/api.py:783: FutureWarning: In xarray version 0.13 `auto_combine` will be deprecated.\n",
      "  coords=coords)\n",
      "/users/jwindmil/venv-3.6/lib/python3.6/site-packages/xarray/backends/api.py:783: FutureWarning: The datasets supplied have global dimension coordinates. You may want\n",
      "to use the new `combine_by_coords` function (or the\n",
      "`combine='by_coords'` option to `open_mfdataset` to order the datasets\n",
      "before concatenation. Alternatively, to continue concatenating based\n",
      "on the order the datasets are supplied in in future, please use the\n",
      "new `combine_nested` function (or the `combine='nested'` option to\n",
      "open_mfdataset).\n",
      "  coords=coords)\n"
     ]
    }
   ],
   "source": [
    "RCE300 = xr.open_mfdataset(path_RCE+'lfff????????.nc', chunks={'time':100})"
   ]
  },
  {
   "cell_type": "code",
   "execution_count": 20,
   "metadata": {},
   "outputs": [],
   "source": [
    "SPINstart = 0 #days\n",
    "COALstart = 11 #days\n",
    "COARstart = 25 #days\n",
    "ENDstart = 85 # days"
   ]
  },
  {
   "cell_type": "code",
   "execution_count": 21,
   "metadata": {},
   "outputs": [],
   "source": [
    "if switch_kde:\n",
    "    density_SPIN = stats.gaussian_kde(np.ndarray.flatten(RCE300.TQV[:(24*COALstart),:,:].values))\n",
    "    density_COAL = stats.gaussian_kde(np.ndarray.flatten(RCE300.TQV[(24*COALstart):(24*COARstart),:,:].values))\n",
    "    density_COAR = stats.gaussian_kde(np.ndarray.flatten(RCE300.TQV[(24*ENDstart):,:,:].values))   \n",
    "else:\n",
    "    CWV_PDF_SPIN,SPINedges = np.histogram(RCE300.TQV[:(24*COALstart),:,:],bins=nbins,density=True)\n",
    "    CWV_PDF_COAL,COALedges = np.histogram(RCE300.TQV[(24*COALstart):(24*COARstart),:,:],bins=nbins,density=True)\n",
    "    CWV_PDF_COAR,COARedges = np.histogram(RCE300.TQV[(24*ENDstart):,:,:],bins=nbins,density=True)"
   ]
  },
  {
   "cell_type": "code",
   "execution_count": 89,
   "metadata": {},
   "outputs": [
    {
     "data": {
      "image/png": "[encoded data removed]",
      "text/plain": [
       "<Figure size 255.118x198.425 with 2 Axes>"
      ]
     },
     "metadata": {},
     "output_type": "display_data"
    }
   ],
   "source": [
    "plt.rc('text', usetex=False)\n",
    "plt.rc('font', family='serif', size=fz)\n",
    "mpl.rcParams['lines.linewidth'] = lw\n",
    "mpl.rcParams['lines.markersize'] = siz\n",
    "plt.close('all')\n",
    "\n",
    "fig,ax = plt.subplots(figsize=(cm_to_inch(9), cm_to_inch(7)))\n",
    "ax2 = ax.twinx()\n",
    "\n",
    "x = np.linspace(10,75,161)\n",
    "\n",
    "if switch_kde:\n",
    "\n",
    "    SPINline = ax2.plot(x, density_SPIN(x),color=col1,label='0d-11d')\n",
    "    COALline = ax.plot(x, density_COAL(x),color=col2,label='11d-25d')\n",
    "    COARline = ax.plot(x, density_COAR(x),color=col3,label='85d-100d')\n",
    "\n",
    "else:\n",
    "    SPINline = ax2.plot(edgTObin(SPINedges),CWV_PDF_SPIN,color=col1,label='0d-11d')\n",
    "    COALline = ax.plot(edgTObin(COALedges),CWV_PDF_COAL,color=col2,label='11d-25d')\n",
    "    COARline = ax.plot(edgTObin(COARedges),CWV_PDF_COAR,color=col3,label='85d-100d')\n",
    "\n",
    "ax.spines['top'].set_visible(False)\n",
    "ax.spines['right'].set_visible(False)\n",
    "\n",
    "ax2.spines['top'].set_visible(False)\n",
    "\n",
    "ax2.tick_params(axis='y', labelcolor=col1)\n",
    "ax2.set_ylabel(r'$\\mathrm{%s\\ }\\left[\\mathrm{kg^{-1}\\ m^{2}}\\right]$'%method, color = col1)\n",
    "# ax2.spines['right'].set_color(col1)\n",
    "ax2.tick_params(axis='y', colors=col1)\n",
    "\n",
    "ax.set_ylim(ymin = 0.0)\n",
    "ax2.set_ylim(ymin = 0.0)\n",
    "ax.set_yticks([0.0,0.01,0.02,0.03])\n",
    "\n",
    "# add legend for these three lines\n",
    "lns = SPINline+COALline+COARline\n",
    "labs = [l.get_label() for l in lns]\n",
    "ax.legend(lns, labs, loc=0, frameon=False)\n",
    "\n",
    "ax.set_xlabel(r'$\\mathrm{CWV}$ $\\left[\\mathrm{kg\\ m^{-2}}\\right]$')\n",
    "ax.set_ylabel(r'$\\mathrm{%s\\ }\\left[\\mathrm{kg^{-1}\\ m^{2}}\\right]$'%method)\n",
    "\n",
    "ax.set_title('a)', loc = 'left')\n",
    "\n",
    "plt.tight_layout()\n",
    "plt.savefig('./Figures/Fig1a.pdf', bbox_inches = \"tight\")"
   ]
  },
  {
   "cell_type": "code",
   "execution_count": null,
   "metadata": {},
   "outputs": [],
   "source": []
  }
 ],
 "metadata": {
  "kernelspec": {
   "display_name": "Python 3",
   "language": "python",
   "name": "python3"
  },
  "language_info": {
   "codemirror_mode": {
    "name": "ipython",
    "version": 3
   },
   "file_extension": ".py",
   "mimetype": "text/x-python",
   "name": "python",
   "nbconvert_exporter": "python",
   "pygments_lexer": "ipython3",
   "version": "3.6.5"
  }
 },
 "nbformat": 4,
 "nbformat_minor": 4
}
