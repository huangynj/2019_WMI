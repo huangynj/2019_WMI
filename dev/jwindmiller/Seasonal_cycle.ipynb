{
 "cells": [
  {
   "cell_type": "markdown",
   "metadata": {},
   "source": [
    "# Seasonal cycle of MMLI"
   ]
  },
  {
   "cell_type": "code",
   "execution_count": 1,
   "metadata": {},
   "outputs": [],
   "source": [
    "import sys\n",
    "sys.path.insert(0, \"/users/jwindmil/2019_WMI/util\")\n",
    "\n",
    "# Initial imports\n",
    "import Landau_Potential_Diffusion as Landau\n",
    "import curvature as curve\n",
    "\n",
    "import xarray as xr\n",
    "import numpy as np\n",
    "import numpy.fft as fft\n",
    "import matplotlib.pyplot as plt\n",
    "import matplotlib.dates as mdates\n",
    "import matplotlib.image as mpimg\n",
    "from matplotlib.gridspec import GridSpec\n",
    "import datetime\n",
    "from skimage import measure\n",
    "from scipy import ndimage, stats\n",
    "import scipy.integrate as sin\n",
    "from scipy.optimize import curve_fit\n",
    "from scipy.ndimage.filters import gaussian_filter1d\n",
    "import random\n",
    "import pandas as pd\n",
    "\n",
    "import pickle"
   ]
  },
  {
   "cell_type": "code",
   "execution_count": 2,
   "metadata": {},
   "outputs": [],
   "source": [
    "def get_all_values(dic_values):\n",
    "    values = []\n",
    "    for i_k, key in enumerate(dic_values.keys()):\n",
    "        values.extend(dic_values[key])\n",
    "    return values"
   ]
  },
  {
   "cell_type": "code",
   "execution_count": 3,
   "metadata": {},
   "outputs": [],
   "source": [
    "def cm_to_inch(m_cm):\n",
    "    return m_cm/2.54"
   ]
  },
  {
   "cell_type": "code",
   "execution_count": 4,
   "metadata": {},
   "outputs": [],
   "source": [
    "path = '/project/s916/ERA5_Tom/'\n",
    "path_PKL = '/users/jwindmil/2019_WMI/dev/jwindmiller/PKL_DATA/'"
   ]
  },
  {
   "cell_type": "markdown",
   "metadata": {},
   "source": [
    "### Choose stripe like domain in the Atlantic ocean"
   ]
  },
  {
   "cell_type": "markdown",
   "metadata": {},
   "source": [
    "Choose domain such that no land is included in domain (excepting Cape Verde Islands)"
   ]
  },
  {
   "cell_type": "code",
   "execution_count": 5,
   "metadata": {},
   "outputs": [],
   "source": [
    "latmin = -23\n",
    "latmax = 23\n",
    "lonmin = 360-34\n",
    "lonmax = 360-18"
   ]
  },
  {
   "cell_type": "markdown",
   "metadata": {},
   "source": [
    "Select period (exclude 2018 as it is only partly available)"
   ]
  },
  {
   "cell_type": "code",
   "execution_count": 6,
   "metadata": {},
   "outputs": [],
   "source": [
    "date1, date2 = np.datetime64('2000-01-01T00:00'), np.datetime64('2017-12-31T23:00')"
   ]
  },
  {
   "cell_type": "markdown",
   "metadata": {},
   "source": [
    "Use 83rd percentile which gives the location of the antimode in the bimodal distribution for the respective domain. \n",
    "\n",
    "Note: Jakob et al. (2019) suggest a ratio of about 7.7 for deep organized convection/suppressed cloud regime (Fig. 11, blue number for largest). This would correspond to a subsiding regime covering about 88.5 percent of the tropics. Comparable values but 83rd percentile is domain dependent. "
   ]
  },
  {
   "cell_type": "code",
   "execution_count": 7,
   "metadata": {},
   "outputs": [],
   "source": [
    "thresh = 83 #48"
   ]
  },
  {
   "cell_type": "code",
   "execution_count": 8,
   "metadata": {},
   "outputs": [],
   "source": [
    "PW = xr.open_mfdataset(path+'????/??PW.nc',combine='by_coords')\n",
    "PWAtl = PW['tcwv'].sel({'time':slice(date1, date2), 'longitude':slice(lonmin,lonmax),'latitude':slice(latmax,latmin)})\n",
    "lonAtl = PW.longitude.sel({'longitude':slice(lonmin,lonmax)})\n",
    "latAtl = PW.latitude.sel({'latitude':slice(latmax,latmin)})"
   ]
  },
  {
   "cell_type": "code",
   "execution_count": 9,
   "metadata": {},
   "outputs": [],
   "source": [
    "PWAtl_mean = PWAtl.mean('time').values"
   ]
  },
  {
   "cell_type": "code",
   "execution_count": 10,
   "metadata": {},
   "outputs": [],
   "source": [
    "time_A = PWAtl.time.values"
   ]
  },
  {
   "cell_type": "code",
   "execution_count": 11,
   "metadata": {},
   "outputs": [
    {
     "name": "stderr",
     "output_type": "stream",
     "text": [
      "/users/jwindmil/venv-3.6/lib/python3.6/site-packages/xarray/backends/api.py:783: FutureWarning: In xarray version 0.13 `auto_combine` will be deprecated.\n",
      "  coords=coords)\n",
      "/users/jwindmil/venv-3.6/lib/python3.6/site-packages/xarray/backends/api.py:783: FutureWarning: The datasets supplied have global dimension coordinates. You may want\n",
      "to use the new `combine_by_coords` function (or the\n",
      "`combine='by_coords'` option to `open_mfdataset` to order the datasets\n",
      "before concatenation. Alternatively, to continue concatenating based\n",
      "on the order the datasets are supplied in in future, please use the\n",
      "new `combine_nested` function (or the `combine='nested'` option to\n",
      "open_mfdataset).\n",
      "  coords=coords)\n"
     ]
    }
   ],
   "source": [
    "LSM = xr.open_mfdataset(path+'ERA_LANDSEAMASK.nc')\n",
    "LSMAtl = LSM['lsm'].sel({'longitude':slice(lonmin,lonmax),'latitude':slice(latmax,latmin)})"
   ]
  },
  {
   "cell_type": "code",
   "execution_count": 12,
   "metadata": {},
   "outputs": [],
   "source": [
    "# Calculate Area of domain assuming a rectangle (since we assumed constant dx for the contour)\n",
    "dx = 110/4 #km\n",
    "A_domain = PWAtl.shape[1]*PWAtl.shape[2]*(dx**2) #km**2\n",
    "L_band = 2.0*PWAtl.shape[2]*dx\n",
    "circle_sw = False"
   ]
  },
  {
   "cell_type": "code",
   "execution_count": 13,
   "metadata": {},
   "outputs": [],
   "source": [
    "year = 2009\n",
    "YEAR = np.arange(2000,2018)# np.append(np.arange(2000,2014), np.arange(2015,2018)) #2014 is missing!"
   ]
  },
  {
   "cell_type": "markdown",
   "metadata": {},
   "source": [
    "### Load contour length and area"
   ]
  },
  {
   "cell_type": "code",
   "execution_count": 14,
   "metadata": {},
   "outputs": [
    {
     "data": {
      "text/plain": [
       "'/users/jwindmil/2019_WMI/dev/jwindmiller/PKL_DATA/CONTOURL_PW_-23_23_326_342_83_2009.pkl'"
      ]
     },
     "execution_count": 14,
     "metadata": {},
     "output_type": "execute_result"
    }
   ],
   "source": [
    "path_PKL+'CONTOURL_PW_%i_%i_%i_%i_%i_'%(latmin, latmax, lonmin, lonmax, thresh)+str(year)+'.pkl'"
   ]
  },
  {
   "cell_type": "code",
   "execution_count": 15,
   "metadata": {},
   "outputs": [
    {
     "name": "stdout",
     "output_type": "stream",
     "text": [
      "i= 17  & year= 2017  \r"
     ]
    }
   ],
   "source": [
    "# Calculate MMLI from CON_data assuming band or circle shape\n",
    "\n",
    "MMLI_PW_data = {}\n",
    "CONT_PW_data = {}\n",
    "AREA_PW = {}\n",
    "\n",
    "for i,year in enumerate(YEAR):\n",
    "    print('i=',i,' & year=',year,' ',end='\\r')\n",
    "    hf = open(path_PKL+'CONTOURL_PW_%i_%i_%i_%i_%i_'%(latmin, latmax, lonmin, lonmax, thresh)+str(year)+'.pkl','rb')\n",
    "    tmp = pickle.load(hf)\n",
    "    AREA_PW[str(year)] = tmp[\"Tot_Area_km2\"]\n",
    "    MMLI_PW_data[str(year)] = 2.0*np.sqrt(np.pi*tmp[\"Tot_Area_km2\"])/tmp['Tot_Contour_km'][str(year)] if circle_sw else L_band/tmp['Tot_Contour_km'][str(year)] #L_band/tmp['Tot_Contour_km'][str(year)]\n",
    "    CONT_PW_data[str(year)] = tmp['Tot_Contour_km'][str(year)]\n",
    "    "
   ]
  },
  {
   "cell_type": "code",
   "execution_count": 16,
   "metadata": {},
   "outputs": [],
   "source": [
    "data_t = np.array(get_all_values(MMLI_PW_data))\n",
    "cont_t = np.array(get_all_values(CONT_PW_data))\n",
    "\n",
    "#data_t[cont_t==0] = np.nan"
   ]
  },
  {
   "cell_type": "code",
   "execution_count": 17,
   "metadata": {},
   "outputs": [],
   "source": [
    "area_t = np.array(get_all_values(AREA_PW))"
   ]
  },
  {
   "cell_type": "code",
   "execution_count": 18,
   "metadata": {},
   "outputs": [
    {
     "name": "stdout",
     "output_type": "stream",
     "text": [
      "0 0\n"
     ]
    },
    {
     "data": {
      "text/plain": [
       "(0, 1)"
      ]
     },
     "execution_count": 18,
     "metadata": {},
     "output_type": "execute_result"
    },
    {
     "data": {
      "image/png": "[encoded data removed]",
      "text/plain": [
       "<Figure size 432x288 with 1 Axes>"
      ]
     },
     "metadata": {
      "needs_background": "light"
     },
     "output_type": "display_data"
    }
   ],
   "source": [
    "plt.hist(data_t, np.linspace(0.0,1.5,100), density=True)\n",
    "print(len(np.where(data_t<=0.0)[0]), len(np.where(data_t>1.0)[0]))\n",
    "plt.ylabel('PDF')\n",
    "plt.xlabel('MMLI')\n",
    "plt.xlim(0,1)"
   ]
  },
  {
   "cell_type": "markdown",
   "metadata": {},
   "source": [
    "### Calculate seasonal cycle of MMLI"
   ]
  },
  {
   "cell_type": "code",
   "execution_count": 19,
   "metadata": {},
   "outputs": [],
   "source": [
    "time_eval = [np.datetime64('2000-%02i-01T00:00'%i) for i in np.repeat(range(1,13),2)]+[np.datetime64('2000-12-31T23:00')]\n",
    "time_eval[1::2] = time_eval[1::2]+np.timedelta64(15,'D')+np.timedelta64(23,'h')\n",
    "time_eval_doy = pd.DatetimeIndex(time_eval).dayofyear"
   ]
  },
  {
   "cell_type": "code",
   "execution_count": 20,
   "metadata": {},
   "outputs": [
    {
     "data": {
      "text/plain": [
       "Int64Index([  1,  16,  32,  47,  61,  76,  92, 107, 122, 137, 153, 168, 183,\n",
       "            198, 214, 229, 245, 260, 275, 290, 306, 321, 336, 351, 366],\n",
       "           dtype='int64')"
      ]
     },
     "execution_count": 20,
     "metadata": {},
     "output_type": "execute_result"
    }
   ],
   "source": [
    "time_eval_doy"
   ]
  },
  {
   "cell_type": "code",
   "execution_count": 21,
   "metadata": {},
   "outputs": [
    {
     "name": "stderr",
     "output_type": "stream",
     "text": [
      "/users/jwindmil/venv-3.6/lib/python3.6/site-packages/pandas/plotting/_matplotlib/converter.py:103: FutureWarning: Using an implicitly registered datetime converter for a matplotlib plotting method. The converter was registered by pandas on import. Future versions of pandas will require you to explicitly register matplotlib converters.\n",
      "\n",
      "To register the converters:\n",
      "\t>>> from pandas.plotting import register_matplotlib_converters\n",
      "\t>>> register_matplotlib_converters()\n",
      "  warnings.warn(msg, FutureWarning)\n"
     ]
    },
    {
     "data": {
      "image/png": "[encoded data removed]",
      "text/plain": [
       "<Figure size 255.118x198.425 with 1 Axes>"
      ]
     },
     "metadata": {
      "needs_background": "light"
     },
     "output_type": "display_data"
    }
   ],
   "source": [
    "def plot_seasonal_cycle(ax_sc = None):\n",
    "    if ax_sc == None:\n",
    "        fig_sc, ax_sc = plt.subplots(1,1,figsize=(cm_to_inch(9), cm_to_inch(7)))\n",
    "\n",
    "    data_day = pd.DatetimeIndex(time_A).dayofyear\n",
    "    days = time_eval_doy\n",
    "\n",
    "    data_w = np.ones(len(days)).astype(float)\n",
    "\n",
    "    for i, day in enumerate(days[:-1]):\n",
    "        data_w[i] = np.nanmean(data_t[np.where((data_day>=day)&(data_day<days[i+1]))])\n",
    "\n",
    "    ax_sc.plot(time_eval[:-1], data_w[:-1]) #gaussian_filter1d(data_w, sigma=2), 'C1')\n",
    "\n",
    "    ymin, ymax = ax_sc.set_ylim(ymin=0.45, ymax=0.65)\n",
    "\n",
    "    ax_sc.vlines([np.datetime64('2000-04-15'), np.datetime64('2000-09-10')], ymin, ymax, linestyle=':')\n",
    "\n",
    "    ax_sc.set_ylim(ymin, ymax)\n",
    "\n",
    "\n",
    "    #plt.xlabel('day')\n",
    "    ax_sc.set_ylabel('MMLI')\n",
    "\n",
    "    locs, labels = plt.xticks()\n",
    "\n",
    "    _=plt.xticks(locs, labels, rotation=45) \n",
    "\n",
    "    # every_nth = 2\n",
    "    # for n, label in enumerate(ax.xaxis.get_ticklabels()[::1]):\n",
    "    #     if n % every_nth != 0:\n",
    "    #         print(n)\n",
    "    #         label.set_visible(False)\n",
    "\n",
    "    ax_sc.xaxis.set_major_formatter(mdates.DateFormatter(\"%d-%b\"))\n",
    "    ax_sc.xaxis.set_minor_formatter(mdates.DateFormatter(\"%d-%b\"))\n",
    "\n",
    "\n",
    "\n",
    "    ax_sc.set_xlim(np.datetime64('2000-01-01'), np.datetime64('2000-12-16'))\n",
    "\n",
    "    ax_sc.spines['right'].set_visible(False)\n",
    "    ax_sc.spines['top'].set_visible(False)\n",
    "    \n",
    "plot_seasonal_cycle()\n",
    "\n",
    "plt.savefig('Figures/seasonal_cycle.pdf', bbox_inches='tight')"
   ]
  },
  {
   "cell_type": "markdown",
   "metadata": {},
   "source": [
    "During boreal spring (MAM) the ITCZ reaches is southermost extent. During this time, the impact of land on the part of the ITCZ investigated in our domain is expected to be largest. Considering e.g. Fig. 1 of citet{Chiang2002} shows that the ITCZ is widest during boreal spring and its shape is clearly impacted by South America. Note that citet{Chiang2002} also note that this is the season of the year in which the ITCZ location and the precipitation magnitude are most variable. \n",
    "One possible explanation of the local minimum of MMLI during boreal spring (vertical line indicates the 15th of April) is that the impact of land distorts the humidity field. \n",
    "\n",
    "A second minimum in MMLI is found during boreal autumn. Visual inspection suggests that this minimum in MMLI is caused by the presence of hurricanes (vertical line indicates peak of hurricane season in the tropical Atlantic, see https://www.nhc.noaa.gov/climo/). "
   ]
  },
  {
   "cell_type": "markdown",
   "metadata": {},
   "source": [
    "### Show example plots"
   ]
  },
  {
   "cell_type": "code",
   "execution_count": 22,
   "metadata": {},
   "outputs": [
    {
     "name": "stdout",
     "output_type": "stream",
     "text": [
      "[<matplotlib.axes._subplots.AxesSubplot object at 0x2aad71260208>\n",
      " <matplotlib.axes._subplots.AxesSubplot object at 0x2ac2483195c0>\n",
      " <matplotlib.axes._subplots.AxesSubplot object at 0x2abb37289358>]\n",
      "Year 2010\n"
     ]
    },
    {
     "data": {
      "text/plain": [
       "<Figure size 432x288 with 0 Axes>"
      ]
     },
     "execution_count": 22,
     "metadata": {},
     "output_type": "execute_result"
    },
    {
     "data": {
      "image/png": "[encoded data removed]",
      "text/plain": [
       "<Figure size 255.118x198.425 with 4 Axes>"
      ]
     },
     "metadata": {
      "needs_background": "light"
     },
     "output_type": "display_data"
    },
    {
     "data": {
      "text/plain": [
       "<Figure size 432x288 with 0 Axes>"
      ]
     },
     "metadata": {},
     "output_type": "display_data"
    }
   ],
   "source": [
    "def plot_seasonal_cycle_exp(axes = [None]):\n",
    "    times2_A = [np.datetime64('2010-05-01T18:00'), np.datetime64('2010-06-20T12:00'), np.datetime64('2010-09-09T12:00')]\n",
    "\n",
    "    num_sp = len(times2_A)\n",
    "\n",
    "    if axes[0] == None:\n",
    "        fig, axes = plt.subplots(1, num_sp, figsize=(cm_to_inch(9), cm_to_inch(7)), sharey = True)\n",
    "        \n",
    "    print(axes)\n",
    "    \n",
    "    for i, time in enumerate(times2_A):\n",
    "\n",
    "        tmp = np.squeeze(PWAtl.sel({'time':time}).values) #.where(LSM['lsm']==0)\n",
    "\n",
    "        axes[i].contour(lonAtl, latAtl, tmp, [48.00])#, vmin = 2.7e9, vmax=2.85e9)\n",
    "        im = axes[i].contourf(lonAtl, latAtl, tmp, 20, vmin = 20, vmax = 62, extend='both')\n",
    "        for c in im.collections:\n",
    "            c.set_edgecolor(\"face\")\n",
    "        axes[i].set_aspect('equal')\n",
    "\n",
    "        locs = axes[i].get_xticks()\n",
    "        labels = list(np.arange(len(locs)))\n",
    "        for i_l, loc in enumerate(locs):\n",
    "            labels[i_l] = '%iW'%int(360-loc)\n",
    "        axes[i].set_xticklabels(labels) \n",
    "\n",
    "        axes[i].set_title(pd.to_datetime(time).strftime(\"%d-%b\"))\n",
    "\n",
    "    locs = axes[i].get_yticks()\n",
    "    labels = list(np.arange(len(locs)))\n",
    "    for i_l, loc in enumerate(locs):\n",
    "        if loc >0:\n",
    "            labels[i_l] = '%iN'%int(loc)\n",
    "        elif loc == 0:\n",
    "            labels[i_l] = 'EQ'\n",
    "        else:\n",
    "            labels[i_l] = '%iS'%int(loc*-1)\n",
    "    axes[i].set_yticklabels(labels)\n",
    "\n",
    "    cbar = plt.colorbar(im, ax=axes.ravel().tolist())\n",
    "\n",
    "    print(pd.to_datetime(time).strftime(\"Year %Y\"))\n",
    "\n",
    "#plt.tight_layout()\n",
    "plot_seasonal_cycle_exp()\n",
    "\n",
    "plt.savefig('Figures/seasonal_cycle_snapshots.pdf', bbox_inches='tight')\n",
    "\n",
    "plt.figure()"
   ]
  },
  {
   "cell_type": "markdown",
   "metadata": {},
   "source": [
    "### Multiyear mean of CWV"
   ]
  },
  {
   "cell_type": "code",
   "execution_count": 23,
   "metadata": {},
   "outputs": [
    {
     "name": "stdout",
     "output_type": "stream",
     "text": [
      "AxesSubplot(0.125,0.125;0.775x0.755)\n",
      "Multiyear mean CWV\n"
     ]
    },
    {
     "data": {
      "image/png": "[encoded data removed]",
      "text/plain": [
       "<Figure size 85.0394x198.425 with 2 Axes>"
      ]
     },
     "metadata": {
      "needs_background": "light"
     },
     "output_type": "display_data"
    }
   ],
   "source": [
    "times2_A = [np.datetime64('2010-05-01T18:00'), np.datetime64('2010-06-20T12:00'), np.datetime64('2010-09-09T12:00')]\n",
    "\n",
    "num_sp = len(times2_A)\n",
    "\n",
    "fig, axes = plt.subplots(1, 1, figsize=(cm_to_inch(3), cm_to_inch(7)))\n",
    "\n",
    "print(axes)\n",
    "\n",
    "tmp = PWAtl_mean\n",
    "\n",
    "axes.contour(lonAtl, latAtl, tmp, [48.00], colors=['k'])#, vmin = 2.7e9, vmax=2.85e9)\n",
    "im = axes.contourf(lonAtl, latAtl, tmp, 20, vmin = 20, vmax = 48, extend='both')\n",
    "for c in im.collections:\n",
    "    c.set_edgecolor(\"face\")\n",
    "axes.set_aspect('equal')\n",
    "\n",
    "locs = axes.get_xticks()\n",
    "labels = list(np.arange(len(locs)))\n",
    "for i_l, loc in enumerate(locs):\n",
    "    labels[i_l] = '%iW'%int(360-loc)\n",
    "axes.set_xticklabels(labels) \n",
    "\n",
    "#axes.set_title('')\n",
    "\n",
    "locs = axes.get_yticks()\n",
    "labels = list(np.arange(len(locs)))\n",
    "for i_l, loc in enumerate(locs):\n",
    "    if loc >0:\n",
    "        labels[i_l] = '%iN'%int(loc)\n",
    "    elif loc == 0:\n",
    "        labels[i_l] = 'EQ'\n",
    "    else:\n",
    "        labels[i_l] = '%iS'%int(loc*-1)\n",
    "axes.set_yticklabels(labels)\n",
    "\n",
    "cbar = plt.colorbar(im)\n",
    "\n",
    "print('Multiyear mean CWV')\n",
    "\n"
   ]
  },
  {
   "cell_type": "code",
   "execution_count": null,
   "metadata": {},
   "outputs": [],
   "source": []
  }
 ],
 "metadata": {
  "kernelspec": {
   "display_name": "Python 3",
   "language": "python",
   "name": "python3"
  },
  "language_info": {
   "codemirror_mode": {
    "name": "ipython",
    "version": 3
   },
   "file_extension": ".py",
   "mimetype": "text/x-python",
   "name": "python",
   "nbconvert_exporter": "python",
   "pygments_lexer": "ipython3",
   "version": "3.6.5"
  }
 },
 "nbformat": 4,
 "nbformat_minor": 4
}
