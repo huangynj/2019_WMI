{
 "cells": [
  {
   "cell_type": "code",
   "execution_count": 74,
   "metadata": {},
   "outputs": [],
   "source": [
    "from Landau_Potential_Diffusion import *\n",
    "from curvature import *\n",
    "\n",
    "from PyAstronomy import pyaC\n",
    "import xarray as xr\n",
    "import numpy as np\n",
    "import numpy.fft as fft\n",
    "import matplotlib.pyplot as plt\n",
    "from matplotlib import ticker, colors\n",
    "import datetime\n",
    "from skimage import measure\n",
    "from scipy import ndimage\n",
    "import scipy.integrate as sin\n",
    "from scipy.optimize import curve_fit\n",
    "from scipy.signal import argrelextrema"
   ]
  },
  {
   "cell_type": "code",
   "execution_count": 134,
   "metadata": {},
   "outputs": [],
   "source": [
    "def get_local_min_max(x_dat, y_dat, pot_dat, return_max_three = False):\n",
    "\n",
    "    # Get coordinates and indices of zero crossings\n",
    "    xc, xi = pyaC.zerocross1d(x_dat, y_dat, getIndices=True)\n",
    "    xc_min = xc[np.where(y_dat[xi]>0.0)]\n",
    "    xc_max = xc[np.where(y_dat[xi]<0.0)]\n",
    "\n",
    "    #Test whether potential at smallest MSE value is smaller than the local minimum\n",
    "    xc_min[0] = x_dat[0] if pot_dat[0]<np.interp(xc_min[0], x_dat, pot_dat) else xc_min[0]\n",
    "    \n",
    "    if return_max_three:\n",
    "        #assume bimodality: look for the largest local maximum and the two smallest minima\n",
    "        xc_min = xc_min[np.argsort(np.interp(xc_min, x_dat, pot_dat))][:2]\n",
    "        xc_max = xc_max[np.argsort(np.interp(xc_max, x_dat, pot_dat))][-1]\n",
    "    \n",
    "    return xc_min, xc_max, xi, np.interp(xc_min, x_dat, pot_dat), np.interp(xc_max, x_dat, pot_dat)"
   ]
  },
  {
   "cell_type": "code",
   "execution_count": 160,
   "metadata": {},
   "outputs": [],
   "source": [
    "def get_bimodal_peaks(bins_fmse, hist_fmse):\n",
    "    \n",
    "    ind_max = np.squeeze(argrelextrema(hist_fmse, np.greater))\n",
    "    bins_fmse_max = bins_fmse[ind_max]\n",
    "    hist_fmse_max = hist_fmse[ind_max]\n",
    "\n",
    "    # Take the two largest maxima\n",
    "    if len(ind_max)>2:\n",
    "        bins_fmse_max = bins_fmse_max[np.argsort(hist_fmse_max)][-2:]\n",
    "        ind_max  = np.array(ind_max)[np.argsort(hist_fmse_max)][-2:]\n",
    "        hist_fmse_max = np.sort(hist_fmse_max)[-2:]\n",
    "        \n",
    "    # Calculate the antimode \n",
    "    \n",
    "    ind_min       = np.nan\n",
    "    bins_fmse_min = np.nan\n",
    "    hist_fmse_min = np.nan\n",
    "    \n",
    "    if len(ind_max) == 2:\n",
    "        ind_between_peaks = np.where((bins_fmse>np.min(bins_fmse_max))&(bins_fmse<np.max(bins_fmse_max)))\n",
    "        ind_min = np.argmin(hist_fmse[ind_between_peaks])\n",
    "        hist_fmse_min = hist_fmse[ind_between_peaks][ind_min]\n",
    "        bins_fmse_min = bins_fmse[ind_between_peaks][ind_min]\n",
    "        \n",
    "    return bins_fmse_max, ind_max, hist_fmse_max, bins_fmse_min, ind_min, hist_fmse_min"
   ]
  },
  {
   "cell_type": "code",
   "execution_count": 2,
   "metadata": {},
   "outputs": [],
   "source": [
    "path = '/project/s916/davidle/RCE-MIP/simulations/RCE_%i_%ikm_%ix%i/output/'"
   ]
  },
  {
   "cell_type": "code",
   "execution_count": 3,
   "metadata": {},
   "outputs": [],
   "source": [
    "dx  = 3\n",
    "L_dom = 206"
   ]
  },
  {
   "cell_type": "code",
   "execution_count": 4,
   "metadata": {},
   "outputs": [
    {
     "name": "stderr",
     "output_type": "stream",
     "text": [
      "/users/jwindmil/venv-3.6/lib/python3.6/site-packages/xarray/backends/api.py:783: FutureWarning: In xarray version 0.13 `auto_combine` will be deprecated.\n",
      "  coords=coords)\n",
      "/users/jwindmil/venv-3.6/lib/python3.6/site-packages/xarray/backends/api.py:783: FutureWarning: The datasets supplied have global dimension coordinates. You may want\n",
      "to use the new `combine_by_coords` function (or the\n",
      "`combine='by_coords'` option to `open_mfdataset` to order the datasets\n",
      "before concatenation. Alternatively, to continue concatenating based\n",
      "on the order the datasets are supplied in in future, please use the\n",
      "new `combine_nested` function (or the `combine='nested'` option to\n",
      "open_mfdataset).\n",
      "  coords=coords)\n",
      "/users/jwindmil/venv-3.6/lib/python3.6/site-packages/xarray/backends/api.py:783: FutureWarning: In xarray version 0.13 `auto_combine` will be deprecated.\n",
      "  coords=coords)\n",
      "/users/jwindmil/venv-3.6/lib/python3.6/site-packages/xarray/backends/api.py:783: FutureWarning: The datasets supplied have global dimension coordinates. You may want\n",
      "to use the new `combine_by_coords` function (or the\n",
      "`combine='by_coords'` option to `open_mfdataset` to order the datasets\n",
      "before concatenation. Alternatively, to continue concatenating based\n",
      "on the order the datasets are supplied in in future, please use the\n",
      "new `combine_nested` function (or the `combine='nested'` option to\n",
      "open_mfdataset).\n",
      "  coords=coords)\n",
      "/users/jwindmil/venv-3.6/lib/python3.6/site-packages/xarray/backends/api.py:783: FutureWarning: In xarray version 0.13 `auto_combine` will be deprecated.\n",
      "  coords=coords)\n",
      "/users/jwindmil/venv-3.6/lib/python3.6/site-packages/xarray/backends/api.py:783: FutureWarning: The datasets supplied have global dimension coordinates. You may want\n",
      "to use the new `combine_by_coords` function (or the\n",
      "`combine='by_coords'` option to `open_mfdataset` to order the datasets\n",
      "before concatenation. Alternatively, to continue concatenating based\n",
      "on the order the datasets are supplied in in future, please use the\n",
      "new `combine_nested` function (or the `combine='nested'` option to\n",
      "open_mfdataset).\n",
      "  coords=coords)\n"
     ]
    }
   ],
   "source": [
    "RCE295 = xr.open_mfdataset(path%(295, dx, L_dom, L_dom)+'lfff[0-9]???????.nc')\n",
    "RCE300 = xr.open_mfdataset(path%(300, dx, L_dom, L_dom)+'lfff[0-9]???????.nc')\n",
    "RCE305 = xr.open_mfdataset(path%(305, dx, L_dom, L_dom)+'lfff[0-9]???????.nc')"
   ]
  },
  {
   "cell_type": "code",
   "execution_count": 5,
   "metadata": {},
   "outputs": [],
   "source": [
    "RCE_exps = [RCE295, RCE300, RCE305]\n",
    "SST_exps = [295, 300, 305]"
   ]
  },
  {
   "cell_type": "code",
   "execution_count": 6,
   "metadata": {},
   "outputs": [],
   "source": [
    "dt = 3600; # Timestep in seconds\n",
    "tcoor = dt*np.arange(0,RCE300.time.shape[0])"
   ]
  },
  {
   "cell_type": "markdown",
   "metadata": {},
   "source": [
    "## Bimodality"
   ]
  },
  {
   "cell_type": "markdown",
   "metadata": {},
   "source": [
    "PW Interquartile range"
   ]
  },
  {
   "cell_type": "code",
   "execution_count": 7,
   "metadata": {},
   "outputs": [
    {
     "data": {
      "text/plain": [
       "<matplotlib.legend.Legend at 0x2aab655e2748>"
      ]
     },
     "execution_count": 7,
     "metadata": {},
     "output_type": "execute_result"
    },
    {
     "data": {
      "image/png": "[encoded data removed]",
      "text/plain": [
       "<Figure size 432x288 with 1 Axes>"
      ]
     },
     "metadata": {},
     "output_type": "display_data"
    }
   ],
   "source": [
    "for i_exp, RCE_data in enumerate(RCE_exps):\n",
    "    TQV_IQR = np.percentile(a=RCE_data.TQV[:,:,:],q=75,axis=(1,2))-np.percentile(a=RCE_data.TQV[:,:,:],q=25,axis=(1,2))\n",
    "    plt.plot(tcoor/(24*3600),TQV_IQR, label = SST_exps[i_exp])\n",
    "plt.xlabel('t [days]')\n",
    "plt.ylabel('IQR')\n",
    "plt.legend()"
   ]
  },
  {
   "cell_type": "markdown",
   "metadata": {},
   "source": [
    "Final Humidity Distribution"
   ]
  },
  {
   "cell_type": "code",
   "execution_count": 8,
   "metadata": {},
   "outputs": [],
   "source": [
    "# Calculate histogram for final days\n",
    "\n",
    "day_range = range(75, 100)\n",
    "Nbins = 30\n",
    "bins_mid_A = []\n",
    "\n",
    "fmse_hist_2D = np.ones((len(RCE_exps), len(day_range), Nbins-1))\n",
    "\n",
    "for i_exp, RCE_data in enumerate(RCE_exps):\n",
    "    \n",
    "    FMSE_min = RCE_data.FMSE.min().values\n",
    "    FMSE_max = RCE_data.FMSE.max().values\n",
    "\n",
    "    fmse_bins = np.linspace(FMSE_min, FMSE_max, num = Nbins)\n",
    "    fmse_bin_mid = 0.5*(fmse_bins[:-1]+fmse_bins[1:])\n",
    "    delta_fmse_bin = fmse_bins[1] - fmse_bins[0]\n",
    "\n",
    "    bins_mid_A.append(fmse_bin_mid)\n",
    "    \n",
    "    for i_d, day in enumerate(day_range): \n",
    "        iT_d = np.arange(24*day,24*(day+1),1)\n",
    "        field_hist, bin_edges = np.histogram(RCE_data.FMSE[iT_d,:,:].values.flatten(),bins=fmse_bins, density = True)\n",
    "        fmse_hist_2D[i_exp, i_d, :] = field_hist"
   ]
  },
  {
   "cell_type": "code",
   "execution_count": 162,
   "metadata": {},
   "outputs": [
    {
     "data": {
      "text/plain": [
       "<matplotlib.collections.PathCollection at 0x2aab57f68d68>"
      ]
     },
     "execution_count": 162,
     "metadata": {},
     "output_type": "execute_result"
    },
    {
     "data": {
      "image/png": "[encoded data removed]",
      "text/plain": [
       "<Figure size 432x288 with 1 Axes>"
      ]
     },
     "metadata": {},
     "output_type": "display_data"
    }
   ],
   "source": [
    "fmse_hist_mean = np.mean(fmse_hist_2D, axis = 1)\n",
    "bins_fmse_max_set = []\n",
    "hist_fmse_max_set = []\n",
    "bins_fmse_min_set = []\n",
    "hist_fmse_min_set = []\n",
    "\n",
    "for i_exp, RCE_data in enumerate(RCE_exps):\n",
    "    plt.plot(bins_mid_A[i_exp], fmse_hist_mean[i_exp,:], label = SST_exps[i_exp])\n",
    "    \n",
    "    # Calculate position of the peaks in the distribution\n",
    "    bins_fmse_max, ind_max, hist_fmse_max, bins_fmse_min, ind_min, hist_fmse_min = get_bimodal_peaks(bins_mid_A[i_exp], fmse_hist_mean[i_exp,:])\n",
    "    plt.vlines(bins_fmse_max, 0.0, 3.5e-8, linestyle = ':', color = 'C%i'%i_exp)\n",
    "    \n",
    "    bins_fmse_max_set.append(bins_fmse_max)\n",
    "    hist_fmse_max_set.append(hist_fmse_max)\n",
    "    bins_fmse_min_set.append(bins_fmse_min)\n",
    "    hist_fmse_min_set.append(hist_fmse_min)\n",
    "    \n",
    "plt.xlabel('MSE')\n",
    "plt.ylabel('PDF')\n",
    "plt.legend()"
   ]
  },
  {
   "cell_type": "markdown",
   "metadata": {},
   "source": [
    "## Potential"
   ]
  },
  {
   "cell_type": "markdown",
   "metadata": {},
   "source": [
    "Calculate dMSE/dt"
   ]
  },
  {
   "cell_type": "code",
   "execution_count": 10,
   "metadata": {},
   "outputs": [],
   "source": [
    "t_range = np.arange(0,np.size(RCE_data.time)-2)\n",
    "dMSE_dt_set = []\n",
    "\n",
    "for i_exp, RCE_data in enumerate(RCE_exps):\n",
    "    dMSE_dt = (RCE_data.FMSE.values[t_range+2,:,:]-RCE_data.FMSE.values[t_range,:,:])/(2*dt)\n",
    "    dMSE_dt = np.concatenate((dMSE_dt[0:1,:,:],dMSE_dt,np.tile(dMSE_dt[-1,:,:],(1,1,1))),axis=0)\n",
    "    \n",
    "    dMSE_dt_set.append(dMSE_dt)"
   ]
  },
  {
   "cell_type": "code",
   "execution_count": 11,
   "metadata": {},
   "outputs": [
    {
     "name": "stdout",
     "output_type": "stream",
     "text": []
    },
    {
     "name": "stdout",
     "output_type": "stream",
     "text": []
    },
    {
     "name": "stdout",
     "output_type": "stream",
     "text": []
    },
    {
     "name": "stdout",
     "output_type": "stream",
     "text": []
    },
    {
     "name": "stdout",
     "output_type": "stream",
     "text": []
    },
    {
     "name": "stdout",
     "output_type": "stream",
     "text": []
    },
    {
     "name": "stdout",
     "output_type": "stream",
     "text": []
    },
    {
     "name": "stdout",
     "output_type": "stream",
     "text": []
    },
    {
     "name": "stdout",
     "output_type": "stream",
     "text": []
    },
    {
     "name": "stdout",
     "output_type": "stream",
     "text": []
    },
    {
     "name": "stdout",
     "output_type": "stream",
     "text": []
    },
    {
     "name": "stdout",
     "output_type": "stream",
     "text": []
    },
    {
     "name": "stdout",
     "output_type": "stream",
     "text": []
    },
    {
     "name": "stdout",
     "output_type": "stream",
     "text": []
    },
    {
     "name": "stdout",
     "output_type": "stream",
     "text": []
    },
    {
     "name": "stdout",
     "output_type": "stream",
     "text": []
    },
    {
     "name": "stdout",
     "output_type": "stream",
     "text": []
    },
    {
     "name": "stdout",
     "output_type": "stream",
     "text": []
    },
    {
     "name": "stdout",
     "output_type": "stream",
     "text": []
    },
    {
     "name": "stdout",
     "output_type": "stream",
     "text": []
    },
    {
     "name": "stdout",
     "output_type": "stream",
     "text": []
    },
    {
     "name": "stdout",
     "output_type": "stream",
     "text": []
    },
    {
     "name": "stdout",
     "output_type": "stream",
     "text": []
    },
    {
     "name": "stdout",
     "output_type": "stream",
     "text": []
    },
    {
     "name": "stdout",
     "output_type": "stream",
     "text": []
    },
    {
     "name": "stdout",
     "output_type": "stream",
     "text": []
    },
    {
     "name": "stdout",
     "output_type": "stream",
     "text": []
    },
    {
     "name": "stdout",
     "output_type": "stream",
     "text": []
    },
    {
     "name": "stdout",
     "output_type": "stream",
     "text": []
    },
    {
     "name": "stdout",
     "output_type": "stream",
     "text": []
    },
    {
     "name": "stdout",
     "output_type": "stream",
     "text": []
    },
    {
     "name": "stdout",
     "output_type": "stream",
     "text": []
    },
    {
     "name": "stdout",
     "output_type": "stream",
     "text": []
    },
    {
     "name": "stdout",
     "output_type": "stream",
     "text": []
    },
    {
     "name": "stdout",
     "output_type": "stream",
     "text": []
    },
    {
     "name": "stdout",
     "output_type": "stream",
     "text": []
    },
    {
     "name": "stdout",
     "output_type": "stream",
     "text": []
    },
    {
     "name": "stdout",
     "output_type": "stream",
     "text": []
    },
    {
     "name": "stdout",
     "output_type": "stream",
     "text": []
    },
    {
     "name": "stdout",
     "output_type": "stream",
     "text": []
    },
    {
     "name": "stdout",
     "output_type": "stream",
     "text": []
    },
    {
     "name": "stdout",
     "output_type": "stream",
     "text": []
    },
    {
     "name": "stdout",
     "output_type": "stream",
     "text": []
    },
    {
     "name": "stdout",
     "output_type": "stream",
     "text": []
    },
    {
     "name": "stdout",
     "output_type": "stream",
     "text": []
    },
    {
     "name": "stdout",
     "output_type": "stream",
     "text": []
    },
    {
     "name": "stdout",
     "output_type": "stream",
     "text": []
    },
    {
     "name": "stdout",
     "output_type": "stream",
     "text": []
    },
    {
     "name": "stdout",
     "output_type": "stream",
     "text": []
    },
    {
     "name": "stdout",
     "output_type": "stream",
     "text": []
    },
    {
     "name": "stdout",
     "output_type": "stream",
     "text": []
    },
    {
     "name": "stdout",
     "output_type": "stream",
     "text": []
    },
    {
     "name": "stdout",
     "output_type": "stream",
     "text": []
    },
    {
     "name": "stdout",
     "output_type": "stream",
     "text": []
    },
    {
     "name": "stdout",
     "output_type": "stream",
     "text": []
    },
    {
     "name": "stdout",
     "output_type": "stream",
     "text": []
    },
    {
     "name": "stdout",
     "output_type": "stream",
     "text": []
    },
    {
     "name": "stdout",
     "output_type": "stream",
     "text": []
    },
    {
     "name": "stdout",
     "output_type": "stream",
     "text": []
    },
    {
     "name": "stdout",
     "output_type": "stream",
     "text": []
    },
    {
     "name": "stdout",
     "output_type": "stream",
     "text": []
    },
    {
     "name": "stdout",
     "output_type": "stream",
     "text": []
    },
    {
     "name": "stdout",
     "output_type": "stream",
     "text": []
    },
    {
     "name": "stdout",
     "output_type": "stream",
     "text": []
    },
    {
     "name": "stdout",
     "output_type": "stream",
     "text": []
    },
    {
     "name": "stdout",
     "output_type": "stream",
     "text": []
    },
    {
     "name": "stdout",
     "output_type": "stream",
     "text": []
    },
    {
     "name": "stdout",
     "output_type": "stream",
     "text": []
    },
    {
     "name": "stdout",
     "output_type": "stream",
     "text": []
    },
    {
     "name": "stdout",
     "output_type": "stream",
     "text": []
    },
    {
     "name": "stdout",
     "output_type": "stream",
     "text": []
    },
    {
     "name": "stdout",
     "output_type": "stream",
     "text": []
    },
    {
     "name": "stdout",
     "output_type": "stream",
     "text": []
    },
    {
     "name": "stdout",
     "output_type": "stream",
     "text": []
    },
    {
     "name": "stdout",
     "output_type": "stream",
     "text": []
    },
    {
     "name": "stdout",
     "output_type": "stream",
     "text": []
    },
    {
     "name": "stdout",
     "output_type": "stream",
     "text": []
    },
    {
     "name": "stdout",
     "output_type": "stream",
     "text": []
    },
    {
     "name": "stdout",
     "output_type": "stream",
     "text": []
    },
    {
     "name": "stdout",
     "output_type": "stream",
     "text": []
    },
    {
     "name": "stdout",
     "output_type": "stream",
     "text": []
    },
    {
     "name": "stdout",
     "output_type": "stream",
     "text": []
    },
    {
     "name": "stdout",
     "output_type": "stream",
     "text": []
    },
    {
     "name": "stdout",
     "output_type": "stream",
     "text": []
    },
    {
     "name": "stdout",
     "output_type": "stream",
     "text": []
    },
    {
     "name": "stdout",
     "output_type": "stream",
     "text": []
    },
    {
     "name": "stdout",
     "output_type": "stream",
     "text": []
    },
    {
     "name": "stdout",
     "output_type": "stream",
     "text": []
    },
    {
     "name": "stdout",
     "output_type": "stream",
     "text": []
    },
    {
     "name": "stdout",
     "output_type": "stream",
     "text": []
    }
   ],
   "source": [
    "binm_iT_set = []\n",
    "V_iT_set    = []\n",
    "FMSE_cond_mean_set =[]\n",
    "FMSE_cond_std_set = []\n",
    "\n",
    "for i_exp, RCE_data in enumerate(RCE_exps): \n",
    "    iT_d = np.arange(24*75,24*100,1)\n",
    "    binm_iT, V_iT, FMSE_cond_mean, FMSE_cond_std = potential(RCE_data.FMSE[iT_d,:,:],dMSE_dt_set[i_exp][iT_d,:,:], Nbins = Nbins)\n",
    "    \n",
    "    binm_iT_set.append(binm_iT)\n",
    "    V_iT_set.append(V_iT)\n",
    "    FMSE_cond_mean_set.append(FMSE_cond_mean)\n",
    "    FMSE_cond_std_set.append(FMSE_cond_std)"
   ]
  },
  {
   "cell_type": "markdown",
   "metadata": {},
   "source": [
    "## Compare Potential and Bimodal distribution"
   ]
  },
  {
   "cell_type": "markdown",
   "metadata": {},
   "source": [
    "### Compare location of potential minima and the maxima in the PDF"
   ]
  },
  {
   "cell_type": "code",
   "execution_count": 139,
   "metadata": {},
   "outputs": [
    {
     "name": "stderr",
     "output_type": "stream",
     "text": [
      "No handles with labels found to put in legend.\n"
     ]
    },
    {
     "data": {
      "text/plain": [
       "<matplotlib.legend.Legend at 0x2aab6582ed30>"
      ]
     },
     "execution_count": 139,
     "metadata": {},
     "output_type": "execute_result"
    },
    {
     "data": {
      "image/png": "[encoded data removed]",
      "text/plain": [
       "<Figure size 432x288 with 1 Axes>"
      ]
     },
     "metadata": {},
     "output_type": "display_data"
    }
   ],
   "source": [
    "x_pot_max_set = []\n",
    "x_pot_min_set = []\n",
    "Vmin_set      = []\n",
    "Vmax_set      = []\n",
    "\n",
    "for i_exp, RCE_data in enumerate(RCE_exps):\n",
    "    \n",
    "    plt.plot(binm_iT_set[i_exp], V_iT_set[i_exp])\n",
    "    \n",
    "    #Calculate local minima and maxima using the conditional mean of the FMSE tendencies\n",
    "    xc_min, xc_max, xi, Vmin, Vmax = get_local_min_max(binm_iT_set[i_exp], np.squeeze(FMSE_cond_mean_set[i_exp]), np.squeeze(V_iT_set[i_exp]), return_max_three=True)\n",
    "    plt.vlines(xc_min, -1e9, 2e9, linestyle = ':', color = 'C%i'%i_exp) \n",
    "    plt.vlines(xc_max, -1e9, 2e9, linestyle = '--', color = 'C%i'%i_exp) \n",
    "    \n",
    "    x_pot_min_set.append(xc_min)\n",
    "    x_pot_max_set.append(xc_max)  \n",
    "    Vmin_set.append(Vmin)\n",
    "    Vmax_set.append(Vmax)\n",
    "    \n",
    "    plt.scatter(xc_min, Vmin, color = 'C%i'%i_exp)\n",
    "    plt.scatter(xc_max, Vmax, color = 'C%i'%i_exp)\n",
    "    \n",
    "plt.xlabel('MSE')\n",
    "plt.ylabel('V(MSE)')\n",
    "plt.ylim(ymin = -1e9, ymax = 2e9)\n",
    "plt.legend()"
   ]
  },
  {
   "cell_type": "code",
   "execution_count": 131,
   "metadata": {},
   "outputs": [
    {
     "data": {
      "image/png": "[encoded data removed]",
      "text/plain": [
       "<Figure size 432x288 with 1 Axes>"
      ]
     },
     "metadata": {},
     "output_type": "display_data"
    }
   ],
   "source": [
    "for i_exp, RCE_data in enumerate(RCE_exps):\n",
    "    plt.scatter(SST_exps[i_exp]*np.ones(len(x_pot_min_set[i_exp])), x_pot_min_set[i_exp], marker = '<', color = 'C%i'%i_exp)\n",
    "    plt.scatter(SST_exps[i_exp]*np.ones(len(x_pot_min_set[i_exp])), bins_fmse_max_set[i_exp], color = 'C%i'%i_exp)"
   ]
  },
  {
   "cell_type": "markdown",
   "metadata": {},
   "source": [
    "### Calculate energy barrier between potential minima (B) and compare to the Bimodality Amplitude (A_B)\n",
    "\n",
    "Def. of Bimodality amplitude see https://en.wikipedia.org/wiki/Multimodal_distribution"
   ]
  },
  {
   "cell_type": "code",
   "execution_count": 142,
   "metadata": {},
   "outputs": [],
   "source": [
    "B = np.ones(len(RCE_exps)).astype(float)\n",
    "\n",
    "for i_exp, RCE_data in enumerate(RCE_exps):\n",
    "    B[i_exp] = Vmax_set[i_exp]-np.mean(Vmin_set[i_exp])"
   ]
  },
  {
   "cell_type": "code",
   "execution_count": 143,
   "metadata": {},
   "outputs": [
    {
     "data": {
      "text/plain": [
       "<matplotlib.collections.PathCollection at 0x2aab754434a8>"
      ]
     },
     "execution_count": 143,
     "metadata": {},
     "output_type": "execute_result"
    },
    {
     "data": {
      "image/png": "[encoded data removed]",
      "text/plain": [
       "<Figure size 432x288 with 1 Axes>"
      ]
     },
     "metadata": {},
     "output_type": "display_data"
    }
   ],
   "source": [
    "plt.scatter(SST_exps, B)"
   ]
  },
  {
   "cell_type": "code",
   "execution_count": 171,
   "metadata": {},
   "outputs": [
    {
     "data": {
      "text/plain": [
       "<matplotlib.collections.PathCollection at 0x2aab6e3e5c18>"
      ]
     },
     "execution_count": 171,
     "metadata": {},
     "output_type": "execute_result"
    },
    {
     "data": {
      "image/png": "[encoded data removed]",
      "text/plain": [
       "<Figure size 432x288 with 1 Axes>"
      ]
     },
     "metadata": {},
     "output_type": "display_data"
    }
   ],
   "source": [
    "A_b_set = np.arange(len(RCE_exps)).astype(float)\n",
    "for i_exp in range(len(RCE_exps)):\n",
    "    A_b_set[i_exp] = (np.min(hist_fmse_max_set[i_exp])-hist_fmse_min_set[i_exp])/np.float(np.min(hist_fmse_max_set[i_exp]))\n",
    "    \n",
    "plt.scatter(SST_exps, A_b_set)"
   ]
  },
  {
   "cell_type": "code",
   "execution_count": 30,
   "metadata": {},
   "outputs": [
    {
     "data": {
      "text/plain": [
       "<matplotlib.colorbar.Colorbar at 0x2aab5dd57710>"
      ]
     },
     "execution_count": 30,
     "metadata": {},
     "output_type": "execute_result"
    },
    {
     "data": {
      "image/png": "[encoded data removed]",
      "text/plain": [
       "<Figure size 720x432 with 2 Axes>"
      ]
     },
     "metadata": {},
     "output_type": "display_data"
    }
   ],
   "source": [
    "#plt.figure(figsize = (10, 6))\n",
    "\n",
    "## Use logarithmic colormap\n",
    "#lev_exp = np.arange(-2, 0.0, 0.05)\n",
    "#levs = np.power(10.0, lev_exp)\n",
    "\n",
    "#plt.contourf(day_range, fmse_bin_mid, np.ma.masked_where(fmse_hist_2D <= 0, fmse_hist_2D).T*delta_fmse_bin, levs, norm=colors.LogNorm())\n",
    "#plt.xlabel('t [days]')\n",
    "#plt.ylabel('FMSE')\n",
    "\n",
    "#plt.ylim(ymax = 3.52e9)\n",
    "#plt.colorbar()"
   ]
  }
 ],
 "metadata": {
  "kernelspec": {
   "display_name": "Python 3",
   "language": "python",
   "name": "python3"
  },
  "language_info": {
   "codemirror_mode": {
    "name": "ipython",
    "version": 3
   },
   "file_extension": ".py",
   "mimetype": "text/x-python",
   "name": "python",
   "nbconvert_exporter": "python",
   "pygments_lexer": "ipython3",
   "version": "3.6.5"
  }
 },
 "nbformat": 4,
 "nbformat_minor": 2
}
