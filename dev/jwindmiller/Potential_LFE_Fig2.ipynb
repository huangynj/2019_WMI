{
 "cells": [
  {
   "cell_type": "code",
   "execution_count": 1,
   "metadata": {},
   "outputs": [],
   "source": [
    "import sys\n",
    "sys.path.insert(0, \"/users/jwindmil/2019_WMI/util\")\n",
    "\n",
    "# Initial imports\n",
    "import Landau_Potential_Diffusion as Landau\n",
    "import curvature as curve\n",
    "\n",
    "import xarray as xr\n",
    "import numpy as np\n",
    "import numpy.fft as fft\n",
    "import matplotlib.pyplot as plt\n",
    "import datetime\n",
    "from skimage import measure\n",
    "from scipy import ndimage, stats\n",
    "import scipy.integrate as sin\n",
    "from scipy.optimize import curve_fit\n",
    "from scipy.signal import argrelextrema\n",
    "from scipy.ndimage.filters import gaussian_filter1d\n",
    "import random\n",
    "import pandas as pd\n",
    "import dask.array as da\n",
    "import matplotlib as mpl\n",
    "\n",
    "import pickle"
   ]
  },
  {
   "cell_type": "code",
   "execution_count": 2,
   "metadata": {},
   "outputs": [],
   "source": [
    "def edgTObin(edges):\n",
    "    return 0.5*(edges[1:]+edges[:-1])"
   ]
  },
  {
   "cell_type": "code",
   "execution_count": 3,
   "metadata": {},
   "outputs": [],
   "source": [
    "def cm_to_inch(m_cm):\n",
    "    return m_cm/2.54"
   ]
  },
  {
   "cell_type": "code",
   "execution_count": 4,
   "metadata": {},
   "outputs": [],
   "source": [
    "def find_index(time_A, time_cond):\n",
    "    ind = np.where(time_A == time_cond)[0][0]\n",
    "    return ind "
   ]
  },
  {
   "cell_type": "code",
   "execution_count": 5,
   "metadata": {},
   "outputs": [],
   "source": [
    "def get_all_values(dic_values):\n",
    "    values = []\n",
    "    for i_k, key in enumerate(dic_values.keys()):\n",
    "        values.extend(dic_values[key])\n",
    "    return values"
   ]
  },
  {
   "cell_type": "markdown",
   "metadata": {},
   "source": [
    "Plot settings"
   ]
  },
  {
   "cell_type": "code",
   "execution_count": 73,
   "metadata": {},
   "outputs": [],
   "source": [
    "fz = 10\n",
    "lw = 1\n",
    "siz = 3\n",
    "\n",
    "col1 = np.array([255,126,14])/255\n",
    "col2 = np.array([43,160,43])/255\n",
    "col3 = np.array([31,119,179])/255\n",
    "\n",
    "col_A = ['C0', 'C1', 'C2']"
   ]
  },
  {
   "cell_type": "markdown",
   "metadata": {},
   "source": [
    "# Potential and LFE \n",
    "\n",
    "i) RCE\n",
    "\n",
    "ii) ERA 5"
   ]
  },
  {
   "cell_type": "markdown",
   "metadata": {},
   "source": [
    "### RCE"
   ]
  },
  {
   "cell_type": "markdown",
   "metadata": {},
   "source": [
    "Using the 506x506 simulation for consistency with Dave's work"
   ]
  },
  {
   "cell_type": "code",
   "execution_count": 7,
   "metadata": {},
   "outputs": [],
   "source": [
    "path_RCE = '/project/s916/davidle/RCE-MIP/simulations/RCE_300_3km_506x506/output/'"
   ]
  },
  {
   "cell_type": "code",
   "execution_count": 8,
   "metadata": {},
   "outputs": [
    {
     "name": "stderr",
     "output_type": "stream",
     "text": [
      "/users/jwindmil/venv-3.6/lib/python3.6/site-packages/xarray/backends/api.py:783: FutureWarning: In xarray version 0.13 `auto_combine` will be deprecated.\n",
      "  coords=coords)\n",
      "/users/jwindmil/venv-3.6/lib/python3.6/site-packages/xarray/backends/api.py:783: FutureWarning: The datasets supplied have global dimension coordinates. You may want\n",
      "to use the new `combine_by_coords` function (or the\n",
      "`combine='by_coords'` option to `open_mfdataset` to order the datasets\n",
      "before concatenation. Alternatively, to continue concatenating based\n",
      "on the order the datasets are supplied in in future, please use the\n",
      "new `combine_nested` function (or the `combine='nested'` option to\n",
      "open_mfdataset).\n",
      "  coords=coords)\n"
     ]
    }
   ],
   "source": [
    "RCE300 = xr.open_mfdataset(path_RCE+'lfff????????.nc', chunks={'time':100})"
   ]
  },
  {
   "cell_type": "code",
   "execution_count": 9,
   "metadata": {},
   "outputs": [
    {
     "name": "stdout",
     "output_type": "stream",
     "text": [
      "ibin= 30 / 30  & edge= 86.321466\r"
     ]
    }
   ],
   "source": [
    "dt = 3600; # Timestep in seconds\n",
    "tcoor = dt*np.arange(0,RCE300.time.shape[0])\n",
    "\n",
    "t_range = np.arange(0,np.size(RCE300.time)-2)\n",
    "dPW_dt = (RCE300.TQV.values[t_range+2,:,:]-RCE300.TQV.values[t_range,:,:])/(2*dt)\n",
    "dPW_dt = np.concatenate((dPW_dt[0:1,:,:],dPW_dt,np.tile(dPW_dt[-1,:,:],(1,1,1))),axis=0)\n",
    "\n",
    "bin0=np.percentile(a=RCE300.TQV[-24*7:,:,:],q=50,axis=(0,1,2))\n",
    "\n",
    "tmp,binm,V = Landau.Landau_energy(RCE300.TQV,dPW_dt,bin0,N_bins=30)"
   ]
  },
  {
   "cell_type": "code",
   "execution_count": 123,
   "metadata": {},
   "outputs": [],
   "source": [
    "dbin = (binm[1:]-binm[:-1])[0]\n",
    "binc = binm-0.5*dbin\n",
    "binc = np.append(binc, binc[-1]+dbin)"
   ]
  },
  {
   "cell_type": "code",
   "execution_count": 11,
   "metadata": {},
   "outputs": [],
   "source": [
    "Ffinal_RCE,binm_Ffinal_RCE,tmp = Landau.Landau_energy(RCE300.TQV.values,N_bins=30,V_fixed=V,bin_fixed=binm)"
   ]
  },
  {
   "cell_type": "code",
   "execution_count": 15,
   "metadata": {},
   "outputs": [],
   "source": [
    "SPINstart = 0 #days\n",
    "COALstart = 11 #days\n",
    "COARstart = 25 #days\n",
    "ENDstart = 85 # days"
   ]
  },
  {
   "cell_type": "markdown",
   "metadata": {},
   "source": [
    "Calculate Histogram"
   ]
  },
  {
   "cell_type": "code",
   "execution_count": 20,
   "metadata": {},
   "outputs": [],
   "source": [
    "CWV_PDF_SPIN,SPINedges = np.histogram(RCE300.TQV[:(24*COALstart),:,:],bins=binc,density=True)\n",
    "CWV_PDF_COAL,COALedges = np.histogram(RCE300.TQV[(24*COALstart):(24*COARstart),:,:],bins=binc,density=True)\n",
    "CWV_PDF_COAR,COARedges = np.histogram(RCE300.TQV[(24*ENDstart):,:,:],bins=binc,density=True)"
   ]
  },
  {
   "cell_type": "markdown",
   "metadata": {},
   "source": [
    "Calculate Contour"
   ]
  },
  {
   "cell_type": "code",
   "execution_count": 13,
   "metadata": {},
   "outputs": [
    {
     "name": "stdout",
     "output_type": "stream",
     "text": [
      "it= 2399                                               \r"
     ]
    }
   ],
   "source": [
    "dx = 3.3e3\n",
    "CL = np.zeros((np.size(tcoor),))\n",
    "\n",
    "perc_thresh_RCE = 88\n",
    "\n",
    "for it,t in enumerate(tcoor):\n",
    "    print('it=',it,'           ',end='\\r')\n",
    "    CWV_tmp = RCE300.TQV[it,:,:]\n",
    "    \n",
    "    CWV_binary = np.zeros(np.shape(CWV_tmp))\n",
    "    CWV_binary[CWV_tmp>np.percentile(RCE300.TQV[it,:,:], perc_thresh_RCE)] = 1\n",
    "\n",
    "    binary_boundary=np.copy(CWV_binary)\n",
    "    binary_boundary[:,1:-1]=0\n",
    "\n",
    "    L = dx*(measure.perimeter(CWV_binary,8)- np.sum(binary_boundary))\n",
    "        \n",
    "    CL[it] = L"
   ]
  },
  {
   "cell_type": "code",
   "execution_count": 122,
   "metadata": {},
   "outputs": [
    {
     "data": {
      "image/png": "[encoded data removed]",
      "text/plain": [
       "<Figure size 255.118x566.929 with 3 Axes>"
      ]
     },
     "metadata": {
      "needs_background": "light"
     },
     "output_type": "display_data"
    }
   ],
   "source": [
    "plt.rc('text', usetex=False)\n",
    "plt.rc('font', family='serif', size=fz)\n",
    "mpl.rcParams['lines.linewidth'] = lw\n",
    "plt.close('all')\n",
    "\n",
    "fig,ax = plt.subplots(2,1,figsize=(cm_to_inch(9), cm_to_inch(20)))\n",
    "plt.subplots_adjust(hspace=0.33)\n",
    "\n",
    "ax[0].set_xlim((15,80))\n",
    "# ax[0].set_ylim((-1.5e8,1e9))\n",
    "ax[0].set_title('a)',loc = 'left', pad=20)\n",
    "ax[0].set_xlabel(r'$\\mathrm{CWV}\\ \\left[\\mathrm{kg\\ m^{-2}}\\right]$')\n",
    "ax[0].set_ylabel(r'$\\mathrm{Potential\\ \\left[kg^{2}\\ m^{-4}\\ s^{-1}\\right]}$')\n",
    "\n",
    "ax[0].fill_between((edgTObin(SPINedges)),V,V+CWV_PDF_SPIN*5e-4,color=col_A[0], alpha = 0.25)\n",
    "ax[0].fill_between((edgTObin(COALedges)),V,V+CWV_PDF_COAL*5e-4,color=col_A[1], alpha = 0.25)\n",
    "ax[0].fill_between((edgTObin(COARedges)),V,V+CWV_PDF_COAR*5e-4,color=col_A[2], alpha = 0.25)\n",
    "\n",
    "\n",
    "ax[0].plot((edgTObin(SPINedges)),V+CWV_PDF_SPIN*5e-4,color=col_A[0],label='0d-11d')\n",
    "ax[0].plot((edgTObin(COALedges)),V+CWV_PDF_COAL*5e-4,color=col_A[1],label='11d-25d')\n",
    "ax[0].plot((edgTObin(COARedges)),V+CWV_PDF_COAR*5e-4,color=col_A[2],label='85d-100d')\n",
    "ax[0].legend(frameon=False,loc='upper right')\n",
    "\n",
    "ax[0].plot(binm,V,color='k')\n",
    "\n",
    "axbis = ax[1].twinx()\n",
    "axbis.plot(tcoor/(24*3600),CL/1e3,color='C3')\n",
    "\n",
    "ymin_C, ymax_C = 0, np.max(CL)/1e3\n",
    "\n",
    "axbis.spines['right'].set_color('C3')\n",
    "axbis.tick_params(axis='y', colors='C3')\n",
    "axbis.set_ylim((ymin_C, ymax_C))\n",
    "axbis.set_ylabel('Contour Length [km]',color='C3')\n",
    "\n",
    "\n",
    "ax[0].spines['top'].set_visible(False)\n",
    "axbis.spines['top'].set_visible(False)\n",
    "\n",
    "ax[0].spines['right'].set_visible(False)\n",
    "axbis.spines['right'].set_visible(False)\n",
    "\n",
    "ax[1].plot(tcoor/(24*3600),Ffinal_RCE,color='k')\n",
    "ymin_F, ymax_F = ax[1].get_ylim()\n",
    "\n",
    "# From https://matplotlib.org/3.1.1/gallery/lines_bars_and_markers/fill_between_demo.html\n",
    "import matplotlib.transforms as mtransforms\n",
    "trans = mtransforms.blended_transform_factory(ax[1].transData, ax[1].transAxes)\n",
    "period_y_max, period_y_min = -0.03, 0.02\n",
    "\n",
    "ax[1].fill_between(x=tcoor/(24*3600),y1=period_y_min,y2=period_y_max,where=(tcoor/(24*3600)<=11)&(tcoor/(24*3600)>=0),\n",
    "                   facecolor=col_A[0],alpha=0.5,transform=trans, clip_on=False)\n",
    "ax[1].fill_between(x=tcoor/(24*3600),y1=period_y_min,y2=period_y_max,where=(tcoor/(24*3600)<=25)&(tcoor/(24*3600)>=11),\n",
    "                   facecolor=col_A[1],alpha=0.5,transform=trans, clip_on=False)\n",
    "ax[1].fill_between(x=tcoor/(24*3600),y1=period_y_min,y2=period_y_max,where=(tcoor/(24*3600)<=100)&(tcoor/(24*3600)>=85),\n",
    "                   facecolor=col_A[2],alpha=0.5,transform=trans, clip_on=False)\n",
    "\n",
    "ax[1].set_title('c)',loc='left', pad=20)\n",
    "ax[1].set_xlim((-0.75,100))\n",
    "ax[1].set_ylim((ymin_F, ymax_F))\n",
    "ax[1].set_xlabel('Time [day]')\n",
    "ax[1].set_ylabel(r'$\\mathrm{Free\\ Energy\\ \\left[kg^{2}\\ m^{-4}\\ s^{-1}\\right]}$')\n",
    "\n",
    "ax[0].ticklabel_format(style='sci',scilimits=(-3,4),axis='y')\n",
    "ax[1].ticklabel_format(style='sci',scilimits=(-3,4),axis='y')\n",
    "axbis.ticklabel_format(style='sci',scilimits=(-3,4),axis='y')\n",
    "\n",
    "ax[1].spines['top'].set_visible(False)\n",
    "axbis.spines['top'].set_visible(False)\n",
    "\n",
    "\n",
    "plt.subplots_adjust(hspace = 0.4)\n",
    "\n",
    "plt.savefig('./Figures/Fig_2a_c.pdf', bbox_inches = \"tight\")"
   ]
  },
  {
   "cell_type": "markdown",
   "metadata": {},
   "source": [
    "### ERA 5"
   ]
  },
  {
   "cell_type": "code",
   "execution_count": 18,
   "metadata": {},
   "outputs": [],
   "source": [
    "path_ERA = '/project/s916/ERA5_Tom/'"
   ]
  },
  {
   "cell_type": "code",
   "execution_count": 68,
   "metadata": {},
   "outputs": [],
   "source": [
    "thresh_era5 = 83"
   ]
  },
  {
   "cell_type": "markdown",
   "metadata": {},
   "source": [
    "Restrict our analysis to a band of the tropical Atlantic"
   ]
  },
  {
   "cell_type": "code",
   "execution_count": 21,
   "metadata": {},
   "outputs": [],
   "source": [
    "latmin = -23\n",
    "latmax = 23\n",
    "lonmin = 360-34\n",
    "lonmax = 360-18"
   ]
  },
  {
   "cell_type": "code",
   "execution_count": 22,
   "metadata": {},
   "outputs": [],
   "source": [
    "date1, date2 = np.datetime64('2000-01-01T00:00'), np.datetime64('2017-12-31T23:00')\n",
    "dt = 3600"
   ]
  },
  {
   "cell_type": "code",
   "execution_count": 23,
   "metadata": {},
   "outputs": [],
   "source": [
    "PW = xr.open_mfdataset(path_ERA+'????/??PW.nc',combine='by_coords', chunks={'time':100})"
   ]
  },
  {
   "cell_type": "code",
   "execution_count": 24,
   "metadata": {},
   "outputs": [],
   "source": [
    "PWAtl = PW['tcwv'].sel({'time':slice(date1, date2), 'longitude':slice(lonmin,lonmax),'latitude':slice(latmax,latmin)})\n",
    "lonAtl = PW.longitude.sel({'longitude':slice(lonmin,lonmax)})\n",
    "latAtl = PW.latitude.sel({'latitude':slice(latmax,latmin)})"
   ]
  },
  {
   "cell_type": "code",
   "execution_count": 25,
   "metadata": {},
   "outputs": [],
   "source": [
    "time_A = PWAtl.time.values"
   ]
  },
  {
   "cell_type": "code",
   "execution_count": 67,
   "metadata": {},
   "outputs": [
    {
     "name": "stdout",
     "output_type": "stream",
     "text": [
      "i= 17  & year= 2017  \r"
     ]
    }
   ],
   "source": [
    "CONJUL_data = {}\n",
    "\n",
    "path_PKL = '/users/jwindmil/2019_WMI/dev/jwindmiller/PKL_DATA/'\n",
    "\n",
    "for i,year in enumerate(range(2000,2018)):\n",
    "    print('i=',i,' & year=',year,' ',end='\\r')\n",
    "    hf = open(path_PKL+'CONTOURL_PW_%i_%i_%i_%i_%i_'%(latmin, latmax, lonmin, lonmax, thresh_era5)+str(year)+'.pkl','rb') # open('../jwindmiller/PKL_DATA/10_17_CONTOURL'+str(year)+'.pkl','rb')\n",
    "    tmp = pickle.load(hf)\n",
    "    CONJUL_data[year] = tmp['Tot_Contour_km'][str(year)]\n",
    "    \n",
    "cont_t = np.array(get_all_values(CONJUL_data))"
   ]
  },
  {
   "cell_type": "markdown",
   "metadata": {},
   "source": [
    "#### Calculate Potential and LFE"
   ]
  },
  {
   "cell_type": "code",
   "execution_count": 28,
   "metadata": {},
   "outputs": [
    {
     "data": {
      "text/plain": [
       "[numpy.datetime64('2005-11-23T14:00:00.000000000'),\n",
       " numpy.datetime64('2005-12-04T14:00:00.000000000'),\n",
       " numpy.datetime64('2005-12-07T14:00:00.000000000')]"
      ]
     },
     "execution_count": 28,
     "metadata": {},
     "output_type": "execute_result"
    }
   ],
   "source": [
    "with open('../jwindmiller/PKL_DATA/pik_times.dat', 'rb') as f:\n",
    "    times_A = pickle.load(f)\n",
    "times_A"
   ]
  },
  {
   "cell_type": "code",
   "execution_count": 30,
   "metadata": {},
   "outputs": [],
   "source": [
    "times_Vstart = times_A[0] \n",
    "times_Vend   = times_A[1] \n",
    "\n",
    "ileftV = find_index(time_A, np.datetime64(times_Vstart))\n",
    "irightV = find_index(time_A, np.datetime64(times_Vend))"
   ]
  },
  {
   "cell_type": "code",
   "execution_count": 31,
   "metadata": {},
   "outputs": [],
   "source": [
    "PWAtl_res = PWAtl[ileftV-1:irightV+2,:,:].values # If can't fit in the memory, can't calculate potential"
   ]
  },
  {
   "cell_type": "code",
   "execution_count": 32,
   "metadata": {},
   "outputs": [],
   "source": [
    "dPW_dt = (PWAtl_res[2:,:,:]-PWAtl_res[:-2,:,:])/(2*dt)"
   ]
  },
  {
   "cell_type": "markdown",
   "metadata": {},
   "source": [
    "Calculate Potential"
   ]
  },
  {
   "cell_type": "code",
   "execution_count": 33,
   "metadata": {},
   "outputs": [
    {
     "name": "stdout",
     "output_type": "stream",
     "text": [
      "ibin= 50 / 50  & edge= 70.330814\r"
     ]
    }
   ],
   "source": [
    "tmp,binm_Vfinal,Vfinal = Landau.Landau_energy(PWAtl_res[1:-1,:,:],dPW_dt,N_bins=50)"
   ]
  },
  {
   "cell_type": "markdown",
   "metadata": {},
   "source": [
    "Calculate LFE"
   ]
  },
  {
   "cell_type": "code",
   "execution_count": 34,
   "metadata": {},
   "outputs": [],
   "source": [
    "date_startF = times_A[0] \n",
    "date_endF   = times_A[-1]\n",
    "\n",
    "ileftF = find_index(time_A, np.datetime64(date_startF))\n",
    "irightF = find_index(time_A, np.datetime64(date_endF))\n",
    "PWAtl_F = PWAtl[ileftF:irightF,:,:]\n",
    "Ffinal,binm_Ffinal,tmp = Landau.Landau_energy(PWAtl_F.values,N_bins=30,V_fixed=Vfinal,bin_fixed=binm_Vfinal)"
   ]
  },
  {
   "cell_type": "markdown",
   "metadata": {},
   "source": [
    "Calculate histograms of CWV using bins of Potential"
   ]
  },
  {
   "cell_type": "code",
   "execution_count": 36,
   "metadata": {},
   "outputs": [],
   "source": [
    "dbin_Vfinal = (binm_Vfinal[1:]-binm_Vfinal[:-1])[0]\n",
    "binc_Vfinal = binm_Vfinal-0.5*dbin_Vfinal\n",
    "binc_Vfinal = np.append(binc_Vfinal, binc_Vfinal[-1]+dbin_Vfinal)"
   ]
  },
  {
   "cell_type": "code",
   "execution_count": 37,
   "metadata": {},
   "outputs": [
    {
     "data": {
      "text/plain": [
       "dict_keys(['23-Nov', '04-Dec', '07-Dec'])"
      ]
     },
     "execution_count": 37,
     "metadata": {},
     "output_type": "execute_result"
    }
   ],
   "source": [
    "dic_hist = {}\n",
    "times_labels = pd.to_datetime(times_A).strftime(\"%d-%b\")\n",
    "times_year   = int(pd.to_datetime(times_A[0]).strftime(\"%Y\"))\n",
    "\n",
    "for i, time in enumerate(times_A):\n",
    "    tmp = np.squeeze(PWAtl.sel({'time':slice(time-np.timedelta64(6,'h'), time+np.timedelta64(6,'h'))}).values)\n",
    "    hist, edges = np.histogram(np.ndarray.flatten(tmp), density = True, bins = binc_Vfinal)\n",
    "    \n",
    "    dic_hist[times_labels[i]]=hist\n",
    "    \n",
    "dic_hist.keys()"
   ]
  },
  {
   "cell_type": "markdown",
   "metadata": {},
   "source": [
    "Plot Potential"
   ]
  },
  {
   "cell_type": "code",
   "execution_count": 124,
   "metadata": {},
   "outputs": [
    {
     "name": "stdout",
     "output_type": "stream",
     "text": [
      "2005-11-23T02:00:00.000000000 2005-11-24T02:00:00.000000000\n",
      "12\n",
      "2005-12-04T02:00:00.000000000 2005-12-05T02:00:00.000000000\n",
      "13\n",
      "2005-12-07T02:00:00.000000000 2005-12-08T02:00:00.000000000\n",
      "12\n"
     ]
    },
    {
     "data": {
      "image/png": "[encoded data removed]",
      "text/plain": [
       "<Figure size 255.118x566.929 with 3 Axes>"
      ]
     },
     "metadata": {
      "needs_background": "light"
     },
     "output_type": "display_data"
    }
   ],
   "source": [
    "plt.rc('text', usetex=False)\n",
    "plt.rc('font', family='serif', size=fz)\n",
    "mpl.rcParams['lines.linewidth'] = lw\n",
    "plt.close('all')\n",
    "\n",
    "option = 'Agg' # Aggregating, potential averaged from imin_left to imax\n",
    "option = 'Dis' # Disaggregating, potential averaged from imax to imin_right\n",
    "\n",
    "fig,ax = plt.subplots(2,1,figsize=(cm_to_inch(9), cm_to_inch(20)))\n",
    "plt.subplots_adjust(hspace=0.33)\n",
    "\n",
    "\n",
    "ax[0].set_title('b)',pad=20, loc = 'left')\n",
    "ax[0].set_xlabel(r'CWV [kg m$^{-2}$]')\n",
    "ax[0].set_ylabel(r'Potential [J$^{2}$ m$^{-4}$ s$^{-1}$]')\n",
    "#ax[0].yaxis.tick_right()\n",
    "#ax[0].yaxis.set_label_position(\"right\")\n",
    "\n",
    "ax[0].set_xlim(10,70)\n",
    "\n",
    "for i, time_lab in enumerate(times_labels):\n",
    "    ax[0].fill_between(binm_Vfinal, Vfinal, Vfinal+dic_hist[time_lab]*5e-3,color=col_A[i],label=time_lab, alpha = 0.25)\n",
    "    ax[0].plot(binm_Vfinal, Vfinal+dic_hist[time_lab]*5e-3,color=col_A[i])\n",
    "    \n",
    "ax[0].plot(binm_Vfinal, Vfinal,color='k')\n",
    "    \n",
    "nam = 'Fig2b.pdf'\n",
    "\n",
    "ax[0].legend(frameon=False)\n",
    "\n",
    "time_period = time_A[np.where((time_A>times_A[0]-np.timedelta64(6,'h'))&(time_A<times_A[-1]+np.timedelta64(6,'h')))]\n",
    "cont_period = cont_t[np.where((time_A>times_A[0]-np.timedelta64(6,'h'))&(time_A<times_A[-1]+np.timedelta64(6,'h')))]\n",
    "\n",
    "axbis = ax[1].twinx()\n",
    "axbis.plot(time_period, cont_period,color='C3')\n",
    "axbis.plot(time_period, gaussian_filter1d(cont_period, sigma=12), 'C3:')\n",
    "axbis.spines['right'].set_color('C3')\n",
    "axbis.tick_params(axis='y', colors='C3')\n",
    "\n",
    "axbis.set_ylabel('Contour Length [km]',color='C3')\n",
    "\n",
    "ax[0].spines['top'].set_visible(False)\n",
    "axbis.spines['top'].set_visible(False)\n",
    "\n",
    "ax[0].spines['right'].set_visible(False)\n",
    "axbis.spines['right'].set_visible(False)\n",
    "\n",
    "ax[1].plot(PWAtl_F.time, Ffinal,color='k')\n",
    "plt.setp(ax[1].xaxis.get_majorticklabels(), rotation=70 )\n",
    "\n",
    "\n",
    "# plt.ylim(100, 300)\n",
    "# ax1 = plt.gca()\n",
    "# ax2 = plt.twinx(ax1)\n",
    "# ax2.plot(time_period, cont_period, 'C1')\n",
    "# ax2.plot(time_period, gaussian_filter1d(cont_period, sigma=12), 'C1:')\n",
    "# #plt.xlim(date_startF[i_d], date_endF[i_d])\n",
    "# plt.ylim(1000, 10000)\n",
    "# plt.ylabel('Contour length', color = 'C1')\n",
    "\n",
    "ymin_F, ymax_F = 1.0e-4, 3.0e-4 #ax[1].get_ylim()\n",
    "ymin_C, ymax_C = 1e3, 1e4 # ax[0].get_ylim()\n",
    "\n",
    "axbis.set_ylim(ymin_C, ymax_C)\n",
    "\n",
    "# From https://matplotlib.org/3.1.1/gallery/lines_bars_and_markers/fill_between_demo.html\n",
    "import matplotlib.transforms as mtransforms\n",
    "trans = mtransforms.blended_transform_factory(ax[1].transData, ax[1].transAxes)\n",
    "\n",
    "for i, time in enumerate(times_A):\n",
    "\n",
    "    print(time-np.timedelta64(12,'h'), time+np.timedelta64(12,'h'))\n",
    "    ax[1].fill_between(x=time_period,y1=period_y_min,y2=period_y_max,where=(time_period<=(time+np.timedelta64(6,'h')))&(time_period>=(time-np.timedelta64(6,'h'))),\n",
    "                       facecolor=col_A[i],alpha=0.5,transform=trans, clip_on = False)\n",
    "    \n",
    "    print(len(np.where(((time_period>=(time-np.timedelta64(6,'h')))&(time_period<=(time+np.timedelta64(6,'h')))))[0]))\n",
    "\n",
    "ax[1].set_xlim((time_period.min(),time_period.max()))\n",
    "ax[1].set_ylim((ymin_F, ymax_F))\n",
    "ax[1].set_title('d)',loc='left', pad = 20)\n",
    "ax[1].set_ylabel(r'Free Energy [kg$^{2}$ m$^{-4}$ s$^{-1}$]')\n",
    "\n",
    "ax[0].ticklabel_format(style='sci',scilimits=(-3,4),axis='y')\n",
    "ax[1].ticklabel_format(style='sci',scilimits=(-3,4),axis='y')\n",
    "axbis.ticklabel_format(style='sci',scilimits=(-3,4),axis='y')\n",
    "\n",
    "plt.subplots_adjust(hspace = 0.4)\n",
    "\n",
    "ax[1].spines['top'].set_visible(False)\n",
    "axbis.spines['top'].set_visible(False)\n",
    "\n",
    "plt.savefig('./Figures/Fig_2b_d.pdf', bbox_inches = \"tight\")"
   ]
  },
  {
   "cell_type": "code",
   "execution_count": null,
   "metadata": {},
   "outputs": [],
   "source": []
  }
 ],
 "metadata": {
  "kernelspec": {
   "display_name": "Python 3",
   "language": "python",
   "name": "python3"
  },
  "language_info": {
   "codemirror_mode": {
    "name": "ipython",
    "version": 3
   },
   "file_extension": ".py",
   "mimetype": "text/x-python",
   "name": "python",
   "nbconvert_exporter": "python",
   "pygments_lexer": "ipython3",
   "version": "3.6.5"
  }
 },
 "nbformat": 4,
 "nbformat_minor": 4
}
